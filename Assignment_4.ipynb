{
  "nbformat": 4,
  "nbformat_minor": 0,
  "metadata": {
    "colab": {
      "name": "Assignment_4.ipynb",
      "provenance": [],
      "toc_visible": true,
      "machine_shape": "hm"
    },
    "kernelspec": {
      "name": "python3",
      "display_name": "Python 3"
    },
    "accelerator": "GPU"
  },
  "cells": [
    {
      "cell_type": "markdown",
      "metadata": {
        "id": "3GM9DBN-Qz3k"
      },
      "source": [
        "# Assignment 4\n",
        "\n",
        "**Due to**: TBD\n",
        "\n",
        "**Credits**: Andrea Galassi, Federico Ruggeri, Paolo Torroni\n",
        "\n",
        "**Summary**: Fact checking, Neural Languange Inference (**NLI**)"
      ]
    },
    {
      "cell_type": "markdown",
      "metadata": {
        "id": "tO_-4CZeRCO7"
      },
      "source": [
        "# Intro\n",
        "\n",
        "This assignment is centred on a particular and emerging NLP task, formally known as **fact checking** (or fake checking). As AI techniques become more and more powerful, reaching amazing results, such as image and text generation, it is more than ever necessary to build tools able to distinguish what is real from what is fake.\n",
        "\n",
        "Here we focus on a small portion of the whole fact checking problem, which aims to determine whether a given statement (fact) conveys a trustworthy information or not. \n",
        "\n",
        "More precisely, given a set of evidences and a fact to verify, we would like our model to correctly predict whether the fact is true or fake.\n",
        "\n",
        "In particular, we will see:\n",
        "\n",
        "*   Dataset preparation (analysis and pre-processing)\n",
        "*   Problem formulation: multi-input binary classification\n",
        "*   Defining an evaluation method\n",
        "*   Simple sentence embedding\n",
        "*   Neural building blocks\n",
        "*   Neural architecture extension"
      ]
    },
    {
      "cell_type": "markdown",
      "metadata": {
        "id": "hGDwg78PS_uy"
      },
      "source": [
        "# The FEVER dataset\n",
        "\n",
        "First of all, we need to choose a dataset. In this assignment we will rely on the [FEVER dataset](https://fever.ai).\n",
        "\n",
        "The dataset is about facts taken from Wikipedia documents that have to be verified. In particular, facts could face manual modifications in order to define fake information or to give different formulations of the same concept.\n",
        "\n",
        "The dataset consists of 185,445 claims manually verified against the introductory sections of Wikipedia pages and classified as ```Supported```, ```Refuted``` or ```NotEnoughInfo```. For the first two classes, systems and annotators need to also return the combination of sentences forming the necessary evidence supporting or refuting the claim."
      ]
    },
    {
      "cell_type": "markdown",
      "metadata": {
        "id": "4Oa5FpVpT7p4"
      },
      "source": [
        "## Dataset structure\n",
        "\n",
        "Relevant data is divided into two file types. Information concerning the fact to verify, its verdict and associated supporting/opposing statements are stored in **.jsonl** format. In particular, each JSON element is a python dictionary with the following relevant fields:\n",
        "\n",
        "*    **ID**: ID associated to the fact to verify.\n",
        "\n",
        "*    **Verifiable**: whether the fact has been verified or not: ```VERIFIABLE``` or ```NOT VERIFIABLE```.\n",
        "    \n",
        "*    **Label**: the final verdict on the fact to verify: ```SUPPORTS```, ```REFUTES``` or ```NOT ENOUGH INFO```.\n",
        "    \n",
        "*    **Claim**: the fact to verify.\n",
        "    \n",
        "*    **Evidence**: a nested list of document IDs along with the sentence ID that is associated to the fact to verify. In particular, each list element is a tuple of four elements: the first two are internal annotator IDs that can be safely ignored; the third term is the document ID (called URL) and the last one is the sentence number (ID) in the pointed document to consider.\n",
        "\n",
        "**Some Examples**\n",
        "\n",
        "---\n",
        "\n",
        "**Verifiable**\n",
        "\n",
        "{\"id\": 202314, \"verifiable\": \"VERIFIABLE\", \"label\": \"REFUTES\", \"claim\": \"The New Jersey Turnpike has zero shoulders.\", \"evidence\": [[[238335, 240393, \"New_Jersey_Turnpike\", 15]]]}\n",
        "\n",
        "---\n",
        "\n",
        "**Not Verifiable**\n",
        "\n",
        "{\"id\": 113501, \"verifiable\": \"NOT VERIFIABLE\", \"label\": \"NOT ENOUGH INFO\", \"claim\": \"Grease had bad reviews.\", \"evidence\": [[[133128, null, null, null]]]}\n",
        "\n",
        "---"
      ]
    },
    {
      "cell_type": "markdown",
      "metadata": {
        "id": "nex_8UM4VWuY"
      },
      "source": [
        "## Some simplifications and pre-processing\n",
        "\n",
        "We are only interested in verifiable facts. Thus, we can filter out all non-verifiable claims.\n",
        "\n",
        "Additionally, the current dataset format does not contain all necessary information for our classification purposes. In particular, we need to download Wikipedia documents and replace reported evidence IDs with the corresponding text.\n",
        "\n",
        "Don't worry about that! We are providing you the already pre-processed dataset so that you can concentrate on the classification pipeline (pre-processing, model definition, evaluation and training).\n",
        "\n",
        "You can download the zip file containing all set splits (train, validation and test) of the FEVER dataset by clicking on this [link](https://drive.google.com/file/d/1wArZhF9_SHW17WKNGeLmX-QTYw9Zscl1/view?usp=sharing). Alternatively, run the below code cell to automatically download it on this notebook.\n",
        "\n",
        "**Note**: each dataset split is in .csv format. Feel free to inspect the whole dataset!"
      ]
    },
    {
      "cell_type": "code",
      "metadata": {
        "id": "BspxZcRjW0NG"
      },
      "source": [
        "import os\n",
        "import requests\n",
        "import zipfile\n",
        "\n",
        "def save_response_content(response, destination):\n",
        "    CHUNK_SIZE = 32768\n",
        "\n",
        "    with open(destination, \"wb\") as f:\n",
        "        for chunk in response.iter_content(CHUNK_SIZE):\n",
        "            if chunk: # filter out keep-alive new chunks\n",
        "                f.write(chunk)\n",
        "\n",
        "def download_data(data_path):\n",
        "    toy_data_path = os.path.join(data_path, 'fever_data.zip')\n",
        "    toy_data_url_id = \"1wArZhF9_SHW17WKNGeLmX-QTYw9Zscl1\"\n",
        "    toy_url = \"https://docs.google.com/uc?export=download\"\n",
        "\n",
        "    if not os.path.exists(data_path):\n",
        "        os.makedirs(data_path)\n",
        "\n",
        "    if not os.path.exists(toy_data_path):\n",
        "        print(\"Downloading FEVER data splits...\")\n",
        "        with requests.Session() as current_session:\n",
        "            response = current_session.get(toy_url,\n",
        "                                   params={'id': toy_data_url_id},\n",
        "                                   stream=True)\n",
        "        save_response_content(response, toy_data_path)\n",
        "        print(\"Download completed!\")\n",
        "\n",
        "        print(\"Extracting dataset...\")\n",
        "        with zipfile.ZipFile(toy_data_path) as loaded_zip:\n",
        "            loaded_zip.extractall(data_path)\n",
        "        print(\"Extraction completed!\")\n",
        "\n",
        "download_data('dataset')"
      ],
      "execution_count": 1,
      "outputs": []
    },
    {
      "cell_type": "markdown",
      "metadata": {
        "id": "RbH_8errW5MH"
      },
      "source": [
        "# Classification dataset\n",
        "\n",
        "At this point, you should have a reay-to-go dataset! Note that the dataset format changed as well! In particular, we split the evidence set associated to each claim, in order to build (claim, evidence) pairs. The classification label is propagated as well.\n",
        "\n",
        "We'll motivate this decision in the next section!\n",
        "\n",
        "Just for clarity, here's an example of the pre-processed dataset:\n",
        "\n",
        "---\n",
        "\n",
        "**Claim**: \"Wentworth Miller is yet to make his screenwriting debut.\"\n",
        "\n",
        "**Evidence**: \"2\tHe made his screenwriting debut with the 2013 thriller film Stoker .\tStoker\tStoker (film)\"\n",
        "\n",
        "**Label**: Refutes\n",
        "\n",
        "---\n",
        "\n",
        "**Note**: The dataset requires some text cleaning as you may notice!\n"
      ]
    },
    {
      "cell_type": "markdown",
      "metadata": {
        "id": "gH8hIK21Xrl0"
      },
      "source": [
        "# Problem formulation\n",
        "\n",
        "As mentioned at the beginning of the assignment, we are going to formulate the fact checking problem as a binary classification task.\n",
        "\n",
        "In particular, each dataset sample is comprised of:\n",
        "\n",
        "*     A claim to verify\n",
        "*     A set of semantically related statements (evidence set)\n",
        "*     Fact checking label: either evidences support or refute the claim.\n",
        "\n",
        "Handling the evidence set from the point of view of neural models may imply some additional complexity: if the evidence set is comprised of several sentences we might incur in memory problems.\n",
        "\n",
        "To this end, we further simplify the problem by building (claim, evidence) pairs. The fact checking label is propagated as well.\n",
        "\n",
        "Example:\n",
        "\n",
        "     Claim: c1 \n",
        "     Evidence set: [e1, e2, e3]\n",
        "     Label: S (support)\n",
        "\n",
        "--->\n",
        "\n",
        "    (c1, e1, S),\n",
        "    (c1, e2, S),\n",
        "    (c1, e3, S)"
      ]
    },
    {
      "cell_type": "markdown",
      "metadata": {
        "id": "E46flIz_zQy-"
      },
      "source": [
        "## Schema\n",
        "\n",
        "The overall binary classification problem is summed up by the following (simplified) schema\n",
        "\n",
        "![](https://drive.google.com/uc?export=view&id=1Wm_YBnFwgJtxcWEBpPbTBEVkpKaL08Jp)\n",
        "\n",
        "Don't worry too much about the **Encoding** block for now. We'll give you some simple guidelines about its definition. For the moment, stick to the binary classification task definition where, in this case, we have 2 inputs: the claim to verify and one of its associated evidences."
      ]
    },
    {
      "cell_type": "markdown",
      "metadata": {
        "id": "LsiTV-NVdgsF"
      },
      "source": [
        "# Architecture Guidelines\n",
        "\n",
        "There are many neural architectures that follow the above schema. To avoid phenomena like the writer's block, in this section we are going to give you some implementation guidelines.\n",
        "\n",
        "In particular, we would like you to test some implementations so that you explore basic approaches (neural baselines) and use them as building blocks for possible extensions."
      ]
    },
    {
      "cell_type": "markdown",
      "metadata": {
        "id": "ZJBQm47fe7iE"
      },
      "source": [
        "## Handling multiple inputs\n",
        "\n",
        "The first thing to notice is that we are in a multi-input scenario. In particular, each sample is comprised of a fact and its asssociated evidence statement.\n",
        "\n",
        "Each of these input is encoded as a sequence of tokens. In particular, we will have the following input matrices:\n",
        "\n",
        "*    Claim: [batch_size, max_tokens]\n",
        "*    Evidence: [batch_size, max_tokens]\n",
        "\n",
        "Moreover, after the embedding layer, we'll have:\n",
        "\n",
        "*    Claim: [batch_size, max_tokens, embedding_dim]\n",
        "*    Evidence: [batch_size, max_tokens, embedding_dim]\n",
        "\n",
        "But, we would like to have a 2D input to our classifier, since we have to give an answer at pair level. Therefore, for each sample, we would expect the following input shape to our classification block:\n",
        "\n",
        "*   Classification input shape: [batch_size, dim]\n",
        "\n",
        "**How to do that?**\n",
        "\n",
        "We inherently need to reduce the token sequence to a single representation. This operation is formally known as **sentence embedding**. Indeed, we are trying to compress the information of a whole sequence into a single embedding vector.\n",
        "\n",
        "Here are some simple solutions that we ask you to try out:\n",
        "\n",
        "*   Encode token sequences via a RNN and take the last state as the sentence embedding.\n",
        "\n",
        "*   Encode token sequences via a RNN and average all the output states.\n",
        "\n",
        "*   Encode token sequences via a simple MLP layer. In particular, if your input is a [batch_size, max_tokens, embedding_dim] tensor, the matrix multiplication works on the **max_tokens** dimension, resulting in a [batch_size, embedding_dim] 2D matrix.\n",
        "\n",
        "*   Compute the sentence embedding as the mean of its token embeddings (**bag of vectors**)."
      ]
    },
    {
      "cell_type": "markdown",
      "metadata": {
        "id": "Gypl5z5ElJo1"
      },
      "source": [
        "## Merging multi-inputs\n",
        "\n",
        "At this point, we have to think about **how** we should merge evidence and claim sentence embeddings.\n",
        "\n",
        "For simplicity, we stick to simple merging strategies:\n",
        "\n",
        "*     **Concatenation**: define the classification input as the concatenation of evidence and claim sentence embeddings\n",
        "\n",
        "*     **Sum**: define the classification input as the sum of evidence and claim sentence embeddings\n",
        "\n",
        "*     **Mean**: define the classification input as the mean of evidence and claim sentence embeddings\n",
        "\n",
        "For clarity, if we the sentence embedding of a single input has shape [batch_size, embedding_dim], then the classification input has shape:\n",
        "\n",
        "*     **Concatenation**: [batch_size, 2 * embedding_dim]\n",
        "\n",
        "*     **Sum**: [batch_size, embedding_dim]\n",
        "\n",
        "*     **Mean**: [batch_size, embedding_dim]"
      ]
    },
    {
      "cell_type": "markdown",
      "metadata": {
        "id": "IhVg9ZLymOUc"
      },
      "source": [
        "# A simple extension\n",
        "\n",
        "Lastly, we ask you to modify previously defined neural architectures by adding an additional feature to the classification input.\n",
        "\n",
        "We would like to see if some similarity information between the claim to verify and one of its associated evidence might be useful to the classification.\n",
        "\n",
        "Compute the cosine similarity metric between the two sentence embeddings and concatenate the result to the classification input.\n",
        "\n",
        "For clarity, since the cosine similarity of two vectors outputs a scalar value, the classification input shape is modified as follows:\n",
        "\n",
        "*     **Concatenation**: [batch_size, 2 * embedding_dim + 1]\n",
        "\n",
        "*     **Sum**: [batch_size, embedding_dim + 1]\n",
        "\n",
        "*     **Mean**: [batch_size, embedding_dim + 1]\n",
        "\n"
      ]
    },
    {
      "cell_type": "markdown",
      "metadata": {
        "id": "Nd74ULgpnJrc"
      },
      "source": [
        "# Performance evaluation\n",
        "\n",
        "Due to our simplifications, obtained results are not directly compatible with a traditional fact checking method that considers the evidence set as a whole.\n",
        "\n",
        "Thus, we need to consider two types of evaluations.\n",
        "\n",
        "**Multi-input classification evaluation**\n",
        "\n",
        "This type of evaluation is the easiest and concerns computing evaluation metrics, such as accuracy, f1-score, recall and precision, of our pre-processed dataset.\n",
        "\n",
        "In other words, we assess the performance of chosen classifiers.\n",
        "\n",
        "**Claim verification evaluation**\n",
        "\n",
        "However, if we want to give an answer concerning the claim itself, we need to consider the whole evidence set. \n",
        "\n",
        "Intuitively, for a given claim, we consider all its corresponding (claim, evidence) pairs and their corresponding classification outputs. \n",
        "\n",
        "At this point, all we need to do is to compute the final predicted claim label via majority voting.\n",
        "\n",
        "Example:\n",
        "\n",
        "    Claim: c1\n",
        "    Evidence set: e1, e2, e3\n",
        "    True label: S\n",
        "\n",
        "    Pair outputs:\n",
        "    (c1, e1) -> S (supports)\n",
        "    (c1, e2) -> S (supports)\n",
        "    (c1, e3) -> R (refutes)\n",
        "\n",
        "    Majority voting:\n",
        "    S -> 2 votes\n",
        "    R -> 1 vote\n",
        "\n",
        "    Final label:\n",
        "    c1 -> S\n",
        "\n",
        "Lastly, we have to compute classification metrics just like before."
      ]
    },
    {
      "cell_type": "markdown",
      "metadata": {
        "id": "W4LJ2yPxsUOV"
      },
      "source": [
        "# Tips and Extras"
      ]
    },
    {
      "cell_type": "markdown",
      "metadata": {
        "id": "Uf80UVRNrXve"
      },
      "source": [
        "## Extensions are welcome!\n",
        "\n",
        "Is this task too easy for you? Are you curious to try out things you have seen during lectures (e.g. attention)? Feel free to try everything you want!\n",
        "\n",
        "Don't forget to try neural baselines first!"
      ]
    },
    {
      "cell_type": "markdown",
      "metadata": {
        "id": "COXeCXdYsBEf"
      },
      "source": [
        "## Comments and documentation\n",
        "\n",
        "Remember to properly comment your code (it is not necessary to comment each single line) and don't forget to describe your work!"
      ]
    },
    {
      "cell_type": "markdown",
      "metadata": {
        "id": "Ejv6SDE8xc4_"
      },
      "source": [
        "## Organization\n",
        "\n",
        "We suggest you to divide your work into sections. This allows you to build clean and modular code, as well as easy to read and to debug.\n",
        "\n",
        "A possible schema:\n",
        "\n",
        "*   Dataset pre-processing\n",
        "*   Dataset conversion\n",
        "*   Model definition\n",
        "*   Training\n",
        "*   Evaluation\n",
        "*   Comments/Summary"
      ]
    },
    {
      "cell_type": "markdown",
      "metadata": {
        "id": "9DR70uh7pabo"
      },
      "source": [
        "# Contact\n",
        "\n",
        "For any doubt, question, issue or help, you can always contact us at the following email addresses:\n",
        "\n",
        "Teaching Assistants:\n",
        "\n",
        "* Andrea Galassi -> a.galassi@unibo.it\n",
        "* Federico Ruggeri -> federico.ruggeri6@unibo.it\n",
        "\n",
        "Professor:\n",
        "\n",
        "* Paolo Torroni -> p.torroni@unibo.it\n",
        "\n",
        "Don't forget that your feedback is very important! Your suggestions help us improving course material."
      ]
    },
    {
      "cell_type": "markdown",
      "metadata": {
        "id": "Jc0gNWU2pgKQ"
      },
      "source": [
        "# FAQ\n",
        "\n",
        "---\n",
        "\n",
        "**Q: Can I do something text pre-processing?**\n",
        "\n",
        "**A:** You have to! If you check text data, the majority of sentences need some cleaning.\n",
        "\n",
        "---\n",
        "\n",
        "**Q: I'm struggling with the implementation. Can you help me?**\n",
        "\n",
        "**A:** Yes sure! Write us an email about your issue. If you are looking for a particular type of operation, you can easily check the documentation of the deep learning framework you are using (google is your friend).\n",
        "\n",
        "---\n",
        "\n",
        "**Q: Can I try other encoding strategies or neural architectures?**\n",
        "\n",
        "**A:** Absolutely! Remember to try out recommended neural baselines first and only then proceed with your extensions.\n",
        "\n",
        "---"
      ]
    },
    {
      "cell_type": "markdown",
      "metadata": {
        "id": "giikfC36CybU"
      },
      "source": [
        "# PREPROCESSING"
      ]
    },
    {
      "cell_type": "code",
      "metadata": {
        "colab": {
          "base_uri": "https://localhost:8080/",
          "height": 413
        },
        "id": "ym7EfuE7Cz1e",
        "outputId": "2ff0e450-c856-40ac-a059-42191a568643"
      },
      "source": [
        "import pandas as pd\n",
        "import re\n",
        "from collections import Counter\n",
        "from keras.preprocessing.text import Tokenizer\n",
        "train = pd.read_csv('./dataset/train_pairs.csv')\n",
        "test = pd.read_csv('./dataset/test_pairs.csv')\n",
        "val = pd.read_csv('./dataset/val_pairs.csv')\n",
        "train"
      ],
      "execution_count": 2,
      "outputs": [
        {
          "output_type": "execute_result",
          "data": {
            "text/html": [
              "<div>\n",
              "<style scoped>\n",
              "    .dataframe tbody tr th:only-of-type {\n",
              "        vertical-align: middle;\n",
              "    }\n",
              "\n",
              "    .dataframe tbody tr th {\n",
              "        vertical-align: top;\n",
              "    }\n",
              "\n",
              "    .dataframe thead th {\n",
              "        text-align: right;\n",
              "    }\n",
              "</style>\n",
              "<table border=\"1\" class=\"dataframe\">\n",
              "  <thead>\n",
              "    <tr style=\"text-align: right;\">\n",
              "      <th></th>\n",
              "      <th>Unnamed: 0</th>\n",
              "      <th>Claim</th>\n",
              "      <th>Evidence</th>\n",
              "      <th>ID</th>\n",
              "      <th>Label</th>\n",
              "    </tr>\n",
              "  </thead>\n",
              "  <tbody>\n",
              "    <tr>\n",
              "      <th>0</th>\n",
              "      <td>0</td>\n",
              "      <td>Chris Hemsworth appeared in A Perfect Getaway.</td>\n",
              "      <td>2\\tHemsworth has also appeared in the science ...</td>\n",
              "      <td>3</td>\n",
              "      <td>SUPPORTS</td>\n",
              "    </tr>\n",
              "    <tr>\n",
              "      <th>1</th>\n",
              "      <td>1</td>\n",
              "      <td>Roald Dahl is a writer.</td>\n",
              "      <td>0\\tRoald Dahl -LRB- -LSB- langpronˈroʊ.əld _ ˈ...</td>\n",
              "      <td>7</td>\n",
              "      <td>SUPPORTS</td>\n",
              "    </tr>\n",
              "    <tr>\n",
              "      <th>2</th>\n",
              "      <td>2</td>\n",
              "      <td>Roald Dahl is a governor.</td>\n",
              "      <td>0\\tRoald Dahl -LRB- -LSB- langpronˈroʊ.əld _ ˈ...</td>\n",
              "      <td>8</td>\n",
              "      <td>REFUTES</td>\n",
              "    </tr>\n",
              "    <tr>\n",
              "      <th>3</th>\n",
              "      <td>3</td>\n",
              "      <td>Ireland has relatively low-lying mountains.</td>\n",
              "      <td>10\\tThe island 's geography comprises relative...</td>\n",
              "      <td>9</td>\n",
              "      <td>SUPPORTS</td>\n",
              "    </tr>\n",
              "    <tr>\n",
              "      <th>4</th>\n",
              "      <td>4</td>\n",
              "      <td>Ireland does not have relatively low-lying mou...</td>\n",
              "      <td>10\\tThe island 's geography comprises relative...</td>\n",
              "      <td>10</td>\n",
              "      <td>REFUTES</td>\n",
              "    </tr>\n",
              "    <tr>\n",
              "      <th>...</th>\n",
              "      <td>...</td>\n",
              "      <td>...</td>\n",
              "      <td>...</td>\n",
              "      <td>...</td>\n",
              "      <td>...</td>\n",
              "    </tr>\n",
              "    <tr>\n",
              "      <th>121735</th>\n",
              "      <td>121735</td>\n",
              "      <td>April was the month Anderson Silva was born.</td>\n",
              "      <td>0\\tAnderson da Silva -LRB- -LSB- ˈɐ̃deʁsõ ˈsiw...</td>\n",
              "      <td>229440</td>\n",
              "      <td>SUPPORTS</td>\n",
              "    </tr>\n",
              "    <tr>\n",
              "      <th>121736</th>\n",
              "      <td>121736</td>\n",
              "      <td>Anderson Silva is an American Brazilian mixed ...</td>\n",
              "      <td>0\\tAnderson da Silva -LRB- -LSB- ˈɐ̃deʁsõ ˈsiw...</td>\n",
              "      <td>229443</td>\n",
              "      <td>REFUTES</td>\n",
              "    </tr>\n",
              "    <tr>\n",
              "      <th>121737</th>\n",
              "      <td>121737</td>\n",
              "      <td>Anderson Silva is incapable of being a Brazili...</td>\n",
              "      <td>0\\tAnderson da Silva -LRB- -LSB- ˈɐ̃deʁsõ ˈsiw...</td>\n",
              "      <td>229444</td>\n",
              "      <td>REFUTES</td>\n",
              "    </tr>\n",
              "    <tr>\n",
              "      <th>121738</th>\n",
              "      <td>121738</td>\n",
              "      <td>Anderson Silva was born on the month of April ...</td>\n",
              "      <td>0\\tAnderson da Silva -LRB- -LSB- ˈɐ̃deʁsõ ˈsiw...</td>\n",
              "      <td>229445</td>\n",
              "      <td>SUPPORTS</td>\n",
              "    </tr>\n",
              "    <tr>\n",
              "      <th>121739</th>\n",
              "      <td>121739</td>\n",
              "      <td>Anderson Silva was born on the day of the 15th.</td>\n",
              "      <td>0\\tAnderson da Silva -LRB- -LSB- ˈɐ̃deʁsõ ˈsiw...</td>\n",
              "      <td>229448</td>\n",
              "      <td>REFUTES</td>\n",
              "    </tr>\n",
              "  </tbody>\n",
              "</table>\n",
              "<p>121740 rows × 5 columns</p>\n",
              "</div>"
            ],
            "text/plain": [
              "        Unnamed: 0  ...     Label\n",
              "0                0  ...  SUPPORTS\n",
              "1                1  ...  SUPPORTS\n",
              "2                2  ...   REFUTES\n",
              "3                3  ...  SUPPORTS\n",
              "4                4  ...   REFUTES\n",
              "...            ...  ...       ...\n",
              "121735      121735  ...  SUPPORTS\n",
              "121736      121736  ...   REFUTES\n",
              "121737      121737  ...   REFUTES\n",
              "121738      121738  ...  SUPPORTS\n",
              "121739      121739  ...   REFUTES\n",
              "\n",
              "[121740 rows x 5 columns]"
            ]
          },
          "metadata": {
            "tags": []
          },
          "execution_count": 2
        }
      ]
    },
    {
      "cell_type": "code",
      "metadata": {
        "colab": {
          "base_uri": "https://localhost:8080/"
        },
        "id": "8_b9dMbTOpc2",
        "outputId": "4155f070-62eb-4863-b564-076786f5fcf5"
      },
      "source": [
        "ls = []\n",
        "\n",
        "def combine_words(input,length):\n",
        "    combined_inputs = []\n",
        "    if len(input)>1:\n",
        "        for i in range(len(input)-1):\n",
        "            combined_inputs.append(input[i]+\" \"+last_word_of(input[i+1],length)) #add the last word of the right-neighbour (overlapping) sequence (before it has expanded), which is the next word in the original sentence\n",
        "    return combined_inputs, length+1\n",
        "\n",
        "def remove_duplicates(input, length):\n",
        "    bool_broke=False #this means we didn't find any duplicates here\n",
        "    for i in range(len(input) - length):\n",
        "        if input[i]==input[i + length]: #found a duplicate piece of sentence!\n",
        "            for j in range(0,length): #remove the overlapping sequences in reverse order\n",
        "                del input[i + length - j]\n",
        "            bool_broke = True\n",
        "            break #break the for loop as the loop length does not matches the length of splitted_input anymore as we removed elements\n",
        "    if bool_broke:\n",
        "        return remove_duplicates(input, length) #if we found a duplicate, look for another duplicate of the same length\n",
        "    return input\n",
        "\n",
        "def last_word_of(input,length):\n",
        "    splitted = input.split(\" \")\n",
        "    if len(splitted)==0:\n",
        "        return input\n",
        "    else:\n",
        "        return splitted[length-1]\n",
        "\n",
        "def prepare_evidence(df):\n",
        "  ls = []\n",
        "  index = 0\n",
        "  for x in df['Evidence']:\n",
        "    i = re.sub(r'^.*?\\t', '', x)\n",
        "    splitted_input = i.replace('-LRB-', '(').replace('-RRB- ', ')').replace('\\t', ' ').replace('-LSB-', '').replace('-RSB-', '').split(' ')\n",
        "    word_length = 1\n",
        "    splitted_input,word_length = combine_words(splitted_input,word_length)\n",
        "\n",
        "    intermediate_output = False\n",
        "\n",
        "    while len(splitted_input)>1:\n",
        "        splitted_input = remove_duplicates(splitted_input,word_length) #look whether two sequences of length n (with distance n apart) are equal. If so, remove the n overlapping sequences\n",
        "        splitted_input, word_length = combine_words(splitted_input,word_length) #make even bigger sequences\n",
        "        if intermediate_output:\n",
        "            print(splitted_input)\n",
        "            print(word_length)\n",
        "    try:\n",
        "      output = splitted_input[0]\n",
        "    except:\n",
        "      output = splitted_input\n",
        "    index += 1\n",
        "    ls.append(output)\n",
        "  return(ls)\n",
        "\n",
        "train_evidence = prepare_evidence(train)\n",
        "test_evidence = prepare_evidence(test)\n",
        "val_evidence = prepare_evidence(val)\n",
        "print(train_evidence[0], test_evidence[0], val_evidence[0])"
      ],
      "execution_count": 3,
      "outputs": [
        {
          "output_type": "stream",
          "text": [
            "Hemsworth has also appeared in the science fiction action film Star Trek ( 2009 ), the thriller adventure A Perfect Getaway ( 2009 ), the horror comedy The Cabin in the Woods ( 2012 ), the dark-fantasy action film Snow White and the Huntsman ( 2012 ), the war film Red Dawn ( 2012 ), and the biographical sports drama film Rush ( 2013 ). Star Trek (film) A Perfect Getaway The Cabin in the Woods Snow White and the Huntsman Red Dawn (2012 film) Rush Rush (2013 film) Furthermore , anxiety has been linked with physical symptoms such as IBS and can heighten other mental health illnesses such as OCD and panic disorder . IBS Irritable bowel syndrome It is an all-volunteer force and comprises more than 80 % of the country 's active defence personnel . all-volunteer force Volunteer military\n"
          ],
          "name": "stdout"
        }
      ]
    },
    {
      "cell_type": "code",
      "metadata": {
        "colab": {
          "base_uri": "https://localhost:8080/"
        },
        "id": "EoilgL6nOpsq",
        "outputId": "2bcc5c9d-9850-4d73-8406-2c24bc92b73c"
      },
      "source": [
        "X_train = [(train.iloc[x]['Claim'], train_evidence[x]) for x in range(len(train_evidence))]\n",
        "X_test = [(test.iloc[x]['Claim'], test_evidence[x]) for x in range(len(test_evidence))]\n",
        "X_val = [(val.iloc[x]['Claim'], val_evidence[x]) for x in range(len(val_evidence))]\n",
        "X_train[0]"
      ],
      "execution_count": 4,
      "outputs": [
        {
          "output_type": "execute_result",
          "data": {
            "text/plain": [
              "('Chris Hemsworth appeared in A Perfect Getaway.',\n",
              " 'Hemsworth has also appeared in the science fiction action film Star Trek ( 2009 ), the thriller adventure A Perfect Getaway ( 2009 ), the horror comedy The Cabin in the Woods ( 2012 ), the dark-fantasy action film Snow White and the Huntsman ( 2012 ), the war film Red Dawn ( 2012 ), and the biographical sports drama film Rush ( 2013 ). Star Trek (film) A Perfect Getaway The Cabin in the Woods Snow White and the Huntsman Red Dawn (2012 film) Rush Rush (2013 film)')"
            ]
          },
          "metadata": {
            "tags": []
          },
          "execution_count": 4
        }
      ]
    },
    {
      "cell_type": "code",
      "metadata": {
        "id": "M3oYBL2SLG3m"
      },
      "source": [
        "y_train = train['Label']\n",
        "y_test = test['Label']\n",
        "y_val = val['Label']"
      ],
      "execution_count": 5,
      "outputs": []
    },
    {
      "cell_type": "markdown",
      "metadata": {
        "id": "1cLxaKZrC04V"
      },
      "source": [
        "# CONVERSION"
      ]
    },
    {
      "cell_type": "code",
      "metadata": {
        "id": "yEKlvSRY3h23"
      },
      "source": [
        "import gensim\n",
        "import gensim.downloader as gloader\n",
        "EMBEDDING_SIZE = 50\n",
        "download_path = \"glove-wiki-gigaword-{}\".format(EMBEDDING_SIZE)\n",
        "emb_model = gloader.load(download_path)"
      ],
      "execution_count": 6,
      "outputs": []
    },
    {
      "cell_type": "code",
      "metadata": {
        "colab": {
          "base_uri": "https://localhost:8080/"
        },
        "id": "1pye_KlG5yGl",
        "outputId": "c62b949e-d004-4af9-801a-4d3a4979cfe9"
      },
      "source": [
        "pos_dict = {}\n",
        "def create_XY(df):\n",
        "    X = [] # store input sequence\n",
        "    pos = 0\n",
        "    max_len = 0\n",
        "    for sentence in df:\n",
        "          X_sentence = []\n",
        "          try:\n",
        "            for word in sentence.split(' '):\n",
        "              if len(sentence) > max_len:\n",
        "                max_len = len(sentence)\n",
        "              X_sentence.append(word)\n",
        "          except:\n",
        "              X_sentence.append('')\n",
        "          X.append(X_sentence)\n",
        "    num_words = len(set([word.lower() for sentence in X for word in sentence]))\n",
        "    print(\"Total number of tagged sentences: {}\".format(len(X)))\n",
        "    print(\"Vocabulary size: {}\".format(num_words))\n",
        "    print('sample X: ', X[0], '\\n')\n",
        "    print(\"Length of first input sequence  : {}\".format(len(X[0])))\n",
        "    print(\"Maximum length of sentence : {}\".format(max_len))\n",
        "    return(X, num_words, max_len)\n",
        "X_train_claim, num_words_train_claim, MAX_LEN_TRAIN_claim = create_XY(train['Claim'])\n",
        "X_val_claim, num_words_val_claim, MAX_LEN_VAL_claim = create_XY(val['Claim'])\n",
        "X_test_claim, num_words_test_claim, MAX_LEN_TEST_claim = create_XY(test['Claim'])"
      ],
      "execution_count": 7,
      "outputs": [
        {
          "output_type": "stream",
          "text": [
            "Total number of tagged sentences: 121740\n",
            "Vocabulary size: 31186\n",
            "sample X:  ['Chris', 'Hemsworth', 'appeared', 'in', 'A', 'Perfect', 'Getaway.'] \n",
            "\n",
            "Length of first input sequence  : 7\n",
            "Maximum length of sentence : 614\n",
            "Total number of tagged sentences: 7165\n",
            "Vocabulary size: 6619\n",
            "sample X:  ['The', 'Indian', 'Army', 'comprises', 'part', 'of', 'the', \"country's\", 'active', 'defense', 'personnel.'] \n",
            "\n",
            "Length of first input sequence  : 11\n",
            "Maximum length of sentence : 200\n",
            "Total number of tagged sentences: 7189\n",
            "Vocabulary size: 7141\n",
            "sample X:  ['Anxiety', 'has', 'been', 'linked', 'with', 'physical', 'symptoms.'] \n",
            "\n",
            "Length of first input sequence  : 7\n",
            "Maximum length of sentence : 189\n"
          ],
          "name": "stdout"
        }
      ]
    },
    {
      "cell_type": "code",
      "metadata": {
        "colab": {
          "base_uri": "https://localhost:8080/"
        },
        "id": "qRCkzdb2H3Wr",
        "outputId": "a22a686c-7d31-4f1a-fbc1-be60b10436e7"
      },
      "source": [
        "def create_XY(df):\n",
        "    X = [] # store input sequence\n",
        "    pos = 0\n",
        "    max_len = 0\n",
        "    for sentence in df:\n",
        "      X_sentence = []\n",
        "      try:\n",
        "        for word in sentence.split(' '):\n",
        "              if len(sentence) > max_len:\n",
        "                max_len = len(sentence)\n",
        "              X_sentence.append(word)\n",
        "      except:\n",
        "         X_sentence.append('')\n",
        "      X.append(X_sentence)\n",
        "    num_words = len(set([word.lower() for sentence in X for word in sentence]))\n",
        "    print(\"Total number of tagged sentences: {}\".format(len(X)))\n",
        "    print(\"Vocabulary size: {}\".format(num_words))\n",
        "    print('sample X: ', X[0], '\\n')\n",
        "    print(\"Length of first input sequence  : {}\".format(len(X[0])))\n",
        "    print(\"Maximum length of sentence : {}\".format(max_len))\n",
        "    return(X, num_words, max_len)\n",
        "X_train_evidence, num_words_train_evidence, MAX_LEN_TRAIN_evidence = create_XY(train_evidence)\n",
        "X_val_evidence, num_words_val_evidence, MAX_LEN_VAL_evidence = create_XY(val_evidence)\n",
        "X_test_evidence, num_words_test_evidence, MAX_LEN_TEST_evidence = create_XY(test_evidence)"
      ],
      "execution_count": 8,
      "outputs": [
        {
          "output_type": "stream",
          "text": [
            "Total number of tagged sentences: 121740\n",
            "Vocabulary size: 36238\n",
            "sample X:  ['Hemsworth', 'has', 'also', 'appeared', 'in', 'the', 'science', 'fiction', 'action', 'film', 'Star', 'Trek', '(', '2009', '),', 'the', 'thriller', 'adventure', 'A', 'Perfect', 'Getaway', '(', '2009', '),', 'the', 'horror', 'comedy', 'The', 'Cabin', 'in', 'the', 'Woods', '(', '2012', '),', 'the', 'dark-fantasy', 'action', 'film', 'Snow', 'White', 'and', 'the', 'Huntsman', '(', '2012', '),', 'the', 'war', 'film', 'Red', 'Dawn', '(', '2012', '),', 'and', 'the', 'biographical', 'sports', 'drama', 'film', 'Rush', '(', '2013', ').', 'Star', 'Trek', '(film)', 'A', 'Perfect', 'Getaway', 'The', 'Cabin', 'in', 'the', 'Woods', 'Snow', 'White', 'and', 'the', 'Huntsman', 'Red', 'Dawn', '(2012', 'film)', 'Rush', 'Rush', '(2013', 'film)'] \n",
            "\n",
            "Length of first input sequence  : 89\n",
            "Maximum length of sentence : 1149\n",
            "Total number of tagged sentences: 7165\n",
            "Vocabulary size: 8586\n",
            "sample X:  ['It', 'is', 'an', 'all-volunteer', 'force', 'and', 'comprises', 'more', 'than', '80', '%', 'of', 'the', 'country', \"'s\", 'active', 'defence', 'personnel', '.', 'all-volunteer', 'force', 'Volunteer', 'military'] \n",
            "\n",
            "Length of first input sequence  : 23\n",
            "Maximum length of sentence : 939\n",
            "Total number of tagged sentences: 7189\n",
            "Vocabulary size: 9723\n",
            "sample X:  ['Furthermore', ',', 'anxiety', 'has', 'been', 'linked', 'with', 'physical', 'symptoms', 'such', 'as', 'IBS', 'and', 'can', 'heighten', 'other', 'mental', 'health', 'illnesses', 'such', 'as', 'OCD', 'and', 'panic', 'disorder', '.', 'IBS', 'Irritable', 'bowel', 'syndrome'] \n",
            "\n",
            "Length of first input sequence  : 30\n",
            "Maximum length of sentence : 873\n"
          ],
          "name": "stdout"
        }
      ]
    },
    {
      "cell_type": "code",
      "metadata": {
        "id": "zydzkpXhVL1B"
      },
      "source": [
        "words, tags = set([]), set([])\n",
        "X_train = X_train_claim + X_train_evidence\n",
        " \n",
        "for s in X_train:\n",
        "    for w in s:\n",
        "       words.add(w.lower())\n",
        " \n",
        "word2index = {w: i + 1 for i, w in enumerate(list(words))}\n",
        "word2index['-PAD-'] = 0  # The special value used for padding"
      ],
      "execution_count": 9,
      "outputs": []
    },
    {
      "cell_type": "code",
      "metadata": {
        "id": "MBFuGCU4DMXA"
      },
      "source": [
        "words_test, tags_test = set([]), set([])\n",
        "X_test = X_test_claim + X_test_evidence\n",
        "\n",
        "for s in X_test:\n",
        "    for w in s:\n",
        "       words_test.add(w.lower())\n",
        " \n",
        "word2indexTest = {w: i + 2 for i, w in enumerate(list(words_test))}\n",
        "word2indexTest['-PAD-'] = 0  # The special value used for padding"
      ],
      "execution_count": 10,
      "outputs": []
    },
    {
      "cell_type": "code",
      "metadata": {
        "id": "T7Vh9gJfgpB-"
      },
      "source": [
        "words_val, tags_val = set([]), set([])\n",
        "X_val = X_val_claim + X_val_evidence\n",
        "\n",
        "for s in X_val:\n",
        "    for w in s:\n",
        "       words_val.add(w.lower())\n",
        " \n",
        "word2indexVal = {w: i + 2 for i, w in enumerate(list(words_val))}\n",
        "word2indexVal['-PAD-'] = 0  # The special value used for padding"
      ],
      "execution_count": 11,
      "outputs": []
    },
    {
      "cell_type": "markdown",
      "metadata": {
        "id": "MBx_hrNhwGPo"
      },
      "source": [
        "# I THINK THIS IS THE RIGHT INTERPRETATION OF THE ASSIGNMENT, BUT I AM NOT 100% SURE "
      ]
    },
    {
      "cell_type": "code",
      "metadata": {
        "id": "ku4yfV3rg3Tp"
      },
      "source": [
        "def merge_word2indexes(word2index, word2indexTest, word2indexVal): \n",
        "  for x in word2indexVal:\n",
        "    if x not in word2index.keys():\n",
        "      word2index[x] = len(word2index) \n",
        "  for x in word2indexTest:\n",
        "    if x not in word2index.keys():\n",
        "      word2index[x] = len(word2index) \n",
        "  return word2index\n",
        "word2index = merge_word2indexes(word2index, word2indexTest, word2indexVal)"
      ],
      "execution_count": 12,
      "outputs": []
    },
    {
      "cell_type": "code",
      "metadata": {
        "colab": {
          "base_uri": "https://localhost:8080/"
        },
        "id": "wZpNRGhqWMLf",
        "outputId": "f540c12d-2fc2-41a7-a898-6a243faf7bbc"
      },
      "source": [
        "train_sentences_X_claim, test_sentences_X_claim, val_sentences_X_claim = [], [], []\n",
        "train_sentences_X_evidence, test_sentences_X_evidence, val_sentences_X_evidence = [], [], []\n",
        "\n",
        "oov = [] \n",
        "\n",
        "for s in X_train_claim:\n",
        "    s_int = []\n",
        "    for w in s:\n",
        "        s_int.append(word2index[w.lower()])\n",
        "    train_sentences_X_claim.append(s_int)\n",
        "\n",
        "for s in X_train_evidence:\n",
        "    s_int = []\n",
        "    for w in s:\n",
        "        s_int.append(word2index[w.lower()])\n",
        "    train_sentences_X_evidence.append(s_int)\n",
        "\n",
        "for s in X_test_claim:\n",
        "    s_int = []\n",
        "    for w in s:\n",
        "        s_int.append(word2index[w.lower()])\n",
        "    test_sentences_X_claim.append(s_int)\n",
        "\n",
        "for s in X_test_evidence:\n",
        "    s_int = []\n",
        "    for w in s:\n",
        "        s_int.append(word2index[w.lower()])\n",
        "    test_sentences_X_evidence.append(s_int)\n",
        "\n",
        "for s in X_val_claim:\n",
        "    s_int = []\n",
        "    for w in s:\n",
        "        s_int.append(word2index[w.lower()])\n",
        "    val_sentences_X_claim.append(s_int)\n",
        "\n",
        "for s in X_val_evidence:\n",
        "    s_int = []\n",
        "    for w in s:\n",
        "        s_int.append(word2index[w.lower()])\n",
        "    val_sentences_X_evidence.append(s_int)\n",
        " \n",
        "print(train_sentences_X_claim[0])\n",
        "print(test_sentences_X_claim[0])\n",
        "print(val_sentences_X_claim[0])\n",
        "print(train_sentences_X_evidence[0])\n",
        "print(test_sentences_X_evidence[0])\n",
        "print(val_sentences_X_evidence[0])"
      ],
      "execution_count": 13,
      "outputs": [
        {
          "output_type": "stream",
          "text": [
            "[33884, 33619, 42014, 27725, 25382, 32936, 6458]\n",
            "[29312, 4783, 11423, 32107, 51249, 3365, 52081]\n",
            "[11427, 38464, 3426, 10143, 42414, 45336, 11427, 52067, 49297, 1798, 53797]\n",
            "[33619, 4783, 374, 42014, 27725, 11427, 8448, 19688, 12029, 34984, 37809, 24413, 27410, 25422, 21833, 11427, 40155, 41857, 25382, 32936, 32615, 27410, 25422, 21833, 11427, 18678, 48158, 11427, 13627, 27725, 11427, 12236, 27410, 27808, 21833, 11427, 34293, 12029, 34984, 13142, 9313, 31307, 11427, 20000, 27410, 27808, 21833, 11427, 18453, 34984, 18283, 31540, 27410, 27808, 21833, 31307, 11427, 28488, 16972, 29617, 34984, 18776, 27410, 17341, 12470, 37809, 24413, 51842, 25382, 32936, 32615, 11427, 13627, 27725, 11427, 12236, 13142, 9313, 31307, 11427, 20000, 18283, 31540, 19376, 47515, 18776, 18776, 1549, 47515]\n",
            "[22285, 18708, 29312, 4783, 11423, 32107, 51249, 3365, 35253, 735, 33199, 57015, 31307, 15019, 58079, 15247, 17119, 51410, 37940, 735, 33199, 56480, 31307, 25790, 8163, 31684, 57015, 55778, 1281, 3258]\n",
            "[28703, 31455, 44160, 53244, 52846, 31307, 10143, 18117, 22103, 50855, 1976, 45336, 11427, 38078, 7141, 49297, 34336, 34298, 31684, 53244, 52846, 22472, 36490]\n"
          ],
          "name": "stdout"
        }
      ]
    },
    {
      "cell_type": "code",
      "metadata": {
        "id": "rv6JSvKIWzPf"
      },
      "source": [
        "from keras.preprocessing.sequence import pad_sequences\n",
        "\n",
        "train_sentences_X_claim = pad_sequences(train_sentences_X_claim, maxlen=MAX_LEN_TRAIN_claim, padding='post')\n",
        "test_sentences_X_claim = pad_sequences(test_sentences_X_claim, maxlen=MAX_LEN_TEST_claim, padding='post')\n",
        "val_sentences_X_claim = pad_sequences(val_sentences_X_claim, maxlen=MAX_LEN_VAL_claim, padding='post')\n",
        "train_sentences_X_evidence = pad_sequences(train_sentences_X_evidence, maxlen=MAX_LEN_TRAIN_evidence, padding='post')\n",
        "test_sentences_X_evidence = pad_sequences(test_sentences_X_evidence, maxlen=MAX_LEN_TEST_evidence, padding='post')\n",
        "val_sentences_X_evidence = pad_sequences(val_sentences_X_evidence, maxlen=MAX_LEN_VAL_evidence, padding='post')"
      ],
      "execution_count": 14,
      "outputs": []
    },
    {
      "cell_type": "code",
      "metadata": {
        "id": "5El-_RIyZl9j"
      },
      "source": [
        "import numpy as np\n",
        "weights = np.zeros((len(word2index.keys()), EMBEDDING_SIZE))\n",
        "word_list = list(word2index.keys())\n",
        "\n",
        "oov = {}\n",
        "for x in range(len(word_list)):\n",
        "  try: \n",
        "    weights[x, :] = emb_model[word_list[x]]\n",
        "  except:\n",
        "    oov[word_list[x]] = x\n",
        "    weights[x, :] = np.random.rand(EMBEDDING_SIZE)\n",
        "    # TODO: controllare bounds per generare l'array random di pesi coerentemente\n",
        "    # con l'embedding model di GloVe"
      ],
      "execution_count": 15,
      "outputs": []
    },
    {
      "cell_type": "markdown",
      "metadata": {
        "id": "quidmmGkC38D"
      },
      "source": [
        "# MODEL"
      ]
    },
    {
      "cell_type": "code",
      "metadata": {
        "id": "uXR5lyC_C5Xs"
      },
      "source": [
        "import tensorflow as tf\n",
        "from keras.layers import Add, Average, Dense, Input, GlobalMaxPooling1D, Dot, LSTM, Bidirectional, Dropout, Embedding, concatenate, Concatenate, GlobalAveragePooling1D\n",
        "from keras.models import Model\n",
        "from keras.optimizers import SGD\n",
        "import tensorflow.keras as keras"
      ],
      "execution_count": 16,
      "outputs": []
    },
    {
      "cell_type": "code",
      "metadata": {
        "id": "thtdaTtJCUOL"
      },
      "source": [
        "VOCAB_SIZE = len(word2index)\n",
        "BATCH_SIZE = 64\n",
        "EMBEDDING_DIM = EMBEDDING_SIZE\n",
        "UNITS = 256"
      ],
      "execution_count": 17,
      "outputs": []
    },
    {
      "cell_type": "code",
      "metadata": {
        "id": "1YFgsOtmCpMc"
      },
      "source": [
        "claim_input = Input(shape=(MAX_LEN_TRAIN_claim), name='claim_input')\n",
        "evidence_input = Input(shape=(MAX_LEN_TRAIN_evidence), name='evidence_input')\n",
        "\n",
        "embedding_layer = Embedding(input_dim=VOCAB_SIZE, output_dim=EMBEDDING_DIM,  weights=[weights], mask_zero=True, trainable=False)\n",
        "\n",
        "claim_outputs = embedding_layer(claim_input)\n",
        "evidence_outputs = embedding_layer(evidence_input)"
      ],
      "execution_count": 18,
      "outputs": []
    },
    {
      "cell_type": "markdown",
      "metadata": {
        "id": "_KAyf76Yhly0"
      },
      "source": [
        "## Reduce the token sequence to a single representation (choose one)"
      ]
    },
    {
      "cell_type": "markdown",
      "metadata": {
        "id": "aVmJAEREWa9v"
      },
      "source": [
        "### RNN taking last hidden state"
      ]
    },
    {
      "cell_type": "code",
      "metadata": {
        "id": "-CDJQoRHDFhy"
      },
      "source": [
        "def last_state_model():  \n",
        "  claim_outputs1, claim_forward_h, _, claim_backward_h, _ = Bidirectional(LSTM(UNITS, return_sequences=True, return_state=True))(claim_outputs)\n",
        "  claim_outputs1 = Concatenate()([claim_forward_h, claim_backward_h])\n",
        "\n",
        "  evidence_outputs1, evidence_forward_h, _, evidence_backward_h, _ = Bidirectional(LSTM(UNITS, return_sequences=True, return_state=True))(evidence_outputs)\n",
        "  evidence_outputs1 = Concatenate()([evidence_forward_h, evidence_backward_h])\n",
        "  return claim_outputs1, evidence_outputs1"
      ],
      "execution_count": 19,
      "outputs": []
    },
    {
      "cell_type": "markdown",
      "metadata": {
        "id": "02UpoOhMWfkk"
      },
      "source": [
        "### RNN averaging all states"
      ]
    },
    {
      "cell_type": "code",
      "metadata": {
        "id": "v60QZFNFWksv"
      },
      "source": [
        "def avg_model():  \n",
        "  claim_outputs2 = Bidirectional(LSTM(UNITS, return_sequences=True))(claim_outputs)\n",
        "  evidence_outputs2 = Bidirectional(LSTM(UNITS, return_sequences=True))(evidence_outputs)\n",
        "\n",
        "  claim_outputs2 = GlobalAveragePooling1D()(claim_outputs2)\n",
        "  evidence_outputs2 = GlobalAveragePooling1D()(evidence_outputs2)\n",
        "  return claim_outputs2, evidence_outputs2"
      ],
      "execution_count": 20,
      "outputs": []
    },
    {
      "cell_type": "markdown",
      "metadata": {
        "id": "dD6YAMxkWlDf"
      },
      "source": [
        "### Using MLP layer"
      ]
    },
    {
      "cell_type": "code",
      "metadata": {
        "id": "DDxihz-vubFJ"
      },
      "source": [
        "class Linear(keras.layers.Layer):\n",
        "    def __init__(self, units=32):\n",
        "        super(Linear, self).__init__()\n",
        "        self.units = units\n",
        "\n",
        "    def build(self, input_shape):\n",
        "        self.w = self.add_weight(\n",
        "            shape=(input_shape[-1], self.units),\n",
        "            initializer=\"random_normal\",\n",
        "            trainable=True,\n",
        "        )\n",
        "        self.b = self.add_weight(\n",
        "            shape=(self.units,), initializer=\"random_normal\", trainable=True\n",
        "        )\n",
        "\n",
        "    def call(self, inputs):\n",
        "        return tf.matmul(inputs, self.w) + self.b"
      ],
      "execution_count": 21,
      "outputs": []
    },
    {
      "cell_type": "code",
      "metadata": {
        "id": "-zzIgH1RhTO3"
      },
      "source": [
        "class MLPBlock(keras.layers.Layer):\n",
        "    def __init__(self):\n",
        "        super(MLPBlock, self).__init__()\n",
        "        self.maxpool = GlobalMaxPooling1D()\n",
        "        self.linear_1 = Linear(512)\n",
        "        self.linear_2 = Linear(256)\n",
        "        self.linear_3 = Linear(64)\n",
        "        self.dropout = Dropout(0.1)\n",
        "\n",
        "    def call(self, inputs):\n",
        "        x = self.maxpool(inputs)\n",
        "        x = self.linear_1(x)\n",
        "        x = tf.nn.relu(x)\n",
        "        x = self.dropout(x)\n",
        "        x = self.linear_2(x)\n",
        "        x = tf.nn.relu(x)\n",
        "        x = self.dropout(x)\n",
        "        return self.linear_3(x)"
      ],
      "execution_count": 22,
      "outputs": []
    },
    {
      "cell_type": "code",
      "metadata": {
        "id": "RJnI7BK0WqbN"
      },
      "source": [
        "def mlp_model():  \n",
        "  mlp = MLPBlock()\n",
        "  claim_outputs3 = mlp(claim_outputs)\n",
        "  evidence_outputs3 = mlp(evidence_outputs)\n",
        "  return claim_outputs3, evidence_outputs3"
      ],
      "execution_count": 23,
      "outputs": []
    },
    {
      "cell_type": "markdown",
      "metadata": {
        "id": "sMRffpEIWqv5"
      },
      "source": [
        "### Using BoW"
      ]
    },
    {
      "cell_type": "code",
      "metadata": {
        "id": "cQkcZJb_Wtqe"
      },
      "source": [
        "import keras.layers as L\n",
        "import keras.backend as K\n",
        "\n",
        "class NonZeroMean(L.Layer):\n",
        "  def call(self, x): \n",
        "    \"\"\"Calculate non-zero mean.\"\"\"\n",
        "    # count the number of nonzero features on embedding axis\n",
        "    nonzero = K.any(K.not_equal(x, 0.0), axis=-1)\n",
        "    n = K.sum(K.cast(nonzero, 'float32'), axis=-1, keepdims=True)\n",
        "    # average on max_tokens axis\n",
        "    x_mean = K.sum(x, axis=-2) / n\n",
        "    return x_mean\n",
        "\n",
        "  def compute_output_shape(self, input_shape):\n",
        "    \"\"\"Collapse summation axis.\"\"\"\n",
        "    return input_shape[:-2] + (input_shape[-1],)"
      ],
      "execution_count": 24,
      "outputs": []
    },
    {
      "cell_type": "code",
      "metadata": {
        "id": "pPYUfWzilT5-"
      },
      "source": [
        "def bow_model():\n",
        "  claim_outputs4 = NonZeroMean()(claim_outputs)\n",
        "  evidence_outputs4 = NonZeroMean()(evidence_outputs)\n",
        "  return claim_outputs4, evidence_outputs4"
      ],
      "execution_count": 25,
      "outputs": []
    },
    {
      "cell_type": "markdown",
      "metadata": {
        "id": "fYAHp1SthFLm"
      },
      "source": [
        "## Final part of the model"
      ]
    },
    {
      "cell_type": "code",
      "metadata": {
        "id": "4OKk6Htb4UKH"
      },
      "source": [
        "def concat_model(claim_model, evidence_model):\n",
        "  claim = Dropout(0.2)(claim_model.output)\n",
        "  evidence = Dropout(0.2)(evidence_model.output)\n",
        "  combined = concatenate([claim, evidence, sentence_similarity], name='combined_output')\n",
        "\n",
        "  combined = Dense(64, activation='relu')(combined)\n",
        "  combined = Dense(32, activation='relu')(combined)\n",
        "  z = Dense(1, activation='sigmoid')(combined)\n",
        "  return z"
      ],
      "execution_count": 26,
      "outputs": []
    },
    {
      "cell_type": "code",
      "metadata": {
        "id": "hIITxbfe4diD"
      },
      "source": [
        "def sum_model(claim_model, evidence_model):\n",
        "  claim = Dropout(0.2)(claim_model.output)\n",
        "  evidence = Dropout(0.2)(evidence_model.output)\n",
        "  combined = Add()([claim, evidence])\n",
        "\n",
        "  combined = Dense(64, activation='relu')(combined)\n",
        "  combined = Dense(32, activation='relu')(combined)\n",
        "  z = Dense(1, activation='sigmoid')(combined)\n",
        "  return z"
      ],
      "execution_count": 27,
      "outputs": []
    },
    {
      "cell_type": "code",
      "metadata": {
        "id": "9-pLpxe04dp2"
      },
      "source": [
        "def mean_model(claim_model, evidence_model):\n",
        "  claim = Dropout(0.2)(claim_model.output)\n",
        "  evidence = Dropout(0.2)(evidence_model.output)\n",
        "  combined = Average()([claim, evidence])\n",
        "\n",
        "  combined = Dense(64, activation='relu')(combined)\n",
        "  combined = Dense(32, activation='relu')(combined)\n",
        "  z = Dense(1, activation='sigmoid')(combined)\n",
        "  return z"
      ],
      "execution_count": 28,
      "outputs": []
    },
    {
      "cell_type": "code",
      "metadata": {
        "id": "oeFR9SFsEmDz"
      },
      "source": [
        "# encode class values as integers\n",
        "from sklearn.preprocessing import LabelEncoder\n",
        "from sklearn.metrics import classification_report\n",
        "\n",
        "encoder = LabelEncoder()\n",
        "encoder.fit(y_train)\n",
        "\n",
        "encoded_Y_train = encoder.transform(y_train)\n",
        "encoded_Y_val = encoder.transform(y_val)\n",
        "encoded_Y_test = encoder.transform(y_test)"
      ],
      "execution_count": 29,
      "outputs": []
    },
    {
      "cell_type": "code",
      "metadata": {
        "id": "cUXTTJPiDO9T",
        "outputId": "c2366d11-87ee-4cd7-ca0a-b9d075c071c7",
        "colab": {
          "base_uri": "https://localhost:8080/"
        }
      },
      "source": [
        "model = {0:'LAST STATE', 1:'AVG STATES', 2:'MLP', 3:'BoW'}\n",
        "multi = {0:'CONCATENATE', 1:'SUM', 2:'MEAN'}\n",
        "for x in range(4):\n",
        "  for y in range(3):\n",
        "    if x == 0:\n",
        "      print('LAST STATE')\n",
        "      claim_outputs_fin, evidence_outputs_fin = last_state_model()\n",
        "    elif x == 1:\n",
        "      print('AVG STATES')\n",
        "      claim_outputs_fin, evidence_outputs_fin = avg_model()\n",
        "    elif x == 2:\n",
        "      print('MLP')\n",
        "      claim_outputs_fin, evidence_outputs_fin = mlp_model()\n",
        "    elif x == 3:\n",
        "      print('BoW')\n",
        "      claim_outputs_fin, evidence_outputs_fin = bow_model()\n",
        "\n",
        "    claim_model = Model(inputs=claim_input, outputs=claim_outputs_fin)\n",
        "    evidence_model = Model(inputs=evidence_input, outputs=evidence_outputs_fin)\n",
        "\n",
        "    sentence_similarity = Dot(axes=1)([claim_model.output, evidence_model.output]) \n",
        "    if y == 0:\n",
        "      print('CONCATENATE')\n",
        "      z = concat_model(claim_model, evidence_model)\n",
        "    elif y == 1:\n",
        "      print('SUM')\n",
        "      z = sum_model(claim_model, evidence_model)\n",
        "    elif y == 2:\n",
        "      print('MEAN')\n",
        "      z = mean_model(claim_model, evidence_model)\n",
        "\n",
        "    model = Model(inputs=[claim_model.input, evidence_model.input], outputs=z)\n",
        "    model.compile(loss='binary_crossentropy', optimizer='adam', metrics=['accuracy'])\n",
        "    model.fit([train_sentences_X_claim, train_sentences_X_evidence], encoded_Y_train, batch_size=256, epochs=10, validation_data=([val_sentences_X_claim, val_sentences_X_evidence], encoded_Y_val))\n",
        "    model.evaluate([val_sentences_X_claim, val_sentences_X_evidence], encoded_Y_val)\n",
        "    y_pred = model.predict([test_sentences_X_claim, test_sentences_X_evidence])\n",
        "    print(classification_report(encoded_Y_test, np.round(y_pred)))"
      ],
      "execution_count": 30,
      "outputs": [
        {
          "output_type": "stream",
          "text": [
            "LAST STATE\n",
            "CONCATENATE\n",
            "Epoch 1/10\n",
            "476/476 [==============================] - ETA: 0s - loss: 0.5019 - accuracy: 0.7800WARNING:tensorflow:Model was constructed with shape (None, 614) for input Tensor(\"claim_input:0\", shape=(None, 614), dtype=float32), but it was called on an input with incompatible shape (None, 200).\n",
            "WARNING:tensorflow:Model was constructed with shape (None, 1149) for input Tensor(\"evidence_input:0\", shape=(None, 1149), dtype=float32), but it was called on an input with incompatible shape (None, 939).\n",
            "476/476 [==============================] - 72s 152ms/step - loss: 0.5019 - accuracy: 0.7800 - val_loss: 0.6799 - val_accuracy: 0.6080\n",
            "Epoch 2/10\n",
            "476/476 [==============================] - 67s 141ms/step - loss: 0.4435 - accuracy: 0.8078 - val_loss: 0.6525 - val_accuracy: 0.6473\n",
            "Epoch 3/10\n",
            "476/476 [==============================] - 67s 141ms/step - loss: 0.4087 - accuracy: 0.8234 - val_loss: 0.6164 - val_accuracy: 0.6784\n",
            "Epoch 4/10\n",
            "476/476 [==============================] - 67s 141ms/step - loss: 0.3810 - accuracy: 0.8338 - val_loss: 0.6293 - val_accuracy: 0.6645\n",
            "Epoch 5/10\n",
            "476/476 [==============================] - 67s 141ms/step - loss: 0.3515 - accuracy: 0.8443 - val_loss: 0.6327 - val_accuracy: 0.6832\n",
            "Epoch 6/10\n",
            "476/476 [==============================] - 67s 141ms/step - loss: 0.3177 - accuracy: 0.8573 - val_loss: 0.6357 - val_accuracy: 0.6943\n",
            "Epoch 7/10\n",
            "476/476 [==============================] - 67s 140ms/step - loss: 0.2803 - accuracy: 0.8730 - val_loss: 0.6737 - val_accuracy: 0.6991\n",
            "Epoch 8/10\n",
            "476/476 [==============================] - 67s 141ms/step - loss: 0.2403 - accuracy: 0.8920 - val_loss: 0.8425 - val_accuracy: 0.6959\n",
            "Epoch 9/10\n",
            "476/476 [==============================] - 67s 141ms/step - loss: 0.2040 - accuracy: 0.9079 - val_loss: 0.8853 - val_accuracy: 0.6960\n",
            "Epoch 10/10\n",
            "476/476 [==============================] - 67s 141ms/step - loss: 0.1724 - accuracy: 0.9244 - val_loss: 1.0607 - val_accuracy: 0.6952\n",
            "224/224 [==============================] - 3s 11ms/step - loss: 1.0607 - accuracy: 0.6952\n",
            "WARNING:tensorflow:Model was constructed with shape (None, 614) for input Tensor(\"claim_input:0\", shape=(None, 614), dtype=float32), but it was called on an input with incompatible shape (None, 189).\n",
            "WARNING:tensorflow:Model was constructed with shape (None, 1149) for input Tensor(\"evidence_input:0\", shape=(None, 1149), dtype=float32), but it was called on an input with incompatible shape (None, 873).\n",
            "              precision    recall  f1-score   support\n",
            "\n",
            "           0       0.77      0.51      0.62      3583\n",
            "           1       0.64      0.85      0.73      3606\n",
            "\n",
            "    accuracy                           0.68      7189\n",
            "   macro avg       0.70      0.68      0.67      7189\n",
            "weighted avg       0.70      0.68      0.67      7189\n",
            "\n",
            "LAST STATE\n",
            "SUM\n",
            "Epoch 1/10\n",
            "476/476 [==============================] - ETA: 0s - loss: 0.5001 - accuracy: 0.7821WARNING:tensorflow:Model was constructed with shape (None, 614) for input Tensor(\"claim_input:0\", shape=(None, 614), dtype=float32), but it was called on an input with incompatible shape (None, 200).\n",
            "WARNING:tensorflow:Model was constructed with shape (None, 1149) for input Tensor(\"evidence_input:0\", shape=(None, 1149), dtype=float32), but it was called on an input with incompatible shape (None, 939).\n",
            "476/476 [==============================] - 72s 151ms/step - loss: 0.5001 - accuracy: 0.7821 - val_loss: 0.6837 - val_accuracy: 0.6127\n",
            "Epoch 2/10\n",
            "476/476 [==============================] - 68s 143ms/step - loss: 0.4441 - accuracy: 0.8075 - val_loss: 0.6051 - val_accuracy: 0.6589\n",
            "Epoch 3/10\n",
            "476/476 [==============================] - 68s 142ms/step - loss: 0.4122 - accuracy: 0.8215 - val_loss: 0.6244 - val_accuracy: 0.6674\n",
            "Epoch 4/10\n",
            "476/476 [==============================] - 68s 143ms/step - loss: 0.3859 - accuracy: 0.8326 - val_loss: 0.6358 - val_accuracy: 0.6783\n",
            "Epoch 5/10\n",
            "476/476 [==============================] - 68s 142ms/step - loss: 0.3626 - accuracy: 0.8417 - val_loss: 0.6323 - val_accuracy: 0.6730\n",
            "Epoch 6/10\n",
            "476/476 [==============================] - 68s 142ms/step - loss: 0.3383 - accuracy: 0.8508 - val_loss: 0.6443 - val_accuracy: 0.6904\n",
            "Epoch 7/10\n",
            "476/476 [==============================] - 68s 142ms/step - loss: 0.3122 - accuracy: 0.8610 - val_loss: 0.7024 - val_accuracy: 0.6921\n",
            "Epoch 8/10\n",
            "476/476 [==============================] - 68s 143ms/step - loss: 0.2863 - accuracy: 0.8718 - val_loss: 0.7875 - val_accuracy: 0.6934\n",
            "Epoch 9/10\n",
            "476/476 [==============================] - 68s 143ms/step - loss: 0.2581 - accuracy: 0.8844 - val_loss: 0.7428 - val_accuracy: 0.7029\n",
            "Epoch 10/10\n",
            "476/476 [==============================] - 68s 143ms/step - loss: 0.2323 - accuracy: 0.8963 - val_loss: 0.8723 - val_accuracy: 0.6907\n",
            "224/224 [==============================] - 3s 13ms/step - loss: 0.8723 - accuracy: 0.6907\n",
            "WARNING:tensorflow:Model was constructed with shape (None, 614) for input Tensor(\"claim_input:0\", shape=(None, 614), dtype=float32), but it was called on an input with incompatible shape (None, 189).\n",
            "WARNING:tensorflow:Model was constructed with shape (None, 1149) for input Tensor(\"evidence_input:0\", shape=(None, 1149), dtype=float32), but it was called on an input with incompatible shape (None, 873).\n",
            "              precision    recall  f1-score   support\n",
            "\n",
            "           0       0.81      0.47      0.60      3583\n",
            "           1       0.63      0.89      0.74      3606\n",
            "\n",
            "    accuracy                           0.68      7189\n",
            "   macro avg       0.72      0.68      0.67      7189\n",
            "weighted avg       0.72      0.68      0.67      7189\n",
            "\n",
            "LAST STATE\n",
            "MEAN\n",
            "Epoch 1/10\n",
            "476/476 [==============================] - ETA: 0s - loss: 0.5011 - accuracy: 0.7813WARNING:tensorflow:Model was constructed with shape (None, 614) for input Tensor(\"claim_input:0\", shape=(None, 614), dtype=float32), but it was called on an input with incompatible shape (None, 200).\n",
            "WARNING:tensorflow:Model was constructed with shape (None, 1149) for input Tensor(\"evidence_input:0\", shape=(None, 1149), dtype=float32), but it was called on an input with incompatible shape (None, 939).\n",
            "476/476 [==============================] - 73s 153ms/step - loss: 0.5011 - accuracy: 0.7813 - val_loss: 0.7284 - val_accuracy: 0.6107\n",
            "Epoch 2/10\n",
            "476/476 [==============================] - 68s 142ms/step - loss: 0.4455 - accuracy: 0.8065 - val_loss: 0.6651 - val_accuracy: 0.6364\n",
            "Epoch 3/10\n",
            "476/476 [==============================] - 68s 143ms/step - loss: 0.4129 - accuracy: 0.8210 - val_loss: 0.6727 - val_accuracy: 0.6553\n",
            "Epoch 4/10\n",
            "476/476 [==============================] - 68s 143ms/step - loss: 0.3885 - accuracy: 0.8309 - val_loss: 0.6260 - val_accuracy: 0.6676\n",
            "Epoch 5/10\n",
            "476/476 [==============================] - 68s 142ms/step - loss: 0.3651 - accuracy: 0.8395 - val_loss: 0.6210 - val_accuracy: 0.6809\n",
            "Epoch 6/10\n",
            "476/476 [==============================] - 68s 143ms/step - loss: 0.3399 - accuracy: 0.8490 - val_loss: 0.7090 - val_accuracy: 0.6832\n",
            "Epoch 7/10\n",
            "476/476 [==============================] - 68s 143ms/step - loss: 0.3152 - accuracy: 0.8595 - val_loss: 0.6973 - val_accuracy: 0.6836\n",
            "Epoch 8/10\n",
            "476/476 [==============================] - 68s 142ms/step - loss: 0.2862 - accuracy: 0.8713 - val_loss: 0.7567 - val_accuracy: 0.6896\n",
            "Epoch 9/10\n",
            "476/476 [==============================] - 68s 143ms/step - loss: 0.2584 - accuracy: 0.8836 - val_loss: 0.7947 - val_accuracy: 0.6991\n",
            "Epoch 10/10\n",
            "476/476 [==============================] - 68s 143ms/step - loss: 0.2317 - accuracy: 0.8968 - val_loss: 0.8624 - val_accuracy: 0.6913\n",
            "224/224 [==============================] - 3s 14ms/step - loss: 0.8624 - accuracy: 0.6913\n",
            "WARNING:tensorflow:Model was constructed with shape (None, 614) for input Tensor(\"claim_input:0\", shape=(None, 614), dtype=float32), but it was called on an input with incompatible shape (None, 189).\n",
            "WARNING:tensorflow:Model was constructed with shape (None, 1149) for input Tensor(\"evidence_input:0\", shape=(None, 1149), dtype=float32), but it was called on an input with incompatible shape (None, 873).\n",
            "              precision    recall  f1-score   support\n",
            "\n",
            "           0       0.80      0.47      0.59      3583\n",
            "           1       0.63      0.88      0.73      3606\n",
            "\n",
            "    accuracy                           0.68      7189\n",
            "   macro avg       0.71      0.68      0.66      7189\n",
            "weighted avg       0.71      0.68      0.66      7189\n",
            "\n",
            "AVG STATES\n",
            "CONCATENATE\n",
            "Epoch 1/10\n",
            "476/476 [==============================] - ETA: 0s - loss: 0.5087 - accuracy: 0.7767WARNING:tensorflow:Model was constructed with shape (None, 614) for input Tensor(\"claim_input:0\", shape=(None, 614), dtype=float32), but it was called on an input with incompatible shape (None, 200).\n",
            "WARNING:tensorflow:Model was constructed with shape (None, 1149) for input Tensor(\"evidence_input:0\", shape=(None, 1149), dtype=float32), but it was called on an input with incompatible shape (None, 939).\n",
            "476/476 [==============================] - 87s 182ms/step - loss: 0.5087 - accuracy: 0.7767 - val_loss: 0.7175 - val_accuracy: 0.6073\n",
            "Epoch 2/10\n",
            "476/476 [==============================] - 82s 171ms/step - loss: 0.4517 - accuracy: 0.8058 - val_loss: 0.6559 - val_accuracy: 0.6378\n",
            "Epoch 3/10\n",
            "476/476 [==============================] - 82s 172ms/step - loss: 0.4171 - accuracy: 0.8215 - val_loss: 0.6339 - val_accuracy: 0.6632\n",
            "Epoch 4/10\n",
            "476/476 [==============================] - 82s 172ms/step - loss: 0.3919 - accuracy: 0.8320 - val_loss: 0.6299 - val_accuracy: 0.6695\n",
            "Epoch 5/10\n",
            "476/476 [==============================] - 82s 172ms/step - loss: 0.3681 - accuracy: 0.8413 - val_loss: 0.6480 - val_accuracy: 0.6916\n",
            "Epoch 6/10\n",
            "476/476 [==============================] - 82s 172ms/step - loss: 0.3443 - accuracy: 0.8509 - val_loss: 0.6240 - val_accuracy: 0.6914\n",
            "Epoch 7/10\n",
            "476/476 [==============================] - 82s 172ms/step - loss: 0.3178 - accuracy: 0.8617 - val_loss: 0.5932 - val_accuracy: 0.7051\n",
            "Epoch 8/10\n",
            "476/476 [==============================] - 82s 172ms/step - loss: 0.2878 - accuracy: 0.8741 - val_loss: 0.7468 - val_accuracy: 0.6930\n",
            "Epoch 9/10\n",
            "476/476 [==============================] - 82s 172ms/step - loss: 0.2565 - accuracy: 0.8867 - val_loss: 0.7359 - val_accuracy: 0.7066\n",
            "Epoch 10/10\n",
            "476/476 [==============================] - 82s 171ms/step - loss: 0.2257 - accuracy: 0.9014 - val_loss: 0.8299 - val_accuracy: 0.6963\n",
            "224/224 [==============================] - 3s 15ms/step - loss: 0.8299 - accuracy: 0.6963\n",
            "WARNING:tensorflow:Model was constructed with shape (None, 614) for input Tensor(\"claim_input:0\", shape=(None, 614), dtype=float32), but it was called on an input with incompatible shape (None, 189).\n",
            "WARNING:tensorflow:Model was constructed with shape (None, 1149) for input Tensor(\"evidence_input:0\", shape=(None, 1149), dtype=float32), but it was called on an input with incompatible shape (None, 873).\n",
            "              precision    recall  f1-score   support\n",
            "\n",
            "           0       0.81      0.47      0.59      3583\n",
            "           1       0.63      0.89      0.74      3606\n",
            "\n",
            "    accuracy                           0.68      7189\n",
            "   macro avg       0.72      0.68      0.66      7189\n",
            "weighted avg       0.72      0.68      0.66      7189\n",
            "\n",
            "AVG STATES\n",
            "SUM\n",
            "Epoch 1/10\n",
            "476/476 [==============================] - ETA: 0s - loss: 0.5100 - accuracy: 0.7762WARNING:tensorflow:Model was constructed with shape (None, 614) for input Tensor(\"claim_input:0\", shape=(None, 614), dtype=float32), but it was called on an input with incompatible shape (None, 200).\n",
            "WARNING:tensorflow:Model was constructed with shape (None, 1149) for input Tensor(\"evidence_input:0\", shape=(None, 1149), dtype=float32), but it was called on an input with incompatible shape (None, 939).\n",
            "476/476 [==============================] - 87s 182ms/step - loss: 0.5100 - accuracy: 0.7762 - val_loss: 0.6829 - val_accuracy: 0.6074\n",
            "Epoch 2/10\n",
            "476/476 [==============================] - 81s 171ms/step - loss: 0.4552 - accuracy: 0.8034 - val_loss: 0.6736 - val_accuracy: 0.6283\n",
            "Epoch 3/10\n",
            "476/476 [==============================] - 81s 171ms/step - loss: 0.4215 - accuracy: 0.8191 - val_loss: 0.6404 - val_accuracy: 0.6681\n",
            "Epoch 4/10\n",
            "476/476 [==============================] - 81s 171ms/step - loss: 0.3974 - accuracy: 0.8293 - val_loss: 0.5976 - val_accuracy: 0.6726\n",
            "Epoch 5/10\n",
            "476/476 [==============================] - 82s 172ms/step - loss: 0.3768 - accuracy: 0.8375 - val_loss: 0.6292 - val_accuracy: 0.6829\n",
            "Epoch 6/10\n",
            "476/476 [==============================] - 82s 171ms/step - loss: 0.3563 - accuracy: 0.8446 - val_loss: 0.6647 - val_accuracy: 0.6797\n",
            "Epoch 7/10\n",
            "476/476 [==============================] - 81s 171ms/step - loss: 0.3342 - accuracy: 0.8540 - val_loss: 0.6730 - val_accuracy: 0.6953\n",
            "Epoch 8/10\n",
            "476/476 [==============================] - 82s 171ms/step - loss: 0.3129 - accuracy: 0.8629 - val_loss: 0.6879 - val_accuracy: 0.6955\n",
            "Epoch 9/10\n",
            "476/476 [==============================] - 82s 172ms/step - loss: 0.2906 - accuracy: 0.8741 - val_loss: 0.6865 - val_accuracy: 0.6964\n",
            "Epoch 10/10\n",
            "476/476 [==============================] - 81s 171ms/step - loss: 0.2687 - accuracy: 0.8826 - val_loss: 0.6847 - val_accuracy: 0.7040\n",
            "224/224 [==============================] - 3s 14ms/step - loss: 0.6847 - accuracy: 0.7040\n",
            "WARNING:tensorflow:Model was constructed with shape (None, 614) for input Tensor(\"claim_input:0\", shape=(None, 614), dtype=float32), but it was called on an input with incompatible shape (None, 189).\n",
            "WARNING:tensorflow:Model was constructed with shape (None, 1149) for input Tensor(\"evidence_input:0\", shape=(None, 1149), dtype=float32), but it was called on an input with incompatible shape (None, 873).\n",
            "              precision    recall  f1-score   support\n",
            "\n",
            "           0       0.81      0.49      0.61      3583\n",
            "           1       0.63      0.88      0.74      3606\n",
            "\n",
            "    accuracy                           0.69      7189\n",
            "   macro avg       0.72      0.69      0.67      7189\n",
            "weighted avg       0.72      0.69      0.67      7189\n",
            "\n",
            "AVG STATES\n",
            "MEAN\n",
            "Epoch 1/10\n",
            "476/476 [==============================] - ETA: 0s - loss: 0.5063 - accuracy: 0.7788WARNING:tensorflow:Model was constructed with shape (None, 614) for input Tensor(\"claim_input:0\", shape=(None, 614), dtype=float32), but it was called on an input with incompatible shape (None, 200).\n",
            "WARNING:tensorflow:Model was constructed with shape (None, 1149) for input Tensor(\"evidence_input:0\", shape=(None, 1149), dtype=float32), but it was called on an input with incompatible shape (None, 939).\n",
            "476/476 [==============================] - 86s 181ms/step - loss: 0.5063 - accuracy: 0.7788 - val_loss: 0.6605 - val_accuracy: 0.6091\n",
            "Epoch 2/10\n",
            "476/476 [==============================] - 81s 171ms/step - loss: 0.4502 - accuracy: 0.8066 - val_loss: 0.6396 - val_accuracy: 0.6516\n",
            "Epoch 3/10\n",
            "476/476 [==============================] - 82s 171ms/step - loss: 0.4185 - accuracy: 0.8211 - val_loss: 0.5837 - val_accuracy: 0.6754\n",
            "Epoch 4/10\n",
            "476/476 [==============================] - 81s 171ms/step - loss: 0.3946 - accuracy: 0.8312 - val_loss: 0.6124 - val_accuracy: 0.6794\n",
            "Epoch 5/10\n",
            "476/476 [==============================] - 81s 171ms/step - loss: 0.3746 - accuracy: 0.8394 - val_loss: 0.5937 - val_accuracy: 0.6932\n",
            "Epoch 6/10\n",
            "476/476 [==============================] - 81s 171ms/step - loss: 0.3555 - accuracy: 0.8462 - val_loss: 0.5812 - val_accuracy: 0.6995\n",
            "Epoch 7/10\n",
            "476/476 [==============================] - 81s 171ms/step - loss: 0.3344 - accuracy: 0.8547 - val_loss: 0.6216 - val_accuracy: 0.6998\n",
            "Epoch 8/10\n",
            "476/476 [==============================] - 81s 171ms/step - loss: 0.3138 - accuracy: 0.8640 - val_loss: 0.5845 - val_accuracy: 0.7115\n",
            "Epoch 9/10\n",
            "476/476 [==============================] - 82s 171ms/step - loss: 0.2919 - accuracy: 0.8727 - val_loss: 0.6650 - val_accuracy: 0.7118\n",
            "Epoch 10/10\n",
            "476/476 [==============================] - 82s 172ms/step - loss: 0.2702 - accuracy: 0.8813 - val_loss: 0.7519 - val_accuracy: 0.7034\n",
            "224/224 [==============================] - 3s 14ms/step - loss: 0.7519 - accuracy: 0.7034\n",
            "WARNING:tensorflow:Model was constructed with shape (None, 614) for input Tensor(\"claim_input:0\", shape=(None, 614), dtype=float32), but it was called on an input with incompatible shape (None, 189).\n",
            "WARNING:tensorflow:Model was constructed with shape (None, 1149) for input Tensor(\"evidence_input:0\", shape=(None, 1149), dtype=float32), but it was called on an input with incompatible shape (None, 873).\n",
            "              precision    recall  f1-score   support\n",
            "\n",
            "           0       0.86      0.44      0.58      3583\n",
            "           1       0.63      0.93      0.75      3606\n",
            "\n",
            "    accuracy                           0.69      7189\n",
            "   macro avg       0.74      0.68      0.67      7189\n",
            "weighted avg       0.74      0.69      0.67      7189\n",
            "\n",
            "MLP\n",
            "CONCATENATE\n",
            "Epoch 1/10\n",
            "474/476 [============================>.] - ETA: 0s - loss: 0.5693 - accuracy: 0.7361WARNING:tensorflow:Model was constructed with shape (None, 614) for input Tensor(\"claim_input:0\", shape=(None, 614), dtype=float32), but it was called on an input with incompatible shape (None, 200).\n",
            "WARNING:tensorflow:Model was constructed with shape (None, 1149) for input Tensor(\"evidence_input:0\", shape=(None, 1149), dtype=float32), but it was called on an input with incompatible shape (None, 939).\n",
            "476/476 [==============================] - 10s 21ms/step - loss: 0.5691 - accuracy: 0.7362 - val_loss: 0.8150 - val_accuracy: 0.5391\n",
            "Epoch 2/10\n",
            "476/476 [==============================] - 10s 20ms/step - loss: 0.5539 - accuracy: 0.7463 - val_loss: 0.8079 - val_accuracy: 0.5498\n",
            "Epoch 3/10\n",
            "476/476 [==============================] - 10s 20ms/step - loss: 0.5504 - accuracy: 0.7478 - val_loss: 0.7791 - val_accuracy: 0.5474\n",
            "Epoch 4/10\n",
            "476/476 [==============================] - 10s 21ms/step - loss: 0.5456 - accuracy: 0.7507 - val_loss: 0.7454 - val_accuracy: 0.5562\n",
            "Epoch 5/10\n",
            "476/476 [==============================] - 10s 21ms/step - loss: 0.5418 - accuracy: 0.7536 - val_loss: 0.7428 - val_accuracy: 0.5579\n",
            "Epoch 6/10\n",
            "476/476 [==============================] - 10s 21ms/step - loss: 0.5368 - accuracy: 0.7580 - val_loss: 0.7401 - val_accuracy: 0.5757\n",
            "Epoch 7/10\n",
            "476/476 [==============================] - 10s 21ms/step - loss: 0.5341 - accuracy: 0.7603 - val_loss: 0.7326 - val_accuracy: 0.5718\n",
            "Epoch 8/10\n",
            "476/476 [==============================] - 10s 21ms/step - loss: 0.5308 - accuracy: 0.7629 - val_loss: 0.7632 - val_accuracy: 0.5745\n",
            "Epoch 9/10\n",
            "476/476 [==============================] - 10s 21ms/step - loss: 0.5279 - accuracy: 0.7647 - val_loss: 0.7671 - val_accuracy: 0.5719\n",
            "Epoch 10/10\n",
            "476/476 [==============================] - 10s 21ms/step - loss: 0.5266 - accuracy: 0.7654 - val_loss: 0.7416 - val_accuracy: 0.5689\n",
            "224/224 [==============================] - 1s 4ms/step - loss: 0.7416 - accuracy: 0.5689\n",
            "WARNING:tensorflow:Model was constructed with shape (None, 614) for input Tensor(\"claim_input:0\", shape=(None, 614), dtype=float32), but it was called on an input with incompatible shape (None, 189).\n",
            "WARNING:tensorflow:Model was constructed with shape (None, 1149) for input Tensor(\"evidence_input:0\", shape=(None, 1149), dtype=float32), but it was called on an input with incompatible shape (None, 873).\n",
            "              precision    recall  f1-score   support\n",
            "\n",
            "           0       0.85      0.13      0.23      3583\n",
            "           1       0.53      0.98      0.69      3606\n",
            "\n",
            "    accuracy                           0.56      7189\n",
            "   macro avg       0.69      0.55      0.46      7189\n",
            "weighted avg       0.69      0.56      0.46      7189\n",
            "\n",
            "MLP\n",
            "SUM\n",
            "Epoch 1/10\n",
            "475/476 [============================>.] - ETA: 0s - loss: 0.5770 - accuracy: 0.7342WARNING:tensorflow:Model was constructed with shape (None, 614) for input Tensor(\"claim_input:0\", shape=(None, 614), dtype=float32), but it was called on an input with incompatible shape (None, 200).\n",
            "WARNING:tensorflow:Model was constructed with shape (None, 1149) for input Tensor(\"evidence_input:0\", shape=(None, 1149), dtype=float32), but it was called on an input with incompatible shape (None, 939).\n",
            "476/476 [==============================] - 10s 21ms/step - loss: 0.5769 - accuracy: 0.7342 - val_loss: 0.8292 - val_accuracy: 0.5040\n",
            "Epoch 2/10\n",
            "476/476 [==============================] - 10s 20ms/step - loss: 0.5691 - accuracy: 0.7347 - val_loss: 0.8082 - val_accuracy: 0.5214\n",
            "Epoch 3/10\n",
            "476/476 [==============================] - 10s 20ms/step - loss: 0.5607 - accuracy: 0.7411 - val_loss: 0.8271 - val_accuracy: 0.5375\n",
            "Epoch 4/10\n",
            "476/476 [==============================] - 10s 20ms/step - loss: 0.5545 - accuracy: 0.7454 - val_loss: 0.7660 - val_accuracy: 0.5298\n",
            "Epoch 5/10\n",
            "476/476 [==============================] - 10s 20ms/step - loss: 0.5490 - accuracy: 0.7494 - val_loss: 0.7471 - val_accuracy: 0.5558\n",
            "Epoch 6/10\n",
            "476/476 [==============================] - 10s 20ms/step - loss: 0.5455 - accuracy: 0.7520 - val_loss: 0.7720 - val_accuracy: 0.5587\n",
            "Epoch 7/10\n",
            "476/476 [==============================] - 10s 20ms/step - loss: 0.5425 - accuracy: 0.7552 - val_loss: 0.7589 - val_accuracy: 0.5563\n",
            "Epoch 8/10\n",
            "476/476 [==============================] - 10s 20ms/step - loss: 0.5393 - accuracy: 0.7582 - val_loss: 0.7277 - val_accuracy: 0.5796\n",
            "Epoch 9/10\n",
            "476/476 [==============================] - 10s 21ms/step - loss: 0.5379 - accuracy: 0.7592 - val_loss: 0.7183 - val_accuracy: 0.5655\n",
            "Epoch 10/10\n",
            "476/476 [==============================] - 10s 20ms/step - loss: 0.5338 - accuracy: 0.7619 - val_loss: 0.7709 - val_accuracy: 0.5658\n",
            "224/224 [==============================] - 1s 4ms/step - loss: 0.7709 - accuracy: 0.5658\n",
            "WARNING:tensorflow:Model was constructed with shape (None, 614) for input Tensor(\"claim_input:0\", shape=(None, 614), dtype=float32), but it was called on an input with incompatible shape (None, 189).\n",
            "WARNING:tensorflow:Model was constructed with shape (None, 1149) for input Tensor(\"evidence_input:0\", shape=(None, 1149), dtype=float32), but it was called on an input with incompatible shape (None, 873).\n",
            "              precision    recall  f1-score   support\n",
            "\n",
            "           0       0.87      0.12      0.21      3583\n",
            "           1       0.53      0.98      0.69      3606\n",
            "\n",
            "    accuracy                           0.55      7189\n",
            "   macro avg       0.70      0.55      0.45      7189\n",
            "weighted avg       0.70      0.55      0.45      7189\n",
            "\n",
            "MLP\n",
            "MEAN\n",
            "Epoch 1/10\n",
            "474/476 [============================>.] - ETA: 0s - loss: 0.5793 - accuracy: 0.7333WARNING:tensorflow:Model was constructed with shape (None, 614) for input Tensor(\"claim_input:0\", shape=(None, 614), dtype=float32), but it was called on an input with incompatible shape (None, 200).\n",
            "WARNING:tensorflow:Model was constructed with shape (None, 1149) for input Tensor(\"evidence_input:0\", shape=(None, 1149), dtype=float32), but it was called on an input with incompatible shape (None, 939).\n",
            "476/476 [==============================] - 10s 22ms/step - loss: 0.5793 - accuracy: 0.7333 - val_loss: 0.8578 - val_accuracy: 0.5040\n",
            "Epoch 2/10\n",
            "476/476 [==============================] - 10s 21ms/step - loss: 0.5710 - accuracy: 0.7346 - val_loss: 0.8524 - val_accuracy: 0.5283\n",
            "Epoch 3/10\n",
            "476/476 [==============================] - 10s 22ms/step - loss: 0.5635 - accuracy: 0.7386 - val_loss: 0.8143 - val_accuracy: 0.5456\n",
            "Epoch 4/10\n",
            "476/476 [==============================] - 10s 21ms/step - loss: 0.5579 - accuracy: 0.7442 - val_loss: 0.7973 - val_accuracy: 0.5291\n",
            "Epoch 5/10\n",
            "476/476 [==============================] - 10s 21ms/step - loss: 0.5516 - accuracy: 0.7485 - val_loss: 0.7767 - val_accuracy: 0.5461\n",
            "Epoch 6/10\n",
            "476/476 [==============================] - 10s 21ms/step - loss: 0.5482 - accuracy: 0.7505 - val_loss: 0.8284 - val_accuracy: 0.5368\n",
            "Epoch 7/10\n",
            "476/476 [==============================] - 10s 21ms/step - loss: 0.5438 - accuracy: 0.7536 - val_loss: 0.8164 - val_accuracy: 0.5478\n",
            "Epoch 8/10\n",
            "476/476 [==============================] - 10s 21ms/step - loss: 0.5418 - accuracy: 0.7553 - val_loss: 0.7384 - val_accuracy: 0.5634\n",
            "Epoch 9/10\n",
            "476/476 [==============================] - 10s 21ms/step - loss: 0.5390 - accuracy: 0.7572 - val_loss: 0.7986 - val_accuracy: 0.5428\n",
            "Epoch 10/10\n",
            "476/476 [==============================] - 10s 21ms/step - loss: 0.5370 - accuracy: 0.7595 - val_loss: 0.7555 - val_accuracy: 0.5652\n",
            "224/224 [==============================] - 1s 4ms/step - loss: 0.7555 - accuracy: 0.5652\n",
            "WARNING:tensorflow:Model was constructed with shape (None, 614) for input Tensor(\"claim_input:0\", shape=(None, 614), dtype=float32), but it was called on an input with incompatible shape (None, 189).\n",
            "WARNING:tensorflow:Model was constructed with shape (None, 1149) for input Tensor(\"evidence_input:0\", shape=(None, 1149), dtype=float32), but it was called on an input with incompatible shape (None, 873).\n",
            "              precision    recall  f1-score   support\n",
            "\n",
            "           0       0.86      0.13      0.22      3583\n",
            "           1       0.53      0.98      0.69      3606\n",
            "\n",
            "    accuracy                           0.55      7189\n",
            "   macro avg       0.70      0.55      0.45      7189\n",
            "weighted avg       0.70      0.55      0.45      7189\n",
            "\n",
            "BoW\n",
            "CONCATENATE\n",
            "Epoch 1/10\n",
            "474/476 [============================>.] - ETA: 0s - loss: 0.5814 - accuracy: 0.7344WARNING:tensorflow:Model was constructed with shape (None, 614) for input Tensor(\"claim_input:0\", shape=(None, 614), dtype=float32), but it was called on an input with incompatible shape (None, 200).\n",
            "WARNING:tensorflow:Model was constructed with shape (None, 1149) for input Tensor(\"evidence_input:0\", shape=(None, 1149), dtype=float32), but it was called on an input with incompatible shape (None, 939).\n",
            "476/476 [==============================] - 10s 21ms/step - loss: 0.5815 - accuracy: 0.7343 - val_loss: 0.8165 - val_accuracy: 0.5040\n",
            "Epoch 2/10\n",
            "476/476 [==============================] - 10s 20ms/step - loss: 0.5801 - accuracy: 0.7343 - val_loss: 0.7968 - val_accuracy: 0.5040\n",
            "Epoch 3/10\n",
            "476/476 [==============================] - 10s 20ms/step - loss: 0.5799 - accuracy: 0.7343 - val_loss: 0.7801 - val_accuracy: 0.5040\n",
            "Epoch 4/10\n",
            "476/476 [==============================] - 10s 20ms/step - loss: 0.5799 - accuracy: 0.7343 - val_loss: 0.8136 - val_accuracy: 0.5040\n",
            "Epoch 5/10\n",
            "476/476 [==============================] - 10s 20ms/step - loss: 0.5796 - accuracy: 0.7343 - val_loss: 0.8204 - val_accuracy: 0.5040\n",
            "Epoch 6/10\n",
            "476/476 [==============================] - 10s 20ms/step - loss: 0.5797 - accuracy: 0.7343 - val_loss: 0.8063 - val_accuracy: 0.5040\n",
            "Epoch 7/10\n",
            "476/476 [==============================] - 10s 20ms/step - loss: 0.5797 - accuracy: 0.7343 - val_loss: 0.8188 - val_accuracy: 0.5040\n",
            "Epoch 8/10\n",
            "476/476 [==============================] - 10s 20ms/step - loss: 0.5795 - accuracy: 0.7343 - val_loss: 0.8060 - val_accuracy: 0.5040\n",
            "Epoch 9/10\n",
            "476/476 [==============================] - 10s 20ms/step - loss: 0.5794 - accuracy: 0.7343 - val_loss: 0.8012 - val_accuracy: 0.5040\n",
            "Epoch 10/10\n",
            "476/476 [==============================] - 10s 20ms/step - loss: 0.5794 - accuracy: 0.7343 - val_loss: 0.7972 - val_accuracy: 0.5040\n",
            "224/224 [==============================] - 1s 4ms/step - loss: 0.7972 - accuracy: 0.5040\n",
            "WARNING:tensorflow:Model was constructed with shape (None, 614) for input Tensor(\"claim_input:0\", shape=(None, 614), dtype=float32), but it was called on an input with incompatible shape (None, 189).\n",
            "WARNING:tensorflow:Model was constructed with shape (None, 1149) for input Tensor(\"evidence_input:0\", shape=(None, 1149), dtype=float32), but it was called on an input with incompatible shape (None, 873).\n"
          ],
          "name": "stdout"
        },
        {
          "output_type": "stream",
          "text": [
            "/usr/local/lib/python3.6/dist-packages/sklearn/metrics/_classification.py:1272: UndefinedMetricWarning: Precision and F-score are ill-defined and being set to 0.0 in labels with no predicted samples. Use `zero_division` parameter to control this behavior.\n",
            "  _warn_prf(average, modifier, msg_start, len(result))\n"
          ],
          "name": "stderr"
        },
        {
          "output_type": "stream",
          "text": [
            "              precision    recall  f1-score   support\n",
            "\n",
            "           0       0.00      0.00      0.00      3583\n",
            "           1       0.50      1.00      0.67      3606\n",
            "\n",
            "    accuracy                           0.50      7189\n",
            "   macro avg       0.25      0.50      0.33      7189\n",
            "weighted avg       0.25      0.50      0.34      7189\n",
            "\n",
            "BoW\n",
            "SUM\n",
            "Epoch 1/10\n",
            "475/476 [============================>.] - ETA: 0s - loss: 0.5851 - accuracy: 0.7312WARNING:tensorflow:Model was constructed with shape (None, 614) for input Tensor(\"claim_input:0\", shape=(None, 614), dtype=float32), but it was called on an input with incompatible shape (None, 200).\n",
            "WARNING:tensorflow:Model was constructed with shape (None, 1149) for input Tensor(\"evidence_input:0\", shape=(None, 1149), dtype=float32), but it was called on an input with incompatible shape (None, 939).\n",
            "476/476 [==============================] - 10s 20ms/step - loss: 0.5851 - accuracy: 0.7312 - val_loss: 0.8314 - val_accuracy: 0.5040\n",
            "Epoch 2/10\n",
            "476/476 [==============================] - 10s 20ms/step - loss: 0.5806 - accuracy: 0.7343 - val_loss: 0.8179 - val_accuracy: 0.5040\n",
            "Epoch 3/10\n",
            "476/476 [==============================] - 9s 20ms/step - loss: 0.5799 - accuracy: 0.7343 - val_loss: 0.7991 - val_accuracy: 0.5040\n",
            "Epoch 4/10\n",
            "476/476 [==============================] - 9s 20ms/step - loss: 0.5798 - accuracy: 0.7343 - val_loss: 0.8115 - val_accuracy: 0.5040\n",
            "Epoch 5/10\n",
            "476/476 [==============================] - 9s 20ms/step - loss: 0.5799 - accuracy: 0.7343 - val_loss: 0.8101 - val_accuracy: 0.5040\n",
            "Epoch 6/10\n",
            "476/476 [==============================] - 9s 20ms/step - loss: 0.5798 - accuracy: 0.7343 - val_loss: 0.7838 - val_accuracy: 0.5040\n",
            "Epoch 7/10\n",
            "476/476 [==============================] - 9s 20ms/step - loss: 0.5797 - accuracy: 0.7343 - val_loss: 0.7975 - val_accuracy: 0.5040\n",
            "Epoch 8/10\n",
            "476/476 [==============================] - 9s 20ms/step - loss: 0.5796 - accuracy: 0.7343 - val_loss: 0.8162 - val_accuracy: 0.5040\n",
            "Epoch 9/10\n",
            "476/476 [==============================] - 9s 20ms/step - loss: 0.5797 - accuracy: 0.7343 - val_loss: 0.8015 - val_accuracy: 0.5040\n",
            "Epoch 10/10\n",
            "476/476 [==============================] - 9s 20ms/step - loss: 0.5795 - accuracy: 0.7343 - val_loss: 0.8195 - val_accuracy: 0.5040\n",
            "224/224 [==============================] - 1s 4ms/step - loss: 0.8195 - accuracy: 0.5040\n",
            "WARNING:tensorflow:Model was constructed with shape (None, 614) for input Tensor(\"claim_input:0\", shape=(None, 614), dtype=float32), but it was called on an input with incompatible shape (None, 189).\n",
            "WARNING:tensorflow:Model was constructed with shape (None, 1149) for input Tensor(\"evidence_input:0\", shape=(None, 1149), dtype=float32), but it was called on an input with incompatible shape (None, 873).\n",
            "              precision    recall  f1-score   support\n",
            "\n",
            "           0       0.00      0.00      0.00      3583\n",
            "           1       0.50      1.00      0.67      3606\n",
            "\n",
            "    accuracy                           0.50      7189\n",
            "   macro avg       0.25      0.50      0.33      7189\n",
            "weighted avg       0.25      0.50      0.34      7189\n",
            "\n",
            "BoW\n",
            "MEAN\n",
            "Epoch 1/10\n",
            "475/476 [============================>.] - ETA: 0s - loss: 0.5825 - accuracy: 0.7317WARNING:tensorflow:Model was constructed with shape (None, 614) for input Tensor(\"claim_input:0\", shape=(None, 614), dtype=float32), but it was called on an input with incompatible shape (None, 200).\n",
            "WARNING:tensorflow:Model was constructed with shape (None, 1149) for input Tensor(\"evidence_input:0\", shape=(None, 1149), dtype=float32), but it was called on an input with incompatible shape (None, 939).\n",
            "476/476 [==============================] - 10s 20ms/step - loss: 0.5825 - accuracy: 0.7317 - val_loss: 0.7960 - val_accuracy: 0.5040\n",
            "Epoch 2/10\n",
            "476/476 [==============================] - 9s 20ms/step - loss: 0.5801 - accuracy: 0.7343 - val_loss: 0.8363 - val_accuracy: 0.5040\n",
            "Epoch 3/10\n",
            "476/476 [==============================] - 9s 20ms/step - loss: 0.5799 - accuracy: 0.7343 - val_loss: 0.7985 - val_accuracy: 0.5040\n",
            "Epoch 4/10\n",
            "476/476 [==============================] - 10s 20ms/step - loss: 0.5796 - accuracy: 0.7343 - val_loss: 0.8143 - val_accuracy: 0.5040\n",
            "Epoch 5/10\n",
            "476/476 [==============================] - 9s 20ms/step - loss: 0.5795 - accuracy: 0.7343 - val_loss: 0.8038 - val_accuracy: 0.5040\n",
            "Epoch 6/10\n",
            "476/476 [==============================] - 9s 20ms/step - loss: 0.5796 - accuracy: 0.7343 - val_loss: 0.8106 - val_accuracy: 0.5040\n",
            "Epoch 7/10\n",
            "476/476 [==============================] - 9s 20ms/step - loss: 0.5796 - accuracy: 0.7343 - val_loss: 0.8205 - val_accuracy: 0.5040\n",
            "Epoch 8/10\n",
            "476/476 [==============================] - 9s 20ms/step - loss: 0.5795 - accuracy: 0.7343 - val_loss: 0.8230 - val_accuracy: 0.5040\n",
            "Epoch 9/10\n",
            "476/476 [==============================] - 9s 20ms/step - loss: 0.5794 - accuracy: 0.7343 - val_loss: 0.8192 - val_accuracy: 0.5040\n",
            "Epoch 10/10\n",
            "476/476 [==============================] - 9s 20ms/step - loss: 0.5795 - accuracy: 0.7343 - val_loss: 0.8045 - val_accuracy: 0.5040\n",
            "224/224 [==============================] - 1s 4ms/step - loss: 0.8045 - accuracy: 0.5040\n",
            "WARNING:tensorflow:Model was constructed with shape (None, 614) for input Tensor(\"claim_input:0\", shape=(None, 614), dtype=float32), but it was called on an input with incompatible shape (None, 189).\n",
            "WARNING:tensorflow:Model was constructed with shape (None, 1149) for input Tensor(\"evidence_input:0\", shape=(None, 1149), dtype=float32), but it was called on an input with incompatible shape (None, 873).\n",
            "              precision    recall  f1-score   support\n",
            "\n",
            "           0       0.00      0.00      0.00      3583\n",
            "           1       0.50      1.00      0.67      3606\n",
            "\n",
            "    accuracy                           0.50      7189\n",
            "   macro avg       0.25      0.50      0.33      7189\n",
            "weighted avg       0.25      0.50      0.34      7189\n",
            "\n"
          ],
          "name": "stdout"
        }
      ]
    },
    {
      "cell_type": "markdown",
      "metadata": {
        "id": "1bms19rSC5ww"
      },
      "source": [
        "# TRAINING"
      ]
    },
    {
      "cell_type": "code",
      "metadata": {
        "id": "BbEokKHWK5_8"
      },
      "source": [
        ""
      ],
      "execution_count": 30,
      "outputs": []
    },
    {
      "cell_type": "markdown",
      "metadata": {
        "id": "kyYUZabrC8PR"
      },
      "source": [
        "# EVALUATION"
      ]
    },
    {
      "cell_type": "code",
      "metadata": {
        "id": "RrUgm8yoC9VI"
      },
      "source": [
        ""
      ],
      "execution_count": 30,
      "outputs": []
    },
    {
      "cell_type": "markdown",
      "metadata": {
        "id": "1oXneFQ2C9u7"
      },
      "source": [
        "# COMMENTARY"
      ]
    },
    {
      "cell_type": "code",
      "metadata": {
        "id": "hr1G6J5lC-zg"
      },
      "source": [
        ""
      ],
      "execution_count": 30,
      "outputs": []
    }
  ]
}