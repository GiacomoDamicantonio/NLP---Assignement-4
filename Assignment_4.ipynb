{
  "nbformat": 4,
  "nbformat_minor": 0,
  "metadata": {
    "colab": {
      "name": "Assignment_4.ipynb",
      "provenance": [],
      "toc_visible": true,
      "machine_shape": "hm"
    },
    "kernelspec": {
      "name": "python3",
      "display_name": "Python 3"
    },
    "accelerator": "GPU"
  },
  "cells": [
    {
      "cell_type": "markdown",
      "metadata": {
        "id": "3GM9DBN-Qz3k"
      },
      "source": [
        "# Assignment 4\n",
        "\n",
        "**Due to**: TBD\n",
        "\n",
        "**Credits**: Andrea Galassi, Federico Ruggeri, Paolo Torroni\n",
        "\n",
        "**Summary**: Fact checking, Neural Languange Inference (**NLI**)"
      ]
    },
    {
      "cell_type": "markdown",
      "metadata": {
        "id": "tO_-4CZeRCO7"
      },
      "source": [
        "# Intro\n",
        "\n",
        "This assignment is centred on a particular and emerging NLP task, formally known as **fact checking** (or fake checking). As AI techniques become more and more powerful, reaching amazing results, such as image and text generation, it is more than ever necessary to build tools able to distinguish what is real from what is fake.\n",
        "\n",
        "Here we focus on a small portion of the whole fact checking problem, which aims to determine whether a given statement (fact) conveys a trustworthy information or not. \n",
        "\n",
        "More precisely, given a set of evidences and a fact to verify, we would like our model to correctly predict whether the fact is true or fake.\n",
        "\n",
        "In particular, we will see:\n",
        "\n",
        "*   Dataset preparation (analysis and pre-processing)\n",
        "*   Problem formulation: multi-input binary classification\n",
        "*   Defining an evaluation method\n",
        "*   Simple sentence embedding\n",
        "*   Neural building blocks\n",
        "*   Neural architecture extension"
      ]
    },
    {
      "cell_type": "markdown",
      "metadata": {
        "id": "hGDwg78PS_uy"
      },
      "source": [
        "# The FEVER dataset\n",
        "\n",
        "First of all, we need to choose a dataset. In this assignment we will rely on the [FEVER dataset](https://fever.ai).\n",
        "\n",
        "The dataset is about facts taken from Wikipedia documents that have to be verified. In particular, facts could face manual modifications in order to define fake information or to give different formulations of the same concept.\n",
        "\n",
        "The dataset consists of 185,445 claims manually verified against the introductory sections of Wikipedia pages and classified as ```Supported```, ```Refuted``` or ```NotEnoughInfo```. For the first two classes, systems and annotators need to also return the combination of sentences forming the necessary evidence supporting or refuting the claim."
      ]
    },
    {
      "cell_type": "markdown",
      "metadata": {
        "id": "4Oa5FpVpT7p4"
      },
      "source": [
        "## Dataset structure\n",
        "\n",
        "Relevant data is divided into two file types. Information concerning the fact to verify, its verdict and associated supporting/opposing statements are stored in **.jsonl** format. In particular, each JSON element is a python dictionary with the following relevant fields:\n",
        "\n",
        "*    **ID**: ID associated to the fact to verify.\n",
        "\n",
        "*    **Verifiable**: whether the fact has been verified or not: ```VERIFIABLE``` or ```NOT VERIFIABLE```.\n",
        "    \n",
        "*    **Label**: the final verdict on the fact to verify: ```SUPPORTS```, ```REFUTES``` or ```NOT ENOUGH INFO```.\n",
        "    \n",
        "*    **Claim**: the fact to verify.\n",
        "    \n",
        "*    **Evidence**: a nested list of document IDs along with the sentence ID that is associated to the fact to verify. In particular, each list element is a tuple of four elements: the first two are internal annotator IDs that can be safely ignored; the third term is the document ID (called URL) and the last one is the sentence number (ID) in the pointed document to consider.\n",
        "\n",
        "**Some Examples**\n",
        "\n",
        "---\n",
        "\n",
        "**Verifiable**\n",
        "\n",
        "{\"id\": 202314, \"verifiable\": \"VERIFIABLE\", \"label\": \"REFUTES\", \"claim\": \"The New Jersey Turnpike has zero shoulders.\", \"evidence\": [[[238335, 240393, \"New_Jersey_Turnpike\", 15]]]}\n",
        "\n",
        "---\n",
        "\n",
        "**Not Verifiable**\n",
        "\n",
        "{\"id\": 113501, \"verifiable\": \"NOT VERIFIABLE\", \"label\": \"NOT ENOUGH INFO\", \"claim\": \"Grease had bad reviews.\", \"evidence\": [[[133128, null, null, null]]]}\n",
        "\n",
        "---"
      ]
    },
    {
      "cell_type": "markdown",
      "metadata": {
        "id": "nex_8UM4VWuY"
      },
      "source": [
        "## Some simplifications and pre-processing\n",
        "\n",
        "We are only interested in verifiable facts. Thus, we can filter out all non-verifiable claims.\n",
        "\n",
        "Additionally, the current dataset format does not contain all necessary information for our classification purposes. In particular, we need to download Wikipedia documents and replace reported evidence IDs with the corresponding text.\n",
        "\n",
        "Don't worry about that! We are providing you the already pre-processed dataset so that you can concentrate on the classification pipeline (pre-processing, model definition, evaluation and training).\n",
        "\n",
        "You can download the zip file containing all set splits (train, validation and test) of the FEVER dataset by clicking on this [link](https://drive.google.com/file/d/1wArZhF9_SHW17WKNGeLmX-QTYw9Zscl1/view?usp=sharing). Alternatively, run the below code cell to automatically download it on this notebook.\n",
        "\n",
        "**Note**: each dataset split is in .csv format. Feel free to inspect the whole dataset!"
      ]
    },
    {
      "cell_type": "code",
      "metadata": {
        "colab": {
          "base_uri": "https://localhost:8080/"
        },
        "id": "BspxZcRjW0NG",
        "outputId": "3c14e943-719a-4a4a-b536-b958eec46133"
      },
      "source": [
        "import os\n",
        "import requests\n",
        "import zipfile\n",
        "\n",
        "def save_response_content(response, destination):\n",
        "    CHUNK_SIZE = 32768\n",
        "\n",
        "    with open(destination, \"wb\") as f:\n",
        "        for chunk in response.iter_content(CHUNK_SIZE):\n",
        "            if chunk: # filter out keep-alive new chunks\n",
        "                f.write(chunk)\n",
        "\n",
        "def download_data(data_path):\n",
        "    toy_data_path = os.path.join(data_path, 'fever_data.zip')\n",
        "    toy_data_url_id = \"1wArZhF9_SHW17WKNGeLmX-QTYw9Zscl1\"\n",
        "    toy_url = \"https://docs.google.com/uc?export=download\"\n",
        "\n",
        "    if not os.path.exists(data_path):\n",
        "        os.makedirs(data_path)\n",
        "\n",
        "    if not os.path.exists(toy_data_path):\n",
        "        print(\"Downloading FEVER data splits...\")\n",
        "        with requests.Session() as current_session:\n",
        "            response = current_session.get(toy_url,\n",
        "                                   params={'id': toy_data_url_id},\n",
        "                                   stream=True)\n",
        "        save_response_content(response, toy_data_path)\n",
        "        print(\"Download completed!\")\n",
        "\n",
        "        print(\"Extracting dataset...\")\n",
        "        with zipfile.ZipFile(toy_data_path) as loaded_zip:\n",
        "            loaded_zip.extractall(data_path)\n",
        "        print(\"Extraction completed!\")\n",
        "\n",
        "download_data('dataset')"
      ],
      "execution_count": 1,
      "outputs": [
        {
          "output_type": "stream",
          "text": [
            "Downloading FEVER data splits...\n",
            "Download completed!\n",
            "Extracting dataset...\n",
            "Extraction completed!\n"
          ],
          "name": "stdout"
        }
      ]
    },
    {
      "cell_type": "markdown",
      "metadata": {
        "id": "RbH_8errW5MH"
      },
      "source": [
        "# Classification dataset\n",
        "\n",
        "At this point, you should have a reay-to-go dataset! Note that the dataset format changed as well! In particular, we split the evidence set associated to each claim, in order to build (claim, evidence) pairs. The classification label is propagated as well.\n",
        "\n",
        "We'll motivate this decision in the next section!\n",
        "\n",
        "Just for clarity, here's an example of the pre-processed dataset:\n",
        "\n",
        "---\n",
        "\n",
        "**Claim**: \"Wentworth Miller is yet to make his screenwriting debut.\"\n",
        "\n",
        "**Evidence**: \"2\tHe made his screenwriting debut with the 2013 thriller film Stoker .\tStoker\tStoker (film)\"\n",
        "\n",
        "**Label**: Refutes\n",
        "\n",
        "---\n",
        "\n",
        "**Note**: The dataset requires some text cleaning as you may notice!\n"
      ]
    },
    {
      "cell_type": "markdown",
      "metadata": {
        "id": "gH8hIK21Xrl0"
      },
      "source": [
        "# Problem formulation\n",
        "\n",
        "As mentioned at the beginning of the assignment, we are going to formulate the fact checking problem as a binary classification task.\n",
        "\n",
        "In particular, each dataset sample is comprised of:\n",
        "\n",
        "*     A claim to verify\n",
        "*     A set of semantically related statements (evidence set)\n",
        "*     Fact checking label: either evidences support or refute the claim.\n",
        "\n",
        "Handling the evidence set from the point of view of neural models may imply some additional complexity: if the evidence set is comprised of several sentences we might incur in memory problems.\n",
        "\n",
        "To this end, we further simplify the problem by building (claim, evidence) pairs. The fact checking label is propagated as well.\n",
        "\n",
        "Example:\n",
        "\n",
        "     Claim: c1 \n",
        "     Evidence set: [e1, e2, e3]\n",
        "     Label: S (support)\n",
        "\n",
        "--->\n",
        "\n",
        "    (c1, e1, S),\n",
        "    (c1, e2, S),\n",
        "    (c1, e3, S)"
      ]
    },
    {
      "cell_type": "markdown",
      "metadata": {
        "id": "E46flIz_zQy-"
      },
      "source": [
        "## Schema\n",
        "\n",
        "The overall binary classification problem is summed up by the following (simplified) schema\n",
        "\n",
        "![](https://drive.google.com/uc?export=view&id=1Wm_YBnFwgJtxcWEBpPbTBEVkpKaL08Jp)\n",
        "\n",
        "Don't worry too much about the **Encoding** block for now. We'll give you some simple guidelines about its definition. For the moment, stick to the binary classification task definition where, in this case, we have 2 inputs: the claim to verify and one of its associated evidences."
      ]
    },
    {
      "cell_type": "markdown",
      "metadata": {
        "id": "LsiTV-NVdgsF"
      },
      "source": [
        "# Architecture Guidelines\n",
        "\n",
        "There are many neural architectures that follow the above schema. To avoid phenomena like the writer's block, in this section we are going to give you some implementation guidelines.\n",
        "\n",
        "In particular, we would like you to test some implementations so that you explore basic approaches (neural baselines) and use them as building blocks for possible extensions."
      ]
    },
    {
      "cell_type": "markdown",
      "metadata": {
        "id": "ZJBQm47fe7iE"
      },
      "source": [
        "## Handling multiple inputs\n",
        "\n",
        "The first thing to notice is that we are in a multi-input scenario. In particular, each sample is comprised of a fact and its asssociated evidence statement.\n",
        "\n",
        "Each of these input is encoded as a sequence of tokens. In particular, we will have the following input matrices:\n",
        "\n",
        "*    Claim: [batch_size, max_tokens]\n",
        "*    Evidence: [batch_size, max_tokens]\n",
        "\n",
        "Moreover, after the embedding layer, we'll have:\n",
        "\n",
        "*    Claim: [batch_size, max_tokens, embedding_dim]\n",
        "*    Evidence: [batch_size, max_tokens, embedding_dim]\n",
        "\n",
        "But, we would like to have a 2D input to our classifier, since we have to give an answer at pair level. Therefore, for each sample, we would expect the following input shape to our classification block:\n",
        "\n",
        "*   Classification input shape: [batch_size, dim]\n",
        "\n",
        "**How to do that?**\n",
        "\n",
        "We inherently need to reduce the token sequence to a single representation. This operation is formally known as **sentence embedding**. Indeed, we are trying to compress the information of a whole sequence into a single embedding vector.\n",
        "\n",
        "Here are some simple solutions that we ask you to try out:\n",
        "\n",
        "*   Encode token sequences via a RNN and take the last state as the sentence embedding.\n",
        "\n",
        "*   Encode token sequences via a RNN and average all the output states.\n",
        "\n",
        "*   Encode token sequences via a simple MLP layer. In particular, if your input is a [batch_size, max_tokens, embedding_dim] tensor, the matrix multiplication works on the **max_tokens** dimension, resulting in a [batch_size, embedding_dim] 2D matrix.\n",
        "\n",
        "*   Compute the sentence embedding as the mean of its token embeddings (**bag of vectors**)."
      ]
    },
    {
      "cell_type": "markdown",
      "metadata": {
        "id": "Gypl5z5ElJo1"
      },
      "source": [
        "## Merging multi-inputs\n",
        "\n",
        "At this point, we have to think about **how** we should merge evidence and claim sentence embeddings.\n",
        "\n",
        "For simplicity, we stick to simple merging strategies:\n",
        "\n",
        "*     **Concatenation**: define the classification input as the concatenation of evidence and claim sentence embeddings\n",
        "\n",
        "*     **Sum**: define the classification input as the sum of evidence and claim sentence embeddings\n",
        "\n",
        "*     **Mean**: define the classification input as the mean of evidence and claim sentence embeddings\n",
        "\n",
        "For clarity, if we the sentence embedding of a single input has shape [batch_size, embedding_dim], then the classification input has shape:\n",
        "\n",
        "*     **Concatenation**: [batch_size, 2 * embedding_dim]\n",
        "\n",
        "*     **Sum**: [batch_size, embedding_dim]\n",
        "\n",
        "*     **Mean**: [batch_size, embedding_dim]"
      ]
    },
    {
      "cell_type": "markdown",
      "metadata": {
        "id": "IhVg9ZLymOUc"
      },
      "source": [
        "# A simple extension\n",
        "\n",
        "Lastly, we ask you to modify previously defined neural architectures by adding an additional feature to the classification input.\n",
        "\n",
        "We would like to see if some similarity information between the claim to verify and one of its associated evidence might be useful to the classification.\n",
        "\n",
        "Compute the cosine similarity metric between the two sentence embeddings and concatenate the result to the classification input.\n",
        "\n",
        "For clarity, since the cosine similarity of two vectors outputs a scalar value, the classification input shape is modified as follows:\n",
        "\n",
        "*     **Concatenation**: [batch_size, 2 * embedding_dim + 1]\n",
        "\n",
        "*     **Sum**: [batch_size, embedding_dim + 1]\n",
        "\n",
        "*     **Mean**: [batch_size, embedding_dim + 1]\n",
        "\n"
      ]
    },
    {
      "cell_type": "markdown",
      "metadata": {
        "id": "Nd74ULgpnJrc"
      },
      "source": [
        "# Performance evaluation\n",
        "\n",
        "Due to our simplifications, obtained results are not directly compatible with a traditional fact checking method that considers the evidence set as a whole.\n",
        "\n",
        "Thus, we need to consider two types of evaluations.\n",
        "\n",
        "**Multi-input classification evaluation**\n",
        "\n",
        "This type of evaluation is the easiest and concerns computing evaluation metrics, such as accuracy, f1-score, recall and precision, of our pre-processed dataset.\n",
        "\n",
        "In other words, we assess the performance of chosen classifiers.\n",
        "\n",
        "**Claim verification evaluation**\n",
        "\n",
        "However, if we want to give an answer concerning the claim itself, we need to consider the whole evidence set. \n",
        "\n",
        "Intuitively, for a given claim, we consider all its corresponding (claim, evidence) pairs and their corresponding classification outputs. \n",
        "\n",
        "At this point, all we need to do is to compute the final predicted claim label via majority voting.\n",
        "\n",
        "Example:\n",
        "\n",
        "    Claim: c1\n",
        "    Evidence set: e1, e2, e3\n",
        "    True label: S\n",
        "\n",
        "    Pair outputs:\n",
        "    (c1, e1) -> S (supports)\n",
        "    (c1, e2) -> S (supports)\n",
        "    (c1, e3) -> R (refutes)\n",
        "\n",
        "    Majority voting:\n",
        "    S -> 2 votes\n",
        "    R -> 1 vote\n",
        "\n",
        "    Final label:\n",
        "    c1 -> S\n",
        "\n",
        "Lastly, we have to compute classification metrics just like before."
      ]
    },
    {
      "cell_type": "markdown",
      "metadata": {
        "id": "W4LJ2yPxsUOV"
      },
      "source": [
        "# Tips and Extras"
      ]
    },
    {
      "cell_type": "markdown",
      "metadata": {
        "id": "Uf80UVRNrXve"
      },
      "source": [
        "## Extensions are welcome!\n",
        "\n",
        "Is this task too easy for you? Are you curious to try out things you have seen during lectures (e.g. attention)? Feel free to try everything you want!\n",
        "\n",
        "Don't forget to try neural baselines first!"
      ]
    },
    {
      "cell_type": "markdown",
      "metadata": {
        "id": "COXeCXdYsBEf"
      },
      "source": [
        "## Comments and documentation\n",
        "\n",
        "Remember to properly comment your code (it is not necessary to comment each single line) and don't forget to describe your work!"
      ]
    },
    {
      "cell_type": "markdown",
      "metadata": {
        "id": "Ejv6SDE8xc4_"
      },
      "source": [
        "## Organization\n",
        "\n",
        "We suggest you to divide your work into sections. This allows you to build clean and modular code, as well as easy to read and to debug.\n",
        "\n",
        "A possible schema:\n",
        "\n",
        "*   Dataset pre-processing\n",
        "*   Dataset conversion\n",
        "*   Model definition\n",
        "*   Training\n",
        "*   Evaluation\n",
        "*   Comments/Summary"
      ]
    },
    {
      "cell_type": "markdown",
      "metadata": {
        "id": "9DR70uh7pabo"
      },
      "source": [
        "# Contact\n",
        "\n",
        "For any doubt, question, issue or help, you can always contact us at the following email addresses:\n",
        "\n",
        "Teaching Assistants:\n",
        "\n",
        "* Andrea Galassi -> a.galassi@unibo.it\n",
        "* Federico Ruggeri -> federico.ruggeri6@unibo.it\n",
        "\n",
        "Professor:\n",
        "\n",
        "* Paolo Torroni -> p.torroni@unibo.it\n",
        "\n",
        "Don't forget that your feedback is very important! Your suggestions help us improving course material."
      ]
    },
    {
      "cell_type": "markdown",
      "metadata": {
        "id": "Jc0gNWU2pgKQ"
      },
      "source": [
        "# FAQ\n",
        "\n",
        "---\n",
        "\n",
        "**Q: Can I do something text pre-processing?**\n",
        "\n",
        "**A:** You have to! If you check text data, the majority of sentences need some cleaning.\n",
        "\n",
        "---\n",
        "\n",
        "**Q: I'm struggling with the implementation. Can you help me?**\n",
        "\n",
        "**A:** Yes sure! Write us an email about your issue. If you are looking for a particular type of operation, you can easily check the documentation of the deep learning framework you are using (google is your friend).\n",
        "\n",
        "---\n",
        "\n",
        "**Q: Can I try other encoding strategies or neural architectures?**\n",
        "\n",
        "**A:** Absolutely! Remember to try out recommended neural baselines first and only then proceed with your extensions.\n",
        "\n",
        "---"
      ]
    },
    {
      "cell_type": "markdown",
      "metadata": {
        "id": "giikfC36CybU"
      },
      "source": [
        "# PREPROCESSING"
      ]
    },
    {
      "cell_type": "code",
      "metadata": {
        "colab": {
          "base_uri": "https://localhost:8080/",
          "height": 402
        },
        "id": "ym7EfuE7Cz1e",
        "outputId": "eaf9ba86-3c99-4da1-ff8e-d84ad27d6933"
      },
      "source": [
        "import pandas as pd\n",
        "import re\n",
        "from collections import Counter\n",
        "from keras.preprocessing.text import Tokenizer\n",
        "train = pd.read_csv('./dataset/train_pairs.csv')\n",
        "test = pd.read_csv('./dataset/test_pairs.csv')\n",
        "val = pd.read_csv('./dataset/val_pairs.csv')\n",
        "train"
      ],
      "execution_count": 2,
      "outputs": [
        {
          "output_type": "execute_result",
          "data": {
            "text/html": [
              "<div>\n",
              "<style scoped>\n",
              "    .dataframe tbody tr th:only-of-type {\n",
              "        vertical-align: middle;\n",
              "    }\n",
              "\n",
              "    .dataframe tbody tr th {\n",
              "        vertical-align: top;\n",
              "    }\n",
              "\n",
              "    .dataframe thead th {\n",
              "        text-align: right;\n",
              "    }\n",
              "</style>\n",
              "<table border=\"1\" class=\"dataframe\">\n",
              "  <thead>\n",
              "    <tr style=\"text-align: right;\">\n",
              "      <th></th>\n",
              "      <th>Unnamed: 0</th>\n",
              "      <th>Claim</th>\n",
              "      <th>Evidence</th>\n",
              "      <th>ID</th>\n",
              "      <th>Label</th>\n",
              "    </tr>\n",
              "  </thead>\n",
              "  <tbody>\n",
              "    <tr>\n",
              "      <th>0</th>\n",
              "      <td>0</td>\n",
              "      <td>Chris Hemsworth appeared in A Perfect Getaway.</td>\n",
              "      <td>2\\tHemsworth has also appeared in the science ...</td>\n",
              "      <td>3</td>\n",
              "      <td>SUPPORTS</td>\n",
              "    </tr>\n",
              "    <tr>\n",
              "      <th>1</th>\n",
              "      <td>1</td>\n",
              "      <td>Roald Dahl is a writer.</td>\n",
              "      <td>0\\tRoald Dahl -LRB- -LSB- langpronˈroʊ.əld _ ˈ...</td>\n",
              "      <td>7</td>\n",
              "      <td>SUPPORTS</td>\n",
              "    </tr>\n",
              "    <tr>\n",
              "      <th>2</th>\n",
              "      <td>2</td>\n",
              "      <td>Roald Dahl is a governor.</td>\n",
              "      <td>0\\tRoald Dahl -LRB- -LSB- langpronˈroʊ.əld _ ˈ...</td>\n",
              "      <td>8</td>\n",
              "      <td>REFUTES</td>\n",
              "    </tr>\n",
              "    <tr>\n",
              "      <th>3</th>\n",
              "      <td>3</td>\n",
              "      <td>Ireland has relatively low-lying mountains.</td>\n",
              "      <td>10\\tThe island 's geography comprises relative...</td>\n",
              "      <td>9</td>\n",
              "      <td>SUPPORTS</td>\n",
              "    </tr>\n",
              "    <tr>\n",
              "      <th>4</th>\n",
              "      <td>4</td>\n",
              "      <td>Ireland does not have relatively low-lying mou...</td>\n",
              "      <td>10\\tThe island 's geography comprises relative...</td>\n",
              "      <td>10</td>\n",
              "      <td>REFUTES</td>\n",
              "    </tr>\n",
              "    <tr>\n",
              "      <th>...</th>\n",
              "      <td>...</td>\n",
              "      <td>...</td>\n",
              "      <td>...</td>\n",
              "      <td>...</td>\n",
              "      <td>...</td>\n",
              "    </tr>\n",
              "    <tr>\n",
              "      <th>121735</th>\n",
              "      <td>121735</td>\n",
              "      <td>April was the month Anderson Silva was born.</td>\n",
              "      <td>0\\tAnderson da Silva -LRB- -LSB- ˈɐ̃deʁsõ ˈsiw...</td>\n",
              "      <td>229440</td>\n",
              "      <td>SUPPORTS</td>\n",
              "    </tr>\n",
              "    <tr>\n",
              "      <th>121736</th>\n",
              "      <td>121736</td>\n",
              "      <td>Anderson Silva is an American Brazilian mixed ...</td>\n",
              "      <td>0\\tAnderson da Silva -LRB- -LSB- ˈɐ̃deʁsõ ˈsiw...</td>\n",
              "      <td>229443</td>\n",
              "      <td>REFUTES</td>\n",
              "    </tr>\n",
              "    <tr>\n",
              "      <th>121737</th>\n",
              "      <td>121737</td>\n",
              "      <td>Anderson Silva is incapable of being a Brazili...</td>\n",
              "      <td>0\\tAnderson da Silva -LRB- -LSB- ˈɐ̃deʁsõ ˈsiw...</td>\n",
              "      <td>229444</td>\n",
              "      <td>REFUTES</td>\n",
              "    </tr>\n",
              "    <tr>\n",
              "      <th>121738</th>\n",
              "      <td>121738</td>\n",
              "      <td>Anderson Silva was born on the month of April ...</td>\n",
              "      <td>0\\tAnderson da Silva -LRB- -LSB- ˈɐ̃deʁsõ ˈsiw...</td>\n",
              "      <td>229445</td>\n",
              "      <td>SUPPORTS</td>\n",
              "    </tr>\n",
              "    <tr>\n",
              "      <th>121739</th>\n",
              "      <td>121739</td>\n",
              "      <td>Anderson Silva was born on the day of the 15th.</td>\n",
              "      <td>0\\tAnderson da Silva -LRB- -LSB- ˈɐ̃deʁsõ ˈsiw...</td>\n",
              "      <td>229448</td>\n",
              "      <td>REFUTES</td>\n",
              "    </tr>\n",
              "  </tbody>\n",
              "</table>\n",
              "<p>121740 rows × 5 columns</p>\n",
              "</div>"
            ],
            "text/plain": [
              "        Unnamed: 0  ...     Label\n",
              "0                0  ...  SUPPORTS\n",
              "1                1  ...  SUPPORTS\n",
              "2                2  ...   REFUTES\n",
              "3                3  ...  SUPPORTS\n",
              "4                4  ...   REFUTES\n",
              "...            ...  ...       ...\n",
              "121735      121735  ...  SUPPORTS\n",
              "121736      121736  ...   REFUTES\n",
              "121737      121737  ...   REFUTES\n",
              "121738      121738  ...  SUPPORTS\n",
              "121739      121739  ...   REFUTES\n",
              "\n",
              "[121740 rows x 5 columns]"
            ]
          },
          "metadata": {
            "tags": []
          },
          "execution_count": 2
        }
      ]
    },
    {
      "cell_type": "code",
      "metadata": {
        "colab": {
          "base_uri": "https://localhost:8080/"
        },
        "id": "8_b9dMbTOpc2",
        "outputId": "3697d516-4e74-400a-bcb8-00d5079527c9"
      },
      "source": [
        "ls = []\n",
        "\n",
        "def combine_words(input,length):\n",
        "    combined_inputs = []\n",
        "    if len(input)>1:\n",
        "        for i in range(len(input)-1):\n",
        "            combined_inputs.append(input[i]+\" \"+last_word_of(input[i+1],length)) #add the last word of the right-neighbour (overlapping) sequence (before it has expanded), which is the next word in the original sentence\n",
        "    return combined_inputs, length+1\n",
        "\n",
        "def remove_duplicates(input, length):\n",
        "    bool_broke=False #this means we didn't find any duplicates here\n",
        "    for i in range(len(input) - length):\n",
        "        if input[i]==input[i + length]: #found a duplicate piece of sentence!\n",
        "            for j in range(0,length): #remove the overlapping sequences in reverse order\n",
        "                del input[i + length - j]\n",
        "            bool_broke = True\n",
        "            break #break the for loop as the loop length does not matches the length of splitted_input anymore as we removed elements\n",
        "    if bool_broke:\n",
        "        return remove_duplicates(input, length) #if we found a duplicate, look for another duplicate of the same length\n",
        "    return input\n",
        "\n",
        "def last_word_of(input,length):\n",
        "    splitted = input.split(\" \")\n",
        "    if len(splitted)==0:\n",
        "        return input\n",
        "    else:\n",
        "        return splitted[length-1]\n",
        "\n",
        "def prepare_evidence(df):\n",
        "  ls = []\n",
        "  index = 0\n",
        "  for x in df['Evidence']:\n",
        "    i = re.sub(r'^.*?\\t', '', x)\n",
        "    splitted_input = i.replace('-LRB-', '(').replace('-RRB- ', ')').replace('\\t', ' ').replace('-LSB-', '').replace('-RSB-', '').split(' ')\n",
        "    word_length = 1\n",
        "    splitted_input,word_length = combine_words(splitted_input,word_length)\n",
        "\n",
        "    intermediate_output = False\n",
        "\n",
        "    while len(splitted_input)>1:\n",
        "        splitted_input = remove_duplicates(splitted_input,word_length) #look whether two sequences of length n (with distance n apart) are equal. If so, remove the n overlapping sequences\n",
        "        splitted_input, word_length = combine_words(splitted_input,word_length) #make even bigger sequences\n",
        "        if intermediate_output:\n",
        "            print(splitted_input)\n",
        "            print(word_length)\n",
        "    try:\n",
        "      output = splitted_input[0]\n",
        "    except:\n",
        "      output = splitted_input\n",
        "    index += 1\n",
        "    ls.append(output)\n",
        "  return(ls)\n",
        "\n",
        "train_evidence = prepare_evidence(train)\n",
        "test_evidence = prepare_evidence(test)\n",
        "val_evidence = prepare_evidence(val)\n",
        "print(train_evidence[0], test_evidence[0], val_evidence[0])"
      ],
      "execution_count": 3,
      "outputs": [
        {
          "output_type": "stream",
          "text": [
            "Hemsworth has also appeared in the science fiction action film Star Trek ( 2009 ), the thriller adventure A Perfect Getaway ( 2009 ), the horror comedy The Cabin in the Woods ( 2012 ), the dark-fantasy action film Snow White and the Huntsman ( 2012 ), the war film Red Dawn ( 2012 ), and the biographical sports drama film Rush ( 2013 ). Star Trek (film) A Perfect Getaway The Cabin in the Woods Snow White and the Huntsman Red Dawn (2012 film) Rush Rush (2013 film) Furthermore , anxiety has been linked with physical symptoms such as IBS and can heighten other mental health illnesses such as OCD and panic disorder . IBS Irritable bowel syndrome It is an all-volunteer force and comprises more than 80 % of the country 's active defence personnel . all-volunteer force Volunteer military\n"
          ],
          "name": "stdout"
        }
      ]
    },
    {
      "cell_type": "code",
      "metadata": {
        "colab": {
          "base_uri": "https://localhost:8080/"
        },
        "id": "EoilgL6nOpsq",
        "outputId": "2f72a957-c049-41da-c2d9-97f670c21ea0"
      },
      "source": [
        "X_train = [(train.iloc[x]['Claim'], train_evidence[x]) for x in range(len(train_evidence))]\n",
        "X_test = [(test.iloc[x]['Claim'], test_evidence[x]) for x in range(len(test_evidence))]\n",
        "X_val = [(val.iloc[x]['Claim'], val_evidence[x]) for x in range(len(val_evidence))]\n",
        "X_train[0]"
      ],
      "execution_count": 4,
      "outputs": [
        {
          "output_type": "execute_result",
          "data": {
            "text/plain": [
              "('Chris Hemsworth appeared in A Perfect Getaway.',\n",
              " 'Hemsworth has also appeared in the science fiction action film Star Trek ( 2009 ), the thriller adventure A Perfect Getaway ( 2009 ), the horror comedy The Cabin in the Woods ( 2012 ), the dark-fantasy action film Snow White and the Huntsman ( 2012 ), the war film Red Dawn ( 2012 ), and the biographical sports drama film Rush ( 2013 ). Star Trek (film) A Perfect Getaway The Cabin in the Woods Snow White and the Huntsman Red Dawn (2012 film) Rush Rush (2013 film)')"
            ]
          },
          "metadata": {
            "tags": []
          },
          "execution_count": 4
        }
      ]
    },
    {
      "cell_type": "code",
      "metadata": {
        "id": "M3oYBL2SLG3m"
      },
      "source": [
        "y_train = train['Label']\n",
        "y_test = test['Label']\n",
        "y_val = val['Label']"
      ],
      "execution_count": 5,
      "outputs": []
    },
    {
      "cell_type": "markdown",
      "metadata": {
        "id": "1cLxaKZrC04V"
      },
      "source": [
        "# CONVERSION"
      ]
    },
    {
      "cell_type": "code",
      "metadata": {
        "id": "yEKlvSRY3h23",
        "colab": {
          "base_uri": "https://localhost:8080/"
        },
        "outputId": "6b7e198e-04b0-4f64-e4f2-60b9a9b3a7d1"
      },
      "source": [
        "import gensim\n",
        "import gensim.downloader as gloader\n",
        "EMBEDDING_SIZE = 50\n",
        "download_path = \"glove-wiki-gigaword-{}\".format(EMBEDDING_SIZE)\n",
        "emb_model = gloader.load(download_path)"
      ],
      "execution_count": 6,
      "outputs": [
        {
          "output_type": "stream",
          "text": [
            "[==================================================] 100.0% 66.0/66.0MB downloaded\n"
          ],
          "name": "stdout"
        }
      ]
    },
    {
      "cell_type": "code",
      "metadata": {
        "colab": {
          "base_uri": "https://localhost:8080/"
        },
        "id": "1pye_KlG5yGl",
        "outputId": "5256d463-23a0-4c6e-b0e2-25e8051dd44d"
      },
      "source": [
        "pos_dict = {}\n",
        "def create_XY(df):\n",
        "    X = [] # store input sequence\n",
        "    pos = 0\n",
        "    max_len = 0\n",
        "    for sentence in df:\n",
        "          X_sentence = []\n",
        "          try:\n",
        "            for word in sentence.split(' '):\n",
        "              if len(sentence) > max_len:\n",
        "                max_len = len(sentence)\n",
        "              X_sentence.append(word)\n",
        "          except:\n",
        "              X_sentence.append('')\n",
        "          X.append(X_sentence)\n",
        "    num_words = len(set([word.lower() for sentence in X for word in sentence]))\n",
        "    print(\"Total number of tagged sentences: {}\".format(len(X)))\n",
        "    print(\"Vocabulary size: {}\".format(num_words))\n",
        "    print('sample X: ', X[0], '\\n')\n",
        "    print(\"Length of first input sequence  : {}\".format(len(X[0])))\n",
        "    print(\"Maximum length of sentence : {}\".format(max_len))\n",
        "    return(X, num_words, max_len)\n",
        "X_train_claim, num_words_train_claim, MAX_LEN_TRAIN_claim = create_XY(train['Claim'])\n",
        "X_val_claim, num_words_val_claim, MAX_LEN_VAL_claim = create_XY(val['Claim'])\n",
        "X_test_claim, num_words_test_claim, MAX_LEN_TEST_claim = create_XY(test['Claim'])"
      ],
      "execution_count": 7,
      "outputs": [
        {
          "output_type": "stream",
          "text": [
            "Total number of tagged sentences: 121740\n",
            "Vocabulary size: 31186\n",
            "sample X:  ['Chris', 'Hemsworth', 'appeared', 'in', 'A', 'Perfect', 'Getaway.'] \n",
            "\n",
            "Length of first input sequence  : 7\n",
            "Maximum length of sentence : 614\n",
            "Total number of tagged sentences: 7165\n",
            "Vocabulary size: 6619\n",
            "sample X:  ['The', 'Indian', 'Army', 'comprises', 'part', 'of', 'the', \"country's\", 'active', 'defense', 'personnel.'] \n",
            "\n",
            "Length of first input sequence  : 11\n",
            "Maximum length of sentence : 200\n",
            "Total number of tagged sentences: 7189\n",
            "Vocabulary size: 7141\n",
            "sample X:  ['Anxiety', 'has', 'been', 'linked', 'with', 'physical', 'symptoms.'] \n",
            "\n",
            "Length of first input sequence  : 7\n",
            "Maximum length of sentence : 189\n"
          ],
          "name": "stdout"
        }
      ]
    },
    {
      "cell_type": "code",
      "metadata": {
        "colab": {
          "base_uri": "https://localhost:8080/"
        },
        "id": "qRCkzdb2H3Wr",
        "outputId": "0746789e-9ddd-4680-d78a-066604ca38ee"
      },
      "source": [
        "def create_XY(df):\n",
        "    X = [] # store input sequence\n",
        "    pos = 0\n",
        "    max_len = 0\n",
        "    for sentence in df:\n",
        "      X_sentence = []\n",
        "      try:\n",
        "        for word in sentence.split(' '):\n",
        "              if len(sentence) > max_len:\n",
        "                max_len = len(sentence)\n",
        "              X_sentence.append(word)\n",
        "      except:\n",
        "         X_sentence.append('')\n",
        "      X.append(X_sentence)\n",
        "    num_words = len(set([word.lower() for sentence in X for word in sentence]))\n",
        "    print(\"Total number of tagged sentences: {}\".format(len(X)))\n",
        "    print(\"Vocabulary size: {}\".format(num_words))\n",
        "    print('sample X: ', X[0], '\\n')\n",
        "    print(\"Length of first input sequence  : {}\".format(len(X[0])))\n",
        "    print(\"Maximum length of sentence : {}\".format(max_len))\n",
        "    return(X, num_words, max_len)\n",
        "X_train_evidence, num_words_train_evidence, MAX_LEN_TRAIN_evidence = create_XY(train_evidence)\n",
        "X_val_evidence, num_words_val_evidence, MAX_LEN_VAL_evidence = create_XY(val_evidence)\n",
        "X_test_evidence, num_words_test_evidence, MAX_LEN_TEST_evidence = create_XY(test_evidence)"
      ],
      "execution_count": 8,
      "outputs": [
        {
          "output_type": "stream",
          "text": [
            "Total number of tagged sentences: 121740\n",
            "Vocabulary size: 36238\n",
            "sample X:  ['Hemsworth', 'has', 'also', 'appeared', 'in', 'the', 'science', 'fiction', 'action', 'film', 'Star', 'Trek', '(', '2009', '),', 'the', 'thriller', 'adventure', 'A', 'Perfect', 'Getaway', '(', '2009', '),', 'the', 'horror', 'comedy', 'The', 'Cabin', 'in', 'the', 'Woods', '(', '2012', '),', 'the', 'dark-fantasy', 'action', 'film', 'Snow', 'White', 'and', 'the', 'Huntsman', '(', '2012', '),', 'the', 'war', 'film', 'Red', 'Dawn', '(', '2012', '),', 'and', 'the', 'biographical', 'sports', 'drama', 'film', 'Rush', '(', '2013', ').', 'Star', 'Trek', '(film)', 'A', 'Perfect', 'Getaway', 'The', 'Cabin', 'in', 'the', 'Woods', 'Snow', 'White', 'and', 'the', 'Huntsman', 'Red', 'Dawn', '(2012', 'film)', 'Rush', 'Rush', '(2013', 'film)'] \n",
            "\n",
            "Length of first input sequence  : 89\n",
            "Maximum length of sentence : 1149\n",
            "Total number of tagged sentences: 7165\n",
            "Vocabulary size: 8586\n",
            "sample X:  ['It', 'is', 'an', 'all-volunteer', 'force', 'and', 'comprises', 'more', 'than', '80', '%', 'of', 'the', 'country', \"'s\", 'active', 'defence', 'personnel', '.', 'all-volunteer', 'force', 'Volunteer', 'military'] \n",
            "\n",
            "Length of first input sequence  : 23\n",
            "Maximum length of sentence : 939\n",
            "Total number of tagged sentences: 7189\n",
            "Vocabulary size: 9723\n",
            "sample X:  ['Furthermore', ',', 'anxiety', 'has', 'been', 'linked', 'with', 'physical', 'symptoms', 'such', 'as', 'IBS', 'and', 'can', 'heighten', 'other', 'mental', 'health', 'illnesses', 'such', 'as', 'OCD', 'and', 'panic', 'disorder', '.', 'IBS', 'Irritable', 'bowel', 'syndrome'] \n",
            "\n",
            "Length of first input sequence  : 30\n",
            "Maximum length of sentence : 873\n"
          ],
          "name": "stdout"
        }
      ]
    },
    {
      "cell_type": "code",
      "metadata": {
        "id": "zydzkpXhVL1B"
      },
      "source": [
        "words, tags = set([]), set([])\n",
        "X_train = X_train_claim + X_train_evidence\n",
        " \n",
        "for s in X_train:\n",
        "    for w in s:\n",
        "       words.add(w.lower())\n",
        " \n",
        "word2index = {w: i + 1 for i, w in enumerate(list(words))}\n",
        "word2index['-PAD-'] = 0  # The special value used for padding"
      ],
      "execution_count": 9,
      "outputs": []
    },
    {
      "cell_type": "code",
      "metadata": {
        "id": "MBFuGCU4DMXA"
      },
      "source": [
        "words_test, tags_test = set([]), set([])\n",
        "X_test = X_test_claim + X_test_evidence\n",
        "\n",
        "for s in X_test:\n",
        "    for w in s:\n",
        "       words_test.add(w.lower())\n",
        " \n",
        "word2indexTest = {w: i + 2 for i, w in enumerate(list(words_test))}\n",
        "word2indexTest['-PAD-'] = 0  # The special value used for padding"
      ],
      "execution_count": 10,
      "outputs": []
    },
    {
      "cell_type": "code",
      "metadata": {
        "id": "T7Vh9gJfgpB-"
      },
      "source": [
        "words_val, tags_val = set([]), set([])\n",
        "X_val = X_val_claim + X_val_evidence\n",
        "\n",
        "for s in X_val:\n",
        "    for w in s:\n",
        "       words_val.add(w.lower())\n",
        " \n",
        "word2indexVal = {w: i + 2 for i, w in enumerate(list(words_val))}\n",
        "word2indexVal['-PAD-'] = 0  # The special value used for padding"
      ],
      "execution_count": 11,
      "outputs": []
    },
    {
      "cell_type": "markdown",
      "metadata": {
        "id": "MBx_hrNhwGPo"
      },
      "source": [
        "# I THINK THIS IS THE RIGHT INTERPRETATION OF THE ASSIGNMENT, BUT I AM NOT 100% SURE "
      ]
    },
    {
      "cell_type": "code",
      "metadata": {
        "id": "ku4yfV3rg3Tp"
      },
      "source": [
        "def merge_word2indexes(word2index, word2indexTest, word2indexVal): \n",
        "  for x in word2indexVal:\n",
        "    if x not in word2index.keys():\n",
        "      word2index[x] = len(word2index) \n",
        "  for x in word2indexTest:\n",
        "    if x not in word2index.keys():\n",
        "      word2index[x] = len(word2index) \n",
        "  return word2index\n",
        "word2index = merge_word2indexes(word2index, word2indexTest, word2indexVal)"
      ],
      "execution_count": 12,
      "outputs": []
    },
    {
      "cell_type": "code",
      "metadata": {
        "colab": {
          "base_uri": "https://localhost:8080/"
        },
        "id": "wZpNRGhqWMLf",
        "outputId": "0f7fc750-c386-43b2-d2a6-56163e737638"
      },
      "source": [
        "train_sentences_X_claim, test_sentences_X_claim, val_sentences_X_claim = [], [], []\n",
        "train_sentences_X_evidence, test_sentences_X_evidence, val_sentences_X_evidence = [], [], []\n",
        "\n",
        "oov = [] \n",
        "\n",
        "for s in X_train_claim:\n",
        "    s_int = []\n",
        "    for w in s:\n",
        "        s_int.append(word2index[w.lower()])\n",
        "    train_sentences_X_claim.append(s_int)\n",
        "\n",
        "for s in X_train_evidence:\n",
        "    s_int = []\n",
        "    for w in s:\n",
        "        s_int.append(word2index[w.lower()])\n",
        "    train_sentences_X_evidence.append(s_int)\n",
        "\n",
        "for s in X_test_claim:\n",
        "    s_int = []\n",
        "    for w in s:\n",
        "        s_int.append(word2index[w.lower()])\n",
        "    test_sentences_X_claim.append(s_int)\n",
        "\n",
        "for s in X_test_evidence:\n",
        "    s_int = []\n",
        "    for w in s:\n",
        "        s_int.append(word2index[w.lower()])\n",
        "    test_sentences_X_evidence.append(s_int)\n",
        "\n",
        "for s in X_val_claim:\n",
        "    s_int = []\n",
        "    for w in s:\n",
        "        s_int.append(word2index[w.lower()])\n",
        "    val_sentences_X_claim.append(s_int)\n",
        "\n",
        "for s in X_val_evidence:\n",
        "    s_int = []\n",
        "    for w in s:\n",
        "        s_int.append(word2index[w.lower()])\n",
        "    val_sentences_X_evidence.append(s_int)\n",
        " \n",
        "print(train_sentences_X_claim[0])\n",
        "print(test_sentences_X_claim[0])\n",
        "print(val_sentences_X_claim[0])\n",
        "print(train_sentences_X_evidence[0])\n",
        "print(test_sentences_X_evidence[0])\n",
        "print(val_sentences_X_evidence[0])"
      ],
      "execution_count": 13,
      "outputs": [
        {
          "output_type": "stream",
          "text": [
            "[34870, 8435, 50033, 45531, 26549, 16576, 4049]\n",
            "[2341, 30774, 49615, 37040, 375, 4040, 33688]\n",
            "[5127, 13729, 1328, 15666, 32057, 15682, 5127, 44, 2745, 5763, 54186]\n",
            "[8435, 30774, 38615, 50033, 45531, 5127, 45050, 49700, 43198, 21999, 50, 18933, 6015, 736, 13914, 5127, 30066, 37341, 26549, 16576, 12723, 6015, 736, 13914, 5127, 21790, 35543, 5127, 34393, 45531, 5127, 49248, 6015, 4590, 13914, 5127, 22742, 43198, 21999, 7635, 36940, 34295, 5127, 35422, 6015, 4590, 13914, 5127, 8752, 21999, 51805, 42441, 6015, 4590, 13914, 34295, 5127, 27015, 51071, 52566, 21999, 36023, 6015, 9472, 14582, 50, 18933, 33494, 26549, 16576, 12723, 5127, 34393, 45531, 5127, 49248, 7635, 36940, 34295, 5127, 35422, 51805, 42441, 18643, 4975, 36023, 36023, 36925, 4975]\n",
            "[19831, 708, 2341, 30774, 49615, 37040, 375, 4040, 32638, 32492, 21216, 58477, 34295, 51264, 57441, 50256, 15168, 30246, 38224, 32492, 21216, 58664, 34295, 27685, 7777, 44853, 58477, 57887, 51776, 25258]\n",
            "[34282, 37777, 7322, 54457, 51797, 34295, 15666, 23005, 6762, 32718, 4585, 15682, 5127, 24228, 23601, 2745, 25096, 30702, 44853, 54457, 51797, 37677, 22747]\n"
          ],
          "name": "stdout"
        }
      ]
    },
    {
      "cell_type": "code",
      "metadata": {
        "id": "rv6JSvKIWzPf"
      },
      "source": [
        "from keras.preprocessing.sequence import pad_sequences\n",
        "\n",
        "train_sentences_X_claim = pad_sequences(train_sentences_X_claim, maxlen=MAX_LEN_TRAIN_claim, padding='post')\n",
        "test_sentences_X_claim = pad_sequences(test_sentences_X_claim, maxlen=MAX_LEN_TEST_claim, padding='post')\n",
        "val_sentences_X_claim = pad_sequences(val_sentences_X_claim, maxlen=MAX_LEN_VAL_claim, padding='post')\n",
        "train_sentences_X_evidence = pad_sequences(train_sentences_X_evidence, maxlen=MAX_LEN_TRAIN_evidence, padding='post')\n",
        "test_sentences_X_evidence = pad_sequences(test_sentences_X_evidence, maxlen=MAX_LEN_TEST_evidence, padding='post')\n",
        "val_sentences_X_evidence = pad_sequences(val_sentences_X_evidence, maxlen=MAX_LEN_VAL_evidence, padding='post')"
      ],
      "execution_count": 14,
      "outputs": []
    },
    {
      "cell_type": "code",
      "metadata": {
        "id": "6It51mFbXZya"
      },
      "source": [
        "def to_categorical(sequences, categories):\n",
        "    cat_sequences = []\n",
        "    for s in sequences:\n",
        "        cats = []\n",
        "        for item in s:\n",
        "            cats.append(np.zeros(categories))\n",
        "            cats[-1][item] = 1.0\n",
        "        cat_sequences.append(cats)\n",
        "    return np.array(cat_sequences)"
      ],
      "execution_count": 15,
      "outputs": []
    },
    {
      "cell_type": "code",
      "metadata": {
        "id": "5El-_RIyZl9j"
      },
      "source": [
        "import numpy as np\n",
        "weights = np.zeros((len(word2index.keys()), EMBEDDING_SIZE))\n",
        "word_list = list(word2index.keys())\n",
        "\n",
        "oov = {}\n",
        "for x in range(len(word_list)):\n",
        "  try: \n",
        "    weights[x, :] = emb_model[word_list[x]]\n",
        "  except:\n",
        "    oov[word_list[x]] = x\n",
        "    weights[x, :] = np.random.rand(EMBEDDING_SIZE)\n",
        "    # TODO: controllare bounds per generare l'array random di pesi coerentemente\n",
        "    # con l'embedding model di GloVe"
      ],
      "execution_count": 16,
      "outputs": []
    },
    {
      "cell_type": "code",
      "metadata": {
        "id": "GFmOCzADFFOH"
      },
      "source": [
        "from keras import backend as K\n",
        "\n",
        "def my_f1(pred, use_sample, tags):\n",
        "  ls = []\n",
        "  for x in range(len(tags)):\n",
        "    i = np.argmax(pred[x], axis=-1)\n",
        "    sample_weights = []\n",
        "    if use_sample:\n",
        "      for t in tags[x]:\n",
        "        if t not in tag2avoid:\n",
        "          sample_weights.append(1)\n",
        "        else:\n",
        "          sample_weights.append(0)\n",
        "      ls.append(f1_score(tags[x], i, average='macro', sample_weight = sample_weights))\n",
        "    else:\n",
        "      ls.append(f1_score(tags[x], i, average='macro'))\n",
        "\n",
        "  print(np.array(ls).mean())\n",
        "\n",
        "from keras.callbacks import Callback\n",
        "from sklearn.metrics import confusion_matrix, f1_score, precision_score, recall_score\n",
        "class Metrics(Callback):\n",
        "    def on_train_begin(self, logs={}):\n",
        "        self.val_f1s = []\n",
        "        self.val_recalls = []\n",
        "        self.val_precisions = []\n",
        "    \n",
        "    def on_epoch_end(self, epoch, logs={}):\n",
        "      val_predict1 = self.model.predict(self.validation_data[0]).round()\n",
        "      val_targ1 = self.validation_data[1]\n",
        "      current_f1 = []\n",
        "      current_rec = []\n",
        "      current_prec = []\n",
        "      for i in range(len(val_predict1)):\n",
        "        val_predict = val_predict1[i]\n",
        "        val_targ = val_targ1[i]\n",
        "        _val_f1 = f1_score(val_targ, val_predict, average = 'macro')\n",
        "        _val_recall = recall_score(val_targ, val_predict, average = 'macro')\n",
        "        _val_precision = precision_score(val_targ, val_predict, average = 'macro')\n",
        "        self.val_f1s.append(_val_f1)\n",
        "        current_f1.append(_val_f1)\n",
        "        self.val_recalls.append(_val_recall)\n",
        "        current_rec.append(_val_recall)\n",
        "        self.val_precisions.append(_val_precision)\n",
        "        current_prec.append(_val_precision)\n",
        "\n",
        "      print( \" — val_f1_mean: %f — val_precision: %f — val_recall %f\" %(current_f1.mean(), current_prec.mean(), current_recall.mean()))\n",
        " \n",
        "metrics = Metrics()"
      ],
      "execution_count": 17,
      "outputs": []
    },
    {
      "cell_type": "code",
      "metadata": {
        "id": "euqCi_HNzI7K"
      },
      "source": [
        "from sklearn.metrics import f1_score\n",
        "from keras import backend as K\n",
        "from sklearn.preprocessing import OneHotEncoder\n",
        "from keras import Sequential\n",
        "from keras.layers import Dense, LSTM, InputLayer, Bidirectional, TimeDistributed, Embedding, Activation, GlobalMaxPooling1D\n",
        "\n",
        "model = Sequential(\n",
        "   [ \n",
        "    Embedding(len(word2index), EMBEDDING_SIZE, weights = [weights], trainable = False, mask_zero=True),\n",
        "    Bidirectional(LSTM(512, return_sequences=True)),\n",
        "    GlobalMaxPooling1D()\n",
        "    ]\n",
        ")\n",
        "model.compile(loss = 'categorical_crossentropy',\n",
        "              optimizer = 'adam',\n",
        "              metrics = ['acc'])\n",
        "\n",
        "model.summary()"
      ],
      "execution_count": null,
      "outputs": []
    },
    {
      "cell_type": "code",
      "metadata": {
        "id": "QbLYRgivad35"
      },
      "source": [
        "val_claim_embedding = model.predict(val_sentences_X_claim)\n",
        "print(val_claim_embedding.shape)\n",
        "test_claim_embedding = model.predict(test_sentences_X_claim)\n",
        "print(test_claim_embedding.shape)\n",
        "train_claim_embedding = model.predict(train_sentences_X_claim)\n",
        "print(train_claim_embedding.shape)\n",
        "val_evidence_embedding = model.predict(val_sentences_X_evidence)\n",
        "print(val_evidence_embedding.shape)\n",
        "test_evidence_embedding = model.predict(test_sentences_X_evidence)\n",
        "print(test_evidence_embedding.shape)\n",
        "train_evidence_embedding = model.predict(train_sentences_X_evidence)\n",
        "print(train_evidence_embedding)"
      ],
      "execution_count": null,
      "outputs": []
    },
    {
      "cell_type": "markdown",
      "metadata": {
        "id": "quidmmGkC38D"
      },
      "source": [
        "# MODEL"
      ]
    },
    {
      "cell_type": "code",
      "metadata": {
        "id": "uXR5lyC_C5Xs"
      },
      "source": [
        "import tensorflow as tf\n",
        "from keras.layers import Dense, Input, GlobalMaxPooling1D, Dot, LSTM, Bidirectional, Dropout, Embedding, concatenate, Concatenate, GlobalAveragePooling1D\n",
        "from keras.models import Model\n",
        "from keras.optimizers import SGD\n",
        "import tensorflow.keras as keras"
      ],
      "execution_count": 18,
      "outputs": []
    },
    {
      "cell_type": "code",
      "metadata": {
        "id": "thtdaTtJCUOL"
      },
      "source": [
        "VOCAB_SIZE = len(word2index)\n",
        "BATCH_SIZE = 64\n",
        "EMBEDDING_DIM = EMBEDDING_SIZE\n",
        "UNITS = 256"
      ],
      "execution_count": 19,
      "outputs": []
    },
    {
      "cell_type": "code",
      "metadata": {
        "id": "1YFgsOtmCpMc"
      },
      "source": [
        "claim_input = Input(shape=(MAX_LEN_TRAIN_claim), name='claim_input')\n",
        "evidence_input = Input(shape=(MAX_LEN_TRAIN_evidence), name='evidence_input')\n",
        "\n",
        "embedding_layer = Embedding(input_dim=VOCAB_SIZE, output_dim=EMBEDDING_DIM,  weights=[weights], mask_zero=True, trainable=False)\n",
        "\n",
        "claim_outputs = embedding_layer(claim_input)\n",
        "evidence_outputs = embedding_layer(evidence_input)"
      ],
      "execution_count": 20,
      "outputs": []
    },
    {
      "cell_type": "markdown",
      "metadata": {
        "id": "_KAyf76Yhly0"
      },
      "source": [
        "## Reduce the token sequence to a single representation (choose one)"
      ]
    },
    {
      "cell_type": "markdown",
      "metadata": {
        "id": "aVmJAEREWa9v"
      },
      "source": [
        "### RNN taking last hidden state"
      ]
    },
    {
      "cell_type": "code",
      "metadata": {
        "id": "-CDJQoRHDFhy"
      },
      "source": [
        "claim_outputs, claim_forward_h, _, claim_backward_h, _ = Bidirectional(LSTM(UNITS, return_sequences=True, return_state=True))(claim_outputs)\n",
        "claim_outputs = Concatenate()([claim_forward_h, claim_backward_h])\n",
        "\n",
        "evidence_outputs, evidence_forward_h, _, evidence_backward_h, _ = Bidirectional(LSTM(UNITS, return_sequences=True, return_state=True))(evidence_outputs)\n",
        "evidence_outputs = Concatenate()([evidence_forward_h, evidence_backward_h])"
      ],
      "execution_count": null,
      "outputs": []
    },
    {
      "cell_type": "markdown",
      "metadata": {
        "id": "02UpoOhMWfkk"
      },
      "source": [
        "### RNN averaging all states"
      ]
    },
    {
      "cell_type": "code",
      "metadata": {
        "id": "v60QZFNFWksv"
      },
      "source": [
        "claim_outputs = Bidirectional(LSTM(UNITS, return_sequences=True))(claim_outputs)\n",
        "evidence_outputs = Bidirectional(LSTM(UNITS, return_sequences=True))(evidence_outputs)\n",
        "\n",
        "claim_outputs = GlobalAveragePooling1D()(claim_outputs)\n",
        "evidence_outputs = GlobalAveragePooling1D()(evidence_outputs)"
      ],
      "execution_count": 21,
      "outputs": []
    },
    {
      "cell_type": "markdown",
      "metadata": {
        "id": "dD6YAMxkWlDf"
      },
      "source": [
        "### Using MLP layer"
      ]
    },
    {
      "cell_type": "code",
      "metadata": {
        "id": "DDxihz-vubFJ"
      },
      "source": [
        "class Linear(keras.layers.Layer):\n",
        "    def __init__(self, units=32):\n",
        "        super(Linear, self).__init__()\n",
        "        self.units = units\n",
        "\n",
        "    def build(self, input_shape):\n",
        "        self.w = self.add_weight(\n",
        "            shape=(input_shape[-1], self.units),\n",
        "            initializer=\"random_normal\",\n",
        "            trainable=True,\n",
        "        )\n",
        "        self.b = self.add_weight(\n",
        "            shape=(self.units,), initializer=\"random_normal\", trainable=True\n",
        "        )\n",
        "\n",
        "    def call(self, inputs):\n",
        "        return tf.matmul(inputs, self.w) + self.b"
      ],
      "execution_count": null,
      "outputs": []
    },
    {
      "cell_type": "code",
      "metadata": {
        "id": "-zzIgH1RhTO3"
      },
      "source": [
        "class MLPBlock(keras.layers.Layer):\n",
        "    def __init__(self):\n",
        "        super(MLPBlock, self).__init__()\n",
        "        self.maxpool = GlobalMaxPooling1D()\n",
        "        self.linear_1 = Linear(512)\n",
        "        self.linear_2 = Linear(256)\n",
        "        self.linear_3 = Linear(64)\n",
        "        self.dropout = Dropout(0.1)\n",
        "\n",
        "    def call(self, inputs):\n",
        "        x = self.maxpool(inputs)\n",
        "        x = self.linear_1(x)\n",
        "        x = tf.nn.relu(x)\n",
        "        x = self.dropout(x)\n",
        "        x = self.linear_2(x)\n",
        "        x = tf.nn.relu(x)\n",
        "        x = self.dropout(x)\n",
        "        return self.linear_3(x)"
      ],
      "execution_count": null,
      "outputs": []
    },
    {
      "cell_type": "code",
      "metadata": {
        "id": "RJnI7BK0WqbN"
      },
      "source": [
        "mlp = MLPBlock()\n",
        "claim_outputs = mlp(claim_outputs)\n",
        "evidence_outputs = mlp(evidence_outputs)"
      ],
      "execution_count": null,
      "outputs": []
    },
    {
      "cell_type": "markdown",
      "metadata": {
        "id": "sMRffpEIWqv5"
      },
      "source": [
        "### Using BoW"
      ]
    },
    {
      "cell_type": "code",
      "metadata": {
        "id": "cQkcZJb_Wtqe"
      },
      "source": [
        "import keras.layers as L\n",
        "import keras.backend as K\n",
        "\n",
        "class NonZeroMean(L.Layer):\n",
        "  def call(self, x): \n",
        "    \"\"\"Calculate non-zero mean.\"\"\"\n",
        "    # count the number of nonzero features on embedding axis\n",
        "    nonzero = K.any(K.not_equal(x, 0.0), axis=-1)\n",
        "    n = K.sum(K.cast(nonzero, 'float32'), axis=-1, keepdims=True)\n",
        "    # average on max_tokens axis\n",
        "    x_mean = K.sum(x, axis=-2) / n\n",
        "    return x_mean\n",
        "\n",
        "  def compute_output_shape(self, input_shape):\n",
        "    \"\"\"Collapse summation axis.\"\"\"\n",
        "    return input_shape[:-2] + (input_shape[-1],)"
      ],
      "execution_count": null,
      "outputs": []
    },
    {
      "cell_type": "code",
      "metadata": {
        "id": "pPYUfWzilT5-"
      },
      "source": [
        "claim_outputs = NonZeroMean()(claim_outputs)\n",
        "evidence_outputs = NonZeroMean()(evidence_outputs)"
      ],
      "execution_count": null,
      "outputs": []
    },
    {
      "cell_type": "markdown",
      "metadata": {
        "id": "fYAHp1SthFLm"
      },
      "source": [
        "## Final part of the model"
      ]
    },
    {
      "cell_type": "code",
      "metadata": {
        "id": "cUXTTJPiDO9T"
      },
      "source": [
        "claim_model = Model(inputs=claim_input, outputs=claim_outputs)\n",
        "evidence_model = Model(inputs=evidence_input, outputs=evidence_outputs)\n",
        "\n",
        "sentence_similarity = Dot(axes=1)([claim_model.output, evidence_model.output]) \n",
        "combined = concatenate([claim_model.output, evidence_model.output, sentence_similarity], name='combined_output')\n",
        "\n",
        "combined = Dense(64, activation='relu')(combined)\n",
        "combined = Dense(32, activation='relu')(combined)\n",
        "z = Dense(1, activation='sigmoid')(combined)"
      ],
      "execution_count": 22,
      "outputs": []
    },
    {
      "cell_type": "code",
      "metadata": {
        "id": "5-N3AgfwasRx"
      },
      "source": [
        "model = Model(inputs=[claim_model.input, evidence_model.input], outputs=z)"
      ],
      "execution_count": 23,
      "outputs": []
    },
    {
      "cell_type": "code",
      "metadata": {
        "colab": {
          "base_uri": "https://localhost:8080/"
        },
        "id": "rb76ZEfbDRog",
        "outputId": "e66201da-50be-4fe7-aa06-5f9620eb935a"
      },
      "source": [
        "model.compile(loss='binary_crossentropy', optimizer='adam', metrics=['accuracy'])\n",
        "model.summary()"
      ],
      "execution_count": 24,
      "outputs": [
        {
          "output_type": "stream",
          "text": [
            "Model: \"functional_5\"\n",
            "__________________________________________________________________________________________________\n",
            "Layer (type)                    Output Shape         Param #     Connected to                     \n",
            "==================================================================================================\n",
            "claim_input (InputLayer)        [(None, 614)]        0                                            \n",
            "__________________________________________________________________________________________________\n",
            "evidence_input (InputLayer)     [(None, 1149)]       0                                            \n",
            "__________________________________________________________________________________________________\n",
            "embedding (Embedding)           multiple             2935950     claim_input[0][0]                \n",
            "                                                                 evidence_input[0][0]             \n",
            "__________________________________________________________________________________________________\n",
            "bidirectional (Bidirectional)   (None, 614, 512)     628736      embedding[0][0]                  \n",
            "__________________________________________________________________________________________________\n",
            "bidirectional_1 (Bidirectional) (None, 1149, 512)    628736      embedding[1][0]                  \n",
            "__________________________________________________________________________________________________\n",
            "global_average_pooling1d (Globa (None, 512)          0           bidirectional[0][0]              \n",
            "__________________________________________________________________________________________________\n",
            "global_average_pooling1d_1 (Glo (None, 512)          0           bidirectional_1[0][0]            \n",
            "__________________________________________________________________________________________________\n",
            "dot (Dot)                       (None, 1)            0           global_average_pooling1d[0][0]   \n",
            "                                                                 global_average_pooling1d_1[0][0] \n",
            "__________________________________________________________________________________________________\n",
            "combined_output (Concatenate)   (None, 1025)         0           global_average_pooling1d[0][0]   \n",
            "                                                                 global_average_pooling1d_1[0][0] \n",
            "                                                                 dot[0][0]                        \n",
            "__________________________________________________________________________________________________\n",
            "dense (Dense)                   (None, 64)           65664       combined_output[0][0]            \n",
            "__________________________________________________________________________________________________\n",
            "dense_1 (Dense)                 (None, 32)           2080        dense[0][0]                      \n",
            "__________________________________________________________________________________________________\n",
            "dense_2 (Dense)                 (None, 1)            33          dense_1[0][0]                    \n",
            "==================================================================================================\n",
            "Total params: 4,261,199\n",
            "Trainable params: 1,325,249\n",
            "Non-trainable params: 2,935,950\n",
            "__________________________________________________________________________________________________\n"
          ],
          "name": "stdout"
        }
      ]
    },
    {
      "cell_type": "markdown",
      "metadata": {
        "id": "1bms19rSC5ww"
      },
      "source": [
        "# TRAINING"
      ]
    },
    {
      "cell_type": "code",
      "metadata": {
        "id": "oeFR9SFsEmDz"
      },
      "source": [
        "# encode class values as integers\n",
        "from sklearn.preprocessing import LabelEncoder\n",
        "encoder = LabelEncoder()\n",
        "encoder.fit(y_train)\n",
        "\n",
        "encoded_Y_train = encoder.transform(y_train)\n",
        "encoded_Y_val = encoder.transform(y_val)\n",
        "encoded_Y_test = encoder.transform(y_test)"
      ],
      "execution_count": 25,
      "outputs": []
    },
    {
      "cell_type": "code",
      "metadata": {
        "id": "Nm5k94pdC726",
        "colab": {
          "base_uri": "https://localhost:8080/"
        },
        "outputId": "fd57c7a3-17b4-489b-964f-63da6aad0acd"
      },
      "source": [
        "model.fit([train_sentences_X_claim, train_sentences_X_evidence], encoded_Y_train, batch_size=256, epochs=5, validation_data=([val_sentences_X_claim, val_sentences_X_evidence], encoded_Y_val))"
      ],
      "execution_count": 26,
      "outputs": [
        {
          "output_type": "stream",
          "text": [
            "Epoch 1/5\n",
            "476/476 [==============================] - ETA: 0s - loss: 0.4996 - accuracy: 0.7811WARNING:tensorflow:Model was constructed with shape (None, 614) for input Tensor(\"claim_input:0\", shape=(None, 614), dtype=float32), but it was called on an input with incompatible shape (None, 200).\n",
            "WARNING:tensorflow:Model was constructed with shape (None, 1149) for input Tensor(\"evidence_input:0\", shape=(None, 1149), dtype=float32), but it was called on an input with incompatible shape (None, 939).\n",
            "476/476 [==============================] - 81s 171ms/step - loss: 0.4996 - accuracy: 0.7811 - val_loss: 0.6721 - val_accuracy: 0.6308\n",
            "Epoch 2/5\n",
            "476/476 [==============================] - 78s 163ms/step - loss: 0.4412 - accuracy: 0.8135 - val_loss: 0.6598 - val_accuracy: 0.6512\n",
            "Epoch 3/5\n",
            "476/476 [==============================] - 78s 163ms/step - loss: 0.4147 - accuracy: 0.8251 - val_loss: 0.6588 - val_accuracy: 0.6581\n",
            "Epoch 4/5\n",
            "476/476 [==============================] - 78s 163ms/step - loss: 0.3926 - accuracy: 0.8339 - val_loss: 0.6182 - val_accuracy: 0.6674\n",
            "Epoch 5/5\n",
            "476/476 [==============================] - 78s 163ms/step - loss: 0.3697 - accuracy: 0.8425 - val_loss: 0.6022 - val_accuracy: 0.6906\n"
          ],
          "name": "stdout"
        },
        {
          "output_type": "execute_result",
          "data": {
            "text/plain": [
              "<tensorflow.python.keras.callbacks.History at 0x7f74f026b978>"
            ]
          },
          "metadata": {
            "tags": []
          },
          "execution_count": 26
        }
      ]
    },
    {
      "cell_type": "code",
      "metadata": {
        "colab": {
          "base_uri": "https://localhost:8080/"
        },
        "id": "7Kbghu2mNtCO",
        "outputId": "c410bb7f-a55d-472a-8de0-8ffa0131e7ea"
      },
      "source": [
        "model.evaluate([val_sentences_X_claim, val_sentences_X_evidence], encoded_Y_val)"
      ],
      "execution_count": 27,
      "outputs": [
        {
          "output_type": "stream",
          "text": [
            "224/224 [==============================] - 3s 13ms/step - loss: 0.6022 - accuracy: 0.6906\n"
          ],
          "name": "stdout"
        },
        {
          "output_type": "execute_result",
          "data": {
            "text/plain": [
              "[0.6021764278411865, 0.6905791759490967]"
            ]
          },
          "metadata": {
            "tags": []
          },
          "execution_count": 27
        }
      ]
    },
    {
      "cell_type": "code",
      "metadata": {
        "colab": {
          "base_uri": "https://localhost:8080/"
        },
        "id": "BbEokKHWK5_8",
        "outputId": "1f711a8e-8696-4b90-b99a-4d2ba3c80c6a"
      },
      "source": [
        "from sklearn.metrics import classification_report\n",
        "\n",
        "y_pred = model.predict([test_sentences_X_claim, test_sentences_X_evidence])\n",
        "print(classification_report(encoded_Y_test, np.round(y_pred)))"
      ],
      "execution_count": 28,
      "outputs": [
        {
          "output_type": "stream",
          "text": [
            "WARNING:tensorflow:Model was constructed with shape (None, 614) for input Tensor(\"claim_input:0\", shape=(None, 614), dtype=float32), but it was called on an input with incompatible shape (None, 189).\n",
            "WARNING:tensorflow:Model was constructed with shape (None, 1149) for input Tensor(\"evidence_input:0\", shape=(None, 1149), dtype=float32), but it was called on an input with incompatible shape (None, 873).\n",
            "              precision    recall  f1-score   support\n",
            "\n",
            "           0       0.85      0.42      0.57      3583\n",
            "           1       0.62      0.93      0.74      3606\n",
            "\n",
            "    accuracy                           0.68      7189\n",
            "   macro avg       0.73      0.67      0.65      7189\n",
            "weighted avg       0.73      0.68      0.65      7189\n",
            "\n"
          ],
          "name": "stdout"
        }
      ]
    },
    {
      "cell_type": "markdown",
      "metadata": {
        "id": "kyYUZabrC8PR"
      },
      "source": [
        "# EVALUATION"
      ]
    },
    {
      "cell_type": "code",
      "metadata": {
        "id": "RrUgm8yoC9VI"
      },
      "source": [
        ""
      ],
      "execution_count": null,
      "outputs": []
    },
    {
      "cell_type": "markdown",
      "metadata": {
        "id": "1oXneFQ2C9u7"
      },
      "source": [
        "# COMMENTARY"
      ]
    },
    {
      "cell_type": "code",
      "metadata": {
        "id": "hr1G6J5lC-zg"
      },
      "source": [
        ""
      ],
      "execution_count": null,
      "outputs": []
    }
  ]
}