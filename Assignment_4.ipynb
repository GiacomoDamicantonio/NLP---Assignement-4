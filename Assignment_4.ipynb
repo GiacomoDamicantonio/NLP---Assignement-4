{
  "nbformat": 4,
  "nbformat_minor": 0,
  "metadata": {
    "colab": {
      "name": "Copia di Assignment_4.ipynb",
      "provenance": [],
      "toc_visible": true,
      "machine_shape": "hm"
    },
    "kernelspec": {
      "name": "python3",
      "display_name": "Python 3"
    },
    "accelerator": "GPU"
  },
  "cells": [
    {
      "cell_type": "markdown",
      "metadata": {
        "id": "3GM9DBN-Qz3k"
      },
      "source": [
        "# Assignment 4\n",
        "\n",
        "**Due to**: TBD\n",
        "\n",
        "**Credits**: Andrea Galassi, Federico Ruggeri, Paolo Torroni\n",
        "\n",
        "**Summary**: Fact checking, Neural Languange Inference (**NLI**)"
      ]
    },
    {
      "cell_type": "markdown",
      "metadata": {
        "id": "tO_-4CZeRCO7"
      },
      "source": [
        "# Intro\n",
        "\n",
        "This assignment is centred on a particular and emerging NLP task, formally known as **fact checking** (or fake checking). As AI techniques become more and more powerful, reaching amazing results, such as image and text generation, it is more than ever necessary to build tools able to distinguish what is real from what is fake.\n",
        "\n",
        "Here we focus on a small portion of the whole fact checking problem, which aims to determine whether a given statement (fact) conveys a trustworthy information or not. \n",
        "\n",
        "More precisely, given a set of evidences and a fact to verify, we would like our model to correctly predict whether the fact is true or fake.\n",
        "\n",
        "In particular, we will see:\n",
        "\n",
        "*   Dataset preparation (analysis and pre-processing)\n",
        "*   Problem formulation: multi-input binary classification\n",
        "*   Defining an evaluation method\n",
        "*   Simple sentence embedding\n",
        "*   Neural building blocks\n",
        "*   Neural architecture extension"
      ]
    },
    {
      "cell_type": "markdown",
      "metadata": {
        "id": "hGDwg78PS_uy"
      },
      "source": [
        "# The FEVER dataset\n",
        "\n",
        "First of all, we need to choose a dataset. In this assignment we will rely on the [FEVER dataset](https://fever.ai).\n",
        "\n",
        "The dataset is about facts taken from Wikipedia documents that have to be verified. In particular, facts could face manual modifications in order to define fake information or to give different formulations of the same concept.\n",
        "\n",
        "The dataset consists of 185,445 claims manually verified against the introductory sections of Wikipedia pages and classified as ```Supported```, ```Refuted``` or ```NotEnoughInfo```. For the first two classes, systems and annotators need to also return the combination of sentences forming the necessary evidence supporting or refuting the claim."
      ]
    },
    {
      "cell_type": "markdown",
      "metadata": {
        "id": "4Oa5FpVpT7p4"
      },
      "source": [
        "## Dataset structure\n",
        "\n",
        "Relevant data is divided into two file types. Information concerning the fact to verify, its verdict and associated supporting/opposing statements are stored in **.jsonl** format. In particular, each JSON element is a python dictionary with the following relevant fields:\n",
        "\n",
        "*    **ID**: ID associated to the fact to verify.\n",
        "\n",
        "*    **Verifiable**: whether the fact has been verified or not: ```VERIFIABLE``` or ```NOT VERIFIABLE```.\n",
        "    \n",
        "*    **Label**: the final verdict on the fact to verify: ```SUPPORTS```, ```REFUTES``` or ```NOT ENOUGH INFO```.\n",
        "    \n",
        "*    **Claim**: the fact to verify.\n",
        "    \n",
        "*    **Evidence**: a nested list of document IDs along with the sentence ID that is associated to the fact to verify. In particular, each list element is a tuple of four elements: the first two are internal annotator IDs that can be safely ignored; the third term is the document ID (called URL) and the last one is the sentence number (ID) in the pointed document to consider.\n",
        "\n",
        "**Some Examples**\n",
        "\n",
        "---\n",
        "\n",
        "**Verifiable**\n",
        "\n",
        "{\"id\": 202314, \"verifiable\": \"VERIFIABLE\", \"label\": \"REFUTES\", \"claim\": \"The New Jersey Turnpike has zero shoulders.\", \"evidence\": [[[238335, 240393, \"New_Jersey_Turnpike\", 15]]]}\n",
        "\n",
        "---\n",
        "\n",
        "**Not Verifiable**\n",
        "\n",
        "{\"id\": 113501, \"verifiable\": \"NOT VERIFIABLE\", \"label\": \"NOT ENOUGH INFO\", \"claim\": \"Grease had bad reviews.\", \"evidence\": [[[133128, null, null, null]]]}\n",
        "\n",
        "---"
      ]
    },
    {
      "cell_type": "markdown",
      "metadata": {
        "id": "nex_8UM4VWuY"
      },
      "source": [
        "## Some simplifications and pre-processing\n",
        "\n",
        "We are only interested in verifiable facts. Thus, we can filter out all non-verifiable claims.\n",
        "\n",
        "Additionally, the current dataset format does not contain all necessary information for our classification purposes. In particular, we need to download Wikipedia documents and replace reported evidence IDs with the corresponding text.\n",
        "\n",
        "Don't worry about that! We are providing you the already pre-processed dataset so that you can concentrate on the classification pipeline (pre-processing, model definition, evaluation and training).\n",
        "\n",
        "You can download the zip file containing all set splits (train, validation and test) of the FEVER dataset by clicking on this [link](https://drive.google.com/file/d/1wArZhF9_SHW17WKNGeLmX-QTYw9Zscl1/view?usp=sharing). Alternatively, run the below code cell to automatically download it on this notebook.\n",
        "\n",
        "**Note**: each dataset split is in .csv format. Feel free to inspect the whole dataset!"
      ]
    },
    {
      "cell_type": "code",
      "metadata": {
        "id": "BspxZcRjW0NG"
      },
      "source": [
        "import os\n",
        "import requests\n",
        "import zipfile\n",
        "\n",
        "def save_response_content(response, destination):\n",
        "    CHUNK_SIZE = 32768\n",
        "\n",
        "    with open(destination, \"wb\") as f:\n",
        "        for chunk in response.iter_content(CHUNK_SIZE):\n",
        "            if chunk: # filter out keep-alive new chunks\n",
        "                f.write(chunk)\n",
        "\n",
        "def download_data(data_path):\n",
        "    toy_data_path = os.path.join(data_path, 'fever_data.zip')\n",
        "    toy_data_url_id = \"1wArZhF9_SHW17WKNGeLmX-QTYw9Zscl1\"\n",
        "    toy_url = \"https://docs.google.com/uc?export=download\"\n",
        "\n",
        "    if not os.path.exists(data_path):\n",
        "        os.makedirs(data_path)\n",
        "\n",
        "    if not os.path.exists(toy_data_path):\n",
        "        print(\"Downloading FEVER data splits...\")\n",
        "        with requests.Session() as current_session:\n",
        "            response = current_session.get(toy_url,\n",
        "                                   params={'id': toy_data_url_id},\n",
        "                                   stream=True)\n",
        "        save_response_content(response, toy_data_path)\n",
        "        print(\"Download completed!\")\n",
        "\n",
        "        print(\"Extracting dataset...\")\n",
        "        with zipfile.ZipFile(toy_data_path) as loaded_zip:\n",
        "            loaded_zip.extractall(data_path)\n",
        "        print(\"Extraction completed!\")\n",
        "\n",
        "download_data('dataset')"
      ],
      "execution_count": 4,
      "outputs": []
    },
    {
      "cell_type": "markdown",
      "metadata": {
        "id": "RbH_8errW5MH"
      },
      "source": [
        "# Classification dataset\n",
        "\n",
        "At this point, you should have a reay-to-go dataset! Note that the dataset format changed as well! In particular, we split the evidence set associated to each claim, in order to build (claim, evidence) pairs. The classification label is propagated as well.\n",
        "\n",
        "We'll motivate this decision in the next section!\n",
        "\n",
        "Just for clarity, here's an example of the pre-processed dataset:\n",
        "\n",
        "---\n",
        "\n",
        "**Claim**: \"Wentworth Miller is yet to make his screenwriting debut.\"\n",
        "\n",
        "**Evidence**: \"2\tHe made his screenwriting debut with the 2013 thriller film Stoker .\tStoker\tStoker (film)\"\n",
        "\n",
        "**Label**: Refutes\n",
        "\n",
        "---\n",
        "\n",
        "**Note**: The dataset requires some text cleaning as you may notice!\n"
      ]
    },
    {
      "cell_type": "markdown",
      "metadata": {
        "id": "gH8hIK21Xrl0"
      },
      "source": [
        "# Problem formulation\n",
        "\n",
        "As mentioned at the beginning of the assignment, we are going to formulate the fact checking problem as a binary classification task.\n",
        "\n",
        "In particular, each dataset sample is comprised of:\n",
        "\n",
        "*     A claim to verify\n",
        "*     A set of semantically related statements (evidence set)\n",
        "*     Fact checking label: either evidences support or refute the claim.\n",
        "\n",
        "Handling the evidence set from the point of view of neural models may imply some additional complexity: if the evidence set is comprised of several sentences we might incur in memory problems.\n",
        "\n",
        "To this end, we further simplify the problem by building (claim, evidence) pairs. The fact checking label is propagated as well.\n",
        "\n",
        "Example:\n",
        "\n",
        "     Claim: c1 \n",
        "     Evidence set: [e1, e2, e3]\n",
        "     Label: S (support)\n",
        "\n",
        "--->\n",
        "\n",
        "    (c1, e1, S),\n",
        "    (c1, e2, S),\n",
        "    (c1, e3, S)"
      ]
    },
    {
      "cell_type": "markdown",
      "metadata": {
        "id": "E46flIz_zQy-"
      },
      "source": [
        "## Schema\n",
        "\n",
        "The overall binary classification problem is summed up by the following (simplified) schema\n",
        "\n",
        "![](https://drive.google.com/uc?export=view&id=1Wm_YBnFwgJtxcWEBpPbTBEVkpKaL08Jp)\n",
        "\n",
        "Don't worry too much about the **Encoding** block for now. We'll give you some simple guidelines about its definition. For the moment, stick to the binary classification task definition where, in this case, we have 2 inputs: the claim to verify and one of its associated evidences."
      ]
    },
    {
      "cell_type": "markdown",
      "metadata": {
        "id": "LsiTV-NVdgsF"
      },
      "source": [
        "# Architecture Guidelines\n",
        "\n",
        "There are many neural architectures that follow the above schema. To avoid phenomena like the writer's block, in this section we are going to give you some implementation guidelines.\n",
        "\n",
        "In particular, we would like you to test some implementations so that you explore basic approaches (neural baselines) and use them as building blocks for possible extensions."
      ]
    },
    {
      "cell_type": "markdown",
      "metadata": {
        "id": "ZJBQm47fe7iE"
      },
      "source": [
        "## Handling multiple inputs\n",
        "\n",
        "The first thing to notice is that we are in a multi-input scenario. In particular, each sample is comprised of a fact and its asssociated evidence statement.\n",
        "\n",
        "Each of these input is encoded as a sequence of tokens. In particular, we will have the following input matrices:\n",
        "\n",
        "*    Claim: [batch_size, max_tokens]\n",
        "*    Evidence: [batch_size, max_tokens]\n",
        "\n",
        "Moreover, after the embedding layer, we'll have:\n",
        "\n",
        "*    Claim: [batch_size, max_tokens, embedding_dim]\n",
        "*    Evidence: [batch_size, max_tokens, embedding_dim]\n",
        "\n",
        "But, we would like to have a 2D input to our classifier, since we have to give an answer at pair level. Therefore, for each sample, we would expect the following input shape to our classification block:\n",
        "\n",
        "*   Classification input shape: [batch_size, dim]\n",
        "\n",
        "**How to do that?**\n",
        "\n",
        "We inherently need to reduce the token sequence to a single representation. This operation is formally known as **sentence embedding**. Indeed, we are trying to compress the information of a whole sequence into a single embedding vector.\n",
        "\n",
        "Here are some simple solutions that we ask you to try out:\n",
        "\n",
        "*   Encode token sequences via a RNN and take the last state as the sentence embedding.\n",
        "\n",
        "*   Encode token sequences via a RNN and average all the output states.\n",
        "\n",
        "*   Encode token sequences via a simple MLP layer. In particular, if your input is a [batch_size, max_tokens, embedding_dim] tensor, the matrix multiplication works on the **max_tokens** dimension, resulting in a [batch_size, embedding_dim] 2D matrix.\n",
        "\n",
        "*   Compute the sentence embedding as the mean of its token embeddings (**bag of vectors**)."
      ]
    },
    {
      "cell_type": "markdown",
      "metadata": {
        "id": "Gypl5z5ElJo1"
      },
      "source": [
        "## Merging multi-inputs\n",
        "\n",
        "At this point, we have to think about **how** we should merge evidence and claim sentence embeddings.\n",
        "\n",
        "For simplicity, we stick to simple merging strategies:\n",
        "\n",
        "*     **Concatenation**: define the classification input as the concatenation of evidence and claim sentence embeddings\n",
        "\n",
        "*     **Sum**: define the classification input as the sum of evidence and claim sentence embeddings\n",
        "\n",
        "*     **Mean**: define the classification input as the mean of evidence and claim sentence embeddings\n",
        "\n",
        "For clarity, if we the sentence embedding of a single input has shape [batch_size, embedding_dim], then the classification input has shape:\n",
        "\n",
        "*     **Concatenation**: [batch_size, 2 * embedding_dim]\n",
        "\n",
        "*     **Sum**: [batch_size, embedding_dim]\n",
        "\n",
        "*     **Mean**: [batch_size, embedding_dim]"
      ]
    },
    {
      "cell_type": "markdown",
      "metadata": {
        "id": "IhVg9ZLymOUc"
      },
      "source": [
        "# A simple extension\n",
        "\n",
        "Lastly, we ask you to modify previously defined neural architectures by adding an additional feature to the classification input.\n",
        "\n",
        "We would like to see if some similarity information between the claim to verify and one of its associated evidence might be useful to the classification.\n",
        "\n",
        "Compute the cosine similarity metric between the two sentence embeddings and concatenate the result to the classification input.\n",
        "\n",
        "For clarity, since the cosine similarity of two vectors outputs a scalar value, the classification input shape is modified as follows:\n",
        "\n",
        "*     **Concatenation**: [batch_size, 2 * embedding_dim + 1]\n",
        "\n",
        "*     **Sum**: [batch_size, embedding_dim + 1]\n",
        "\n",
        "*     **Mean**: [batch_size, embedding_dim + 1]\n",
        "\n"
      ]
    },
    {
      "cell_type": "markdown",
      "metadata": {
        "id": "Nd74ULgpnJrc"
      },
      "source": [
        "# Performance evaluation\n",
        "\n",
        "Due to our simplifications, obtained results are not directly compatible with a traditional fact checking method that considers the evidence set as a whole.\n",
        "\n",
        "Thus, we need to consider two types of evaluations.\n",
        "\n",
        "**Multi-input classification evaluation**\n",
        "\n",
        "This type of evaluation is the easiest and concerns computing evaluation metrics, such as accuracy, f1-score, recall and precision, of our pre-processed dataset.\n",
        "\n",
        "In other words, we assess the performance of chosen classifiers.\n",
        "\n",
        "**Claim verification evaluation**\n",
        "\n",
        "However, if we want to give an answer concerning the claim itself, we need to consider the whole evidence set. \n",
        "\n",
        "Intuitively, for a given claim, we consider all its corresponding (claim, evidence) pairs and their corresponding classification outputs. \n",
        "\n",
        "At this point, all we need to do is to compute the final predicted claim label via majority voting.\n",
        "\n",
        "Example:\n",
        "\n",
        "    Claim: c1\n",
        "    Evidence set: e1, e2, e3\n",
        "    True label: S\n",
        "\n",
        "    Pair outputs:\n",
        "    (c1, e1) -> S (supports)\n",
        "    (c1, e2) -> S (supports)\n",
        "    (c1, e3) -> R (refutes)\n",
        "\n",
        "    Majority voting:\n",
        "    S -> 2 votes\n",
        "    R -> 1 vote\n",
        "\n",
        "    Final label:\n",
        "    c1 -> S\n",
        "\n",
        "Lastly, we have to compute classification metrics just like before."
      ]
    },
    {
      "cell_type": "markdown",
      "metadata": {
        "id": "W4LJ2yPxsUOV"
      },
      "source": [
        "# Tips and Extras"
      ]
    },
    {
      "cell_type": "markdown",
      "metadata": {
        "id": "Uf80UVRNrXve"
      },
      "source": [
        "## Extensions are welcome!\n",
        "\n",
        "Is this task too easy for you? Are you curious to try out things you have seen during lectures (e.g. attention)? Feel free to try everything you want!\n",
        "\n",
        "Don't forget to try neural baselines first!"
      ]
    },
    {
      "cell_type": "markdown",
      "metadata": {
        "id": "COXeCXdYsBEf"
      },
      "source": [
        "## Comments and documentation\n",
        "\n",
        "Remember to properly comment your code (it is not necessary to comment each single line) and don't forget to describe your work!"
      ]
    },
    {
      "cell_type": "markdown",
      "metadata": {
        "id": "Ejv6SDE8xc4_"
      },
      "source": [
        "## Organization\n",
        "\n",
        "We suggest you to divide your work into sections. This allows you to build clean and modular code, as well as easy to read and to debug.\n",
        "\n",
        "A possible schema:\n",
        "\n",
        "*   Dataset pre-processing\n",
        "*   Dataset conversion\n",
        "*   Model definition\n",
        "*   Training\n",
        "*   Evaluation\n",
        "*   Comments/Summary"
      ]
    },
    {
      "cell_type": "markdown",
      "metadata": {
        "id": "9DR70uh7pabo"
      },
      "source": [
        "# Contact\n",
        "\n",
        "For any doubt, question, issue or help, you can always contact us at the following email addresses:\n",
        "\n",
        "Teaching Assistants:\n",
        "\n",
        "* Andrea Galassi -> a.galassi@unibo.it\n",
        "* Federico Ruggeri -> federico.ruggeri6@unibo.it\n",
        "\n",
        "Professor:\n",
        "\n",
        "* Paolo Torroni -> p.torroni@unibo.it\n",
        "\n",
        "Don't forget that your feedback is very important! Your suggestions help us improving course material."
      ]
    },
    {
      "cell_type": "markdown",
      "metadata": {
        "id": "Jc0gNWU2pgKQ"
      },
      "source": [
        "# FAQ\n",
        "\n",
        "---\n",
        "\n",
        "**Q: Can I do something text pre-processing?**\n",
        "\n",
        "**A:** You have to! If you check text data, the majority of sentences need some cleaning.\n",
        "\n",
        "---\n",
        "\n",
        "**Q: I'm struggling with the implementation. Can you help me?**\n",
        "\n",
        "**A:** Yes sure! Write us an email about your issue. If you are looking for a particular type of operation, you can easily check the documentation of the deep learning framework you are using (google is your friend).\n",
        "\n",
        "---\n",
        "\n",
        "**Q: Can I try other encoding strategies or neural architectures?**\n",
        "\n",
        "**A:** Absolutely! Remember to try out recommended neural baselines first and only then proceed with your extensions.\n",
        "\n",
        "---"
      ]
    },
    {
      "cell_type": "markdown",
      "metadata": {
        "id": "giikfC36CybU"
      },
      "source": [
        "# PREPROCESSING"
      ]
    },
    {
      "cell_type": "code",
      "metadata": {
        "colab": {
          "base_uri": "https://localhost:8080/",
          "height": 406
        },
        "id": "ym7EfuE7Cz1e",
        "outputId": "f0251a82-da19-4fec-e503-2bf63c9c4669"
      },
      "source": [
        "import pandas as pd\n",
        "import re\n",
        "from collections import Counter\n",
        "from keras.preprocessing.text import Tokenizer\n",
        "train = pd.read_csv('./dataset/train_pairs.csv')\n",
        "test = pd.read_csv('./dataset/test_pairs.csv')\n",
        "val = pd.read_csv('./dataset/val_pairs.csv')\n",
        "train"
      ],
      "execution_count": 5,
      "outputs": [
        {
          "output_type": "execute_result",
          "data": {
            "text/html": [
              "<div>\n",
              "<style scoped>\n",
              "    .dataframe tbody tr th:only-of-type {\n",
              "        vertical-align: middle;\n",
              "    }\n",
              "\n",
              "    .dataframe tbody tr th {\n",
              "        vertical-align: top;\n",
              "    }\n",
              "\n",
              "    .dataframe thead th {\n",
              "        text-align: right;\n",
              "    }\n",
              "</style>\n",
              "<table border=\"1\" class=\"dataframe\">\n",
              "  <thead>\n",
              "    <tr style=\"text-align: right;\">\n",
              "      <th></th>\n",
              "      <th>Unnamed: 0</th>\n",
              "      <th>Claim</th>\n",
              "      <th>Evidence</th>\n",
              "      <th>ID</th>\n",
              "      <th>Label</th>\n",
              "    </tr>\n",
              "  </thead>\n",
              "  <tbody>\n",
              "    <tr>\n",
              "      <th>0</th>\n",
              "      <td>0</td>\n",
              "      <td>Chris Hemsworth appeared in A Perfect Getaway.</td>\n",
              "      <td>2\\tHemsworth has also appeared in the science ...</td>\n",
              "      <td>3</td>\n",
              "      <td>SUPPORTS</td>\n",
              "    </tr>\n",
              "    <tr>\n",
              "      <th>1</th>\n",
              "      <td>1</td>\n",
              "      <td>Roald Dahl is a writer.</td>\n",
              "      <td>0\\tRoald Dahl -LRB- -LSB- langpronˈroʊ.əld _ ˈ...</td>\n",
              "      <td>7</td>\n",
              "      <td>SUPPORTS</td>\n",
              "    </tr>\n",
              "    <tr>\n",
              "      <th>2</th>\n",
              "      <td>2</td>\n",
              "      <td>Roald Dahl is a governor.</td>\n",
              "      <td>0\\tRoald Dahl -LRB- -LSB- langpronˈroʊ.əld _ ˈ...</td>\n",
              "      <td>8</td>\n",
              "      <td>REFUTES</td>\n",
              "    </tr>\n",
              "    <tr>\n",
              "      <th>3</th>\n",
              "      <td>3</td>\n",
              "      <td>Ireland has relatively low-lying mountains.</td>\n",
              "      <td>10\\tThe island 's geography comprises relative...</td>\n",
              "      <td>9</td>\n",
              "      <td>SUPPORTS</td>\n",
              "    </tr>\n",
              "    <tr>\n",
              "      <th>4</th>\n",
              "      <td>4</td>\n",
              "      <td>Ireland does not have relatively low-lying mou...</td>\n",
              "      <td>10\\tThe island 's geography comprises relative...</td>\n",
              "      <td>10</td>\n",
              "      <td>REFUTES</td>\n",
              "    </tr>\n",
              "    <tr>\n",
              "      <th>...</th>\n",
              "      <td>...</td>\n",
              "      <td>...</td>\n",
              "      <td>...</td>\n",
              "      <td>...</td>\n",
              "      <td>...</td>\n",
              "    </tr>\n",
              "    <tr>\n",
              "      <th>121735</th>\n",
              "      <td>121735</td>\n",
              "      <td>April was the month Anderson Silva was born.</td>\n",
              "      <td>0\\tAnderson da Silva -LRB- -LSB- ˈɐ̃deʁsõ ˈsiw...</td>\n",
              "      <td>229440</td>\n",
              "      <td>SUPPORTS</td>\n",
              "    </tr>\n",
              "    <tr>\n",
              "      <th>121736</th>\n",
              "      <td>121736</td>\n",
              "      <td>Anderson Silva is an American Brazilian mixed ...</td>\n",
              "      <td>0\\tAnderson da Silva -LRB- -LSB- ˈɐ̃deʁsõ ˈsiw...</td>\n",
              "      <td>229443</td>\n",
              "      <td>REFUTES</td>\n",
              "    </tr>\n",
              "    <tr>\n",
              "      <th>121737</th>\n",
              "      <td>121737</td>\n",
              "      <td>Anderson Silva is incapable of being a Brazili...</td>\n",
              "      <td>0\\tAnderson da Silva -LRB- -LSB- ˈɐ̃deʁsõ ˈsiw...</td>\n",
              "      <td>229444</td>\n",
              "      <td>REFUTES</td>\n",
              "    </tr>\n",
              "    <tr>\n",
              "      <th>121738</th>\n",
              "      <td>121738</td>\n",
              "      <td>Anderson Silva was born on the month of April ...</td>\n",
              "      <td>0\\tAnderson da Silva -LRB- -LSB- ˈɐ̃deʁsõ ˈsiw...</td>\n",
              "      <td>229445</td>\n",
              "      <td>SUPPORTS</td>\n",
              "    </tr>\n",
              "    <tr>\n",
              "      <th>121739</th>\n",
              "      <td>121739</td>\n",
              "      <td>Anderson Silva was born on the day of the 15th.</td>\n",
              "      <td>0\\tAnderson da Silva -LRB- -LSB- ˈɐ̃deʁsõ ˈsiw...</td>\n",
              "      <td>229448</td>\n",
              "      <td>REFUTES</td>\n",
              "    </tr>\n",
              "  </tbody>\n",
              "</table>\n",
              "<p>121740 rows × 5 columns</p>\n",
              "</div>"
            ],
            "text/plain": [
              "        Unnamed: 0  ...     Label\n",
              "0                0  ...  SUPPORTS\n",
              "1                1  ...  SUPPORTS\n",
              "2                2  ...   REFUTES\n",
              "3                3  ...  SUPPORTS\n",
              "4                4  ...   REFUTES\n",
              "...            ...  ...       ...\n",
              "121735      121735  ...  SUPPORTS\n",
              "121736      121736  ...   REFUTES\n",
              "121737      121737  ...   REFUTES\n",
              "121738      121738  ...  SUPPORTS\n",
              "121739      121739  ...   REFUTES\n",
              "\n",
              "[121740 rows x 5 columns]"
            ]
          },
          "metadata": {
            "tags": []
          },
          "execution_count": 5
        }
      ]
    },
    {
      "cell_type": "code",
      "metadata": {
        "colab": {
          "base_uri": "https://localhost:8080/"
        },
        "id": "8_b9dMbTOpc2",
        "outputId": "2f99681e-c42d-4354-9f9b-8e093f8a3af0"
      },
      "source": [
        "ls = []\n",
        "\n",
        "def combine_words(input,length):\n",
        "    combined_inputs = []\n",
        "    if len(input)>1:\n",
        "        for i in range(len(input)-1):\n",
        "            combined_inputs.append(input[i]+\" \"+last_word_of(input[i+1],length)) #add the last word of the right-neighbour (overlapping) sequence (before it has expanded), which is the next word in the original sentence\n",
        "    return combined_inputs, length+1\n",
        "\n",
        "def remove_duplicates(input, length):\n",
        "    bool_broke=False #this means we didn't find any duplicates here\n",
        "    for i in range(len(input) - length):\n",
        "        if input[i]==input[i + length]: #found a duplicate piece of sentence!\n",
        "            for j in range(0,length): #remove the overlapping sequences in reverse order\n",
        "                del input[i + length - j]\n",
        "            bool_broke = True\n",
        "            break #break the for loop as the loop length does not matches the length of splitted_input anymore as we removed elements\n",
        "    if bool_broke:\n",
        "        return remove_duplicates(input, length) #if we found a duplicate, look for another duplicate of the same length\n",
        "    return input\n",
        "\n",
        "def last_word_of(input,length):\n",
        "    splitted = input.split(\" \")\n",
        "    if len(splitted)==0:\n",
        "        return input\n",
        "    else:\n",
        "        return splitted[length-1]\n",
        "\n",
        "def prepare_evidence(df):\n",
        "  ls = []\n",
        "  index = 0\n",
        "  for x in df['Evidence']:\n",
        "    i = re.sub(r'^.*?\\t', '', x)\n",
        "    splitted_input = i.replace('-LRB-', '(').replace('-RRB- ', ')').replace('\\t', ' ').replace('-LSB-', '').replace('-RSB-', '').split(' ')\n",
        "    word_length = 1\n",
        "    splitted_input,word_length = combine_words(splitted_input,word_length)\n",
        "\n",
        "    intermediate_output = False\n",
        "\n",
        "    while len(splitted_input)>1:\n",
        "        splitted_input = remove_duplicates(splitted_input,word_length) #look whether two sequences of length n (with distance n apart) are equal. If so, remove the n overlapping sequences\n",
        "        splitted_input, word_length = combine_words(splitted_input,word_length) #make even bigger sequences\n",
        "        if intermediate_output:\n",
        "            print(splitted_input)\n",
        "            print(word_length)\n",
        "    try:\n",
        "      output = splitted_input[0]\n",
        "    except:\n",
        "      output = splitted_input\n",
        "    index += 1\n",
        "    ls.append(output)\n",
        "  return(ls)\n",
        "\n",
        "train_evidence = prepare_evidence(train)\n",
        "test_evidence = prepare_evidence(test)\n",
        "val_evidence = prepare_evidence(val)\n",
        "print(train_evidence[0], test_evidence[0], val_evidence[0])"
      ],
      "execution_count": 6,
      "outputs": [
        {
          "output_type": "stream",
          "text": [
            "Hemsworth has also appeared in the science fiction action film Star Trek ( 2009 ), the thriller adventure A Perfect Getaway ( 2009 ), the horror comedy The Cabin in the Woods ( 2012 ), the dark-fantasy action film Snow White and the Huntsman ( 2012 ), the war film Red Dawn ( 2012 ), and the biographical sports drama film Rush ( 2013 ). Star Trek (film) A Perfect Getaway The Cabin in the Woods Snow White and the Huntsman Red Dawn (2012 film) Rush Rush (2013 film) Furthermore , anxiety has been linked with physical symptoms such as IBS and can heighten other mental health illnesses such as OCD and panic disorder . IBS Irritable bowel syndrome It is an all-volunteer force and comprises more than 80 % of the country 's active defence personnel . all-volunteer force Volunteer military\n"
          ],
          "name": "stdout"
        }
      ]
    },
    {
      "cell_type": "code",
      "metadata": {
        "colab": {
          "base_uri": "https://localhost:8080/"
        },
        "id": "EoilgL6nOpsq",
        "outputId": "c38315d5-6854-469a-a98f-c68f19114f8d"
      },
      "source": [
        "X_train = [(train.iloc[x]['Claim'], train_evidence[x]) for x in range(len(train_evidence))]\n",
        "X_test = [(test.iloc[x]['Claim'], test_evidence[x]) for x in range(len(test_evidence))]\n",
        "X_val = [(val.iloc[x]['Claim'], val_evidence[x]) for x in range(len(val_evidence))]\n",
        "X_train[0]"
      ],
      "execution_count": 7,
      "outputs": [
        {
          "output_type": "execute_result",
          "data": {
            "text/plain": [
              "('Chris Hemsworth appeared in A Perfect Getaway.',\n",
              " 'Hemsworth has also appeared in the science fiction action film Star Trek ( 2009 ), the thriller adventure A Perfect Getaway ( 2009 ), the horror comedy The Cabin in the Woods ( 2012 ), the dark-fantasy action film Snow White and the Huntsman ( 2012 ), the war film Red Dawn ( 2012 ), and the biographical sports drama film Rush ( 2013 ). Star Trek (film) A Perfect Getaway The Cabin in the Woods Snow White and the Huntsman Red Dawn (2012 film) Rush Rush (2013 film)')"
            ]
          },
          "metadata": {
            "tags": []
          },
          "execution_count": 7
        }
      ]
    },
    {
      "cell_type": "code",
      "metadata": {
        "id": "M3oYBL2SLG3m"
      },
      "source": [
        "y_train = train['Label']\n",
        "y_test = test['Label']\n",
        "y_val = val['Label']"
      ],
      "execution_count": 8,
      "outputs": []
    },
    {
      "cell_type": "markdown",
      "metadata": {
        "id": "1cLxaKZrC04V"
      },
      "source": [
        "# CONVERSION"
      ]
    },
    {
      "cell_type": "code",
      "metadata": {
        "id": "1pye_KlG5yGl"
      },
      "source": [
        "pos_dict = {}\n",
        "def create_XY(df):\n",
        "    X = [] # store input sequence\n",
        "    pos = 0\n",
        "    max_len = 0\n",
        "    for sentence in df:\n",
        "      X_sentence = []\n",
        "      try:\n",
        "        sent = sentence.split(' ')\n",
        "        for word in sent:\n",
        "          if len(sent) > max_len:\n",
        "            max_len = len(sent)\n",
        "          X_sentence.append(word)\n",
        "      except:\n",
        "          X_sentence.append('')\n",
        "      X.append(X_sentence)\n",
        "    num_words = len(set([word.lower() for sentence in X for word in sentence]))\n",
        "    print(\"Total number of tagged sentences: {}\".format(len(X)))\n",
        "    print(\"Vocabulary size: {}\".format(num_words))\n",
        "    print('sample X: ', X[0])\n",
        "    print(\"Length of first input sequence  : {}\".format(len(X[0])))\n",
        "    print(\"Maximum length of sentence : {} \\n\".format(max_len))\n",
        "    return X, num_words, max_len\n"
      ],
      "execution_count": 9,
      "outputs": []
    },
    {
      "cell_type": "code",
      "metadata": {
        "colab": {
          "base_uri": "https://localhost:8080/"
        },
        "id": "qRCkzdb2H3Wr",
        "outputId": "a07ec69b-f14e-4899-a9dc-d52b7ed1b2d8"
      },
      "source": [
        "X_train_claim, num_words_train_claim, MAX_LEN_TRAIN_claim = create_XY(train['Claim'])\n",
        "X_val_claim, num_words_val_claim, MAX_LEN_VAL_claim = create_XY(val['Claim'])\n",
        "X_test_claim, num_words_test_claim, MAX_LEN_TEST_claim= create_XY(test['Claim'])\n",
        "\n",
        "X_train_evidence, num_words_train_evidence, MAX_LEN_TRAIN_evidence = create_XY(train_evidence)\n",
        "X_val_evidence, num_words_val_evidence, MAX_LEN_VAL_evidence = create_XY(val_evidence)\n",
        "X_test_evidence, num_words_test_evidence, MAX_LEN_TEST_evidence = create_XY(test_evidence)"
      ],
      "execution_count": 10,
      "outputs": [
        {
          "output_type": "stream",
          "text": [
            "Total number of tagged sentences: 121740\n",
            "Vocabulary size: 31186\n",
            "sample X:  ['Chris', 'Hemsworth', 'appeared', 'in', 'A', 'Perfect', 'Getaway.']\n",
            "Length of first input sequence  : 7\n",
            "Maximum length of sentence : 65 \n",
            "\n",
            "Total number of tagged sentences: 7165\n",
            "Vocabulary size: 6619\n",
            "sample X:  ['The', 'Indian', 'Army', 'comprises', 'part', 'of', 'the', \"country's\", 'active', 'defense', 'personnel.']\n",
            "Length of first input sequence  : 11\n",
            "Maximum length of sentence : 31 \n",
            "\n",
            "Total number of tagged sentences: 7189\n",
            "Vocabulary size: 7141\n",
            "sample X:  ['Anxiety', 'has', 'been', 'linked', 'with', 'physical', 'symptoms.']\n",
            "Length of first input sequence  : 7\n",
            "Maximum length of sentence : 31 \n",
            "\n",
            "Total number of tagged sentences: 121740\n",
            "Vocabulary size: 36238\n",
            "sample X:  ['Hemsworth', 'has', 'also', 'appeared', 'in', 'the', 'science', 'fiction', 'action', 'film', 'Star', 'Trek', '(', '2009', '),', 'the', 'thriller', 'adventure', 'A', 'Perfect', 'Getaway', '(', '2009', '),', 'the', 'horror', 'comedy', 'The', 'Cabin', 'in', 'the', 'Woods', '(', '2012', '),', 'the', 'dark-fantasy', 'action', 'film', 'Snow', 'White', 'and', 'the', 'Huntsman', '(', '2012', '),', 'the', 'war', 'film', 'Red', 'Dawn', '(', '2012', '),', 'and', 'the', 'biographical', 'sports', 'drama', 'film', 'Rush', '(', '2013', ').', 'Star', 'Trek', '(film)', 'A', 'Perfect', 'Getaway', 'The', 'Cabin', 'in', 'the', 'Woods', 'Snow', 'White', 'and', 'the', 'Huntsman', 'Red', 'Dawn', '(2012', 'film)', 'Rush', 'Rush', '(2013', 'film)']\n",
            "Length of first input sequence  : 89\n",
            "Maximum length of sentence : 203 \n",
            "\n",
            "Total number of tagged sentences: 7165\n",
            "Vocabulary size: 8586\n",
            "sample X:  ['It', 'is', 'an', 'all-volunteer', 'force', 'and', 'comprises', 'more', 'than', '80', '%', 'of', 'the', 'country', \"'s\", 'active', 'defence', 'personnel', '.', 'all-volunteer', 'force', 'Volunteer', 'military']\n",
            "Length of first input sequence  : 23\n",
            "Maximum length of sentence : 168 \n",
            "\n",
            "Total number of tagged sentences: 7189\n",
            "Vocabulary size: 9723\n",
            "sample X:  ['Furthermore', ',', 'anxiety', 'has', 'been', 'linked', 'with', 'physical', 'symptoms', 'such', 'as', 'IBS', 'and', 'can', 'heighten', 'other', 'mental', 'health', 'illnesses', 'such', 'as', 'OCD', 'and', 'panic', 'disorder', '.', 'IBS', 'Irritable', 'bowel', 'syndrome']\n",
            "Length of first input sequence  : 30\n",
            "Maximum length of sentence : 152 \n",
            "\n"
          ],
          "name": "stdout"
        }
      ]
    },
    {
      "cell_type": "code",
      "metadata": {
        "id": "zydzkpXhVL1B"
      },
      "source": [
        "words, tags = set([]), set([])\n",
        "X_train = X_train_claim + X_train_evidence\n",
        " \n",
        "for s in X_train:\n",
        "    for w in s:\n",
        "       words.add(w.lower())\n",
        " \n",
        "word2index = {w: i + 1 for i, w in enumerate(list(words))}\n",
        "word2index['-PAD-'] = 0  # The special value used for padding"
      ],
      "execution_count": 11,
      "outputs": []
    },
    {
      "cell_type": "code",
      "metadata": {
        "id": "MBFuGCU4DMXA"
      },
      "source": [
        "words_test, tags_test = set([]), set([])\n",
        "X_test = X_test_claim + X_test_evidence\n",
        "\n",
        "for s in X_test:\n",
        "    for w in s:\n",
        "       words_test.add(w.lower())\n",
        " \n",
        "word2indexTest = {w: i + 2 for i, w in enumerate(list(words_test))}\n",
        "word2indexTest['-PAD-'] = 0  # The special value used for padding"
      ],
      "execution_count": 12,
      "outputs": []
    },
    {
      "cell_type": "code",
      "metadata": {
        "id": "T7Vh9gJfgpB-"
      },
      "source": [
        "words_val, tags_val = set([]), set([])\n",
        "X_val = X_val_claim + X_val_evidence\n",
        "\n",
        "for s in X_val:\n",
        "    for w in s:\n",
        "       words_val.add(w.lower())\n",
        " \n",
        "word2indexVal = {w: i + 2 for i, w in enumerate(list(words_val))}\n",
        "word2indexVal['-PAD-'] = 0  # The special value used for padding"
      ],
      "execution_count": 13,
      "outputs": []
    },
    {
      "cell_type": "markdown",
      "metadata": {
        "id": "MBx_hrNhwGPo"
      },
      "source": [
        "## Merging indexes and padding"
      ]
    },
    {
      "cell_type": "code",
      "metadata": {
        "id": "ku4yfV3rg3Tp"
      },
      "source": [
        "def merge_word2indexes(word2index, word2indexTest, word2indexVal): \n",
        "  for x in word2indexVal:\n",
        "    if x not in word2index.keys():\n",
        "      word2index[x] = len(word2index) \n",
        "  for x in word2indexTest:\n",
        "    if x not in word2index.keys():\n",
        "      word2index[x] = len(word2index) \n",
        "  return word2index\n",
        "word2index = merge_word2indexes(word2index, word2indexTest, word2indexVal)"
      ],
      "execution_count": 14,
      "outputs": []
    },
    {
      "cell_type": "code",
      "metadata": {
        "colab": {
          "base_uri": "https://localhost:8080/"
        },
        "id": "wZpNRGhqWMLf",
        "outputId": "f5ea7c51-aef0-4024-c898-a3814f871ace"
      },
      "source": [
        "train_sentences_X_claim, test_sentences_X_claim, val_sentences_X_claim = [], [], []\n",
        "train_sentences_X_evidence, test_sentences_X_evidence, val_sentences_X_evidence = [], [], []\n",
        "\n",
        "oov = [] \n",
        "\n",
        "for s in X_train_claim:\n",
        "    s_int = []\n",
        "    for w in s:\n",
        "        s_int.append(word2index[w.lower()])\n",
        "    train_sentences_X_claim.append(s_int)\n",
        "\n",
        "for s in X_train_evidence:\n",
        "    s_int = []\n",
        "    for w in s:\n",
        "        s_int.append(word2index[w.lower()])\n",
        "    train_sentences_X_evidence.append(s_int)\n",
        "\n",
        "for s in X_test_claim:\n",
        "    s_int = []\n",
        "    for w in s:\n",
        "        s_int.append(word2index[w.lower()])\n",
        "    test_sentences_X_claim.append(s_int)\n",
        "\n",
        "for s in X_test_evidence:\n",
        "    s_int = []\n",
        "    for w in s:\n",
        "        s_int.append(word2index[w.lower()])\n",
        "    test_sentences_X_evidence.append(s_int)\n",
        "\n",
        "for s in X_val_claim:\n",
        "    s_int = []\n",
        "    for w in s:\n",
        "        s_int.append(word2index[w.lower()])\n",
        "    val_sentences_X_claim.append(s_int)\n",
        "\n",
        "for s in X_val_evidence:\n",
        "    s_int = []\n",
        "    for w in s:\n",
        "        s_int.append(word2index[w.lower()])\n",
        "    val_sentences_X_evidence.append(s_int)\n",
        " \n",
        "print(train_sentences_X_claim[0])\n",
        "print(test_sentences_X_claim[0])\n",
        "print(val_sentences_X_claim[0])\n",
        "print(train_sentences_X_evidence[0])\n",
        "print(test_sentences_X_evidence[0])\n",
        "print(val_sentences_X_evidence[0])"
      ],
      "execution_count": 15,
      "outputs": [
        {
          "output_type": "stream",
          "text": [
            "[19985, 36662, 19668, 30398, 46851, 47597, 18958]\n",
            "[36534, 22601, 9546, 47120, 18122, 10892, 29509]\n",
            "[21366, 28848, 36618, 2921, 15153, 49728, 21366, 36547, 29562, 35470, 53751]\n",
            "[36662, 22601, 46493, 19668, 30398, 21366, 39444, 36781, 20581, 29874, 6299, 5175, 49553, 39189, 19367, 21366, 12958, 12405, 46851, 47597, 24203, 49553, 39189, 19367, 21366, 35658, 36858, 21366, 50162, 30398, 21366, 24860, 49553, 34499, 19367, 21366, 52067, 20581, 29874, 30241, 8909, 28262, 21366, 46017, 49553, 34499, 19367, 21366, 41252, 29874, 5338, 3625, 49553, 34499, 19367, 28262, 21366, 34632, 29781, 34143, 29874, 4549, 49553, 12944, 16949, 6299, 5175, 25712, 46851, 47597, 24203, 21366, 50162, 30398, 21366, 24860, 30241, 8909, 28262, 21366, 46017, 5338, 3625, 8768, 4363, 4549, 4549, 28736, 4363]\n",
            "[15604, 18702, 36534, 22601, 9546, 47120, 18122, 10892, 16997, 20434, 51109, 56673, 28262, 27019, 57319, 47370, 23028, 52490, 9486, 20434, 51109, 56607, 28262, 24069, 22431, 11714, 56673, 55767, 43914, 46979]\n",
            "[47066, 39648, 23233, 55600, 47814, 28262, 2921, 12480, 35001, 12205, 37862, 49728, 21366, 7261, 23242, 29562, 13703, 10457, 11714, 55600, 47814, 12445, 20043]\n"
          ],
          "name": "stdout"
        }
      ]
    },
    {
      "cell_type": "code",
      "metadata": {
        "id": "fHmCFMYBJr-B"
      },
      "source": [
        "import matplotlib.pyplot as plt\r\n",
        "import seaborn as sns"
      ],
      "execution_count": 16,
      "outputs": []
    },
    {
      "cell_type": "code",
      "metadata": {
        "colab": {
          "base_uri": "https://localhost:8080/",
          "height": 341
        },
        "id": "7B8WelDDJfWt",
        "outputId": "0733d984-a434-412d-d2af-4f9a36ac7dc1"
      },
      "source": [
        "def compute_document_length(X):\r\n",
        "  \"\"\"\r\n",
        "  Calculate length of documents of current split X.\r\n",
        "\r\n",
        "  :param X: current split to analyze\r\n",
        "\r\n",
        "  :return\r\n",
        "      - vector of lengths\r\n",
        "  \"\"\"\r\n",
        "  lengths = [len(seq) for seq in X]\r\n",
        "  print(\"Length of longest document: {} words\".format(max(lengths)))\r\n",
        "  return lengths\r\n",
        "\r\n",
        "length_train = compute_document_length(test_sentences_X_evidence)\r\n",
        "sns.set_theme(style=\"whitegrid\")\r\n",
        "sns.boxplot(length_train)\r\n",
        "plt.show()"
      ],
      "execution_count": 17,
      "outputs": [
        {
          "output_type": "stream",
          "text": [
            "Length of longest document: 152 words\n"
          ],
          "name": "stdout"
        },
        {
          "output_type": "stream",
          "text": [
            "/usr/local/lib/python3.6/dist-packages/seaborn/_decorators.py:43: FutureWarning: Pass the following variable as a keyword arg: x. From version 0.12, the only valid positional argument will be `data`, and passing other arguments without an explicit keyword will result in an error or misinterpretation.\n",
            "  FutureWarning\n"
          ],
          "name": "stderr"
        },
        {
          "output_type": "display_data",
          "data": {
            "image/png": "[encoded data removed]",
            "text/plain": [
              "<Figure size 432x288 with 1 Axes>"
            ]
          },
          "metadata": {
            "tags": []
          }
        }
      ]
    },
    {
      "cell_type": "code",
      "metadata": {
        "id": "rv6JSvKIWzPf"
      },
      "source": [
        "from keras.preprocessing.sequence import pad_sequences\n",
        "\n",
        "MAX_LEN_TRAIN_claim = 65\n",
        "MAX_LEN_VAL_claim = 65#31\n",
        "MAX_LEN_TEST_claim = 65#31\n",
        "\n",
        "MAX_LEN_TRAIN_evidence = 203\n",
        "MAX_LEN_VAL_evidence = 203#168\n",
        "MAX_LEN_TEST_evidence = 203#152\n",
        "\n",
        "train_sentences_X_claim = pad_sequences(train_sentences_X_claim, maxlen=MAX_LEN_TRAIN_claim, padding='post', truncating='post')\n",
        "val_sentences_X_claim = pad_sequences(val_sentences_X_claim, maxlen=MAX_LEN_VAL_claim, padding='post', truncating='post')\n",
        "test_sentences_X_claim = pad_sequences(test_sentences_X_claim, maxlen=MAX_LEN_TEST_claim, padding='post', truncating='post')\n",
        "\n",
        "train_sentences_X_evidence = pad_sequences(train_sentences_X_evidence, maxlen=MAX_LEN_TRAIN_evidence, padding='post', truncating='post')\n",
        "val_sentences_X_evidence = pad_sequences(val_sentences_X_evidence, maxlen=MAX_LEN_VAL_evidence, padding='post', truncating='post')\n",
        "test_sentences_X_evidence = pad_sequences(test_sentences_X_evidence, maxlen=MAX_LEN_TEST_evidence, padding='post', truncating='post')"
      ],
      "execution_count": 38,
      "outputs": []
    },
    {
      "cell_type": "code",
      "metadata": {
        "id": "xoP_gkRvmbou"
      },
      "source": [
        "def get_embedding_bounds(embedding_model):\r\n",
        "  \"\"\"\r\n",
        "  Get minimum and maximum values for embedding, to use during the generation of random embeddings for OOV terms\r\n",
        "\r\n",
        "  :param embedding_model: pre-trained word embedding model (gensim wrapper)\r\n",
        "\r\n",
        "  :return\r\n",
        "      - maximum value found in embedding vectors\r\n",
        "      - minimum value found in embedding vectors\r\n",
        "  \"\"\"\r\n",
        "\r\n",
        "  lb, ub = 0, 0\r\n",
        "  for word in list(embedding_model.vocab.keys()):\r\n",
        "      minimum = np.min(embedding_model.get_vector(word))\r\n",
        "      if minimum < lb: lb = minimum\r\n",
        "      maximum = np.max(embedding_model.get_vector(word))\r\n",
        "      if maximum > ub: ub = maximum\r\n",
        "\r\n",
        "  return ub, lb"
      ],
      "execution_count": 39,
      "outputs": []
    },
    {
      "cell_type": "markdown",
      "metadata": {
        "id": "quidmmGkC38D"
      },
      "source": [
        "# MODEL"
      ]
    },
    {
      "cell_type": "code",
      "metadata": {
        "id": "uXR5lyC_C5Xs"
      },
      "source": [
        "import tensorflow as tf\n",
        "from keras.layers import Add, Average, Dense, Input, GlobalMaxPooling1D, Dot, LSTM, Bidirectional, \\\n",
        "Dropout, Embedding, concatenate, Concatenate, GlobalAveragePooling1D, AdditiveAttention\n",
        "from keras.models import Model\n",
        "from keras.optimizers import SGD\n",
        "import tensorflow.keras as keras"
      ],
      "execution_count": 40,
      "outputs": []
    },
    {
      "cell_type": "code",
      "metadata": {
        "id": "SWmU94DCwZJ1",
        "outputId": "d45b54d1-c707-4e64-cb78-6523fc0977ef",
        "colab": {
          "base_uri": "https://localhost:8080/"
        }
      },
      "source": [
        "!pip install transformers"
      ],
      "execution_count": 41,
      "outputs": [
        {
          "output_type": "stream",
          "text": [
            "Requirement already satisfied: transformers in /usr/local/lib/python3.6/dist-packages (4.1.1)\n",
            "Requirement already satisfied: sacremoses in /usr/local/lib/python3.6/dist-packages (from transformers) (0.0.43)\n",
            "Requirement already satisfied: tokenizers==0.9.4 in /usr/local/lib/python3.6/dist-packages (from transformers) (0.9.4)\n",
            "Requirement already satisfied: packaging in /usr/local/lib/python3.6/dist-packages (from transformers) (20.8)\n",
            "Requirement already satisfied: dataclasses; python_version < \"3.7\" in /usr/local/lib/python3.6/dist-packages (from transformers) (0.8)\n",
            "Requirement already satisfied: numpy in /usr/local/lib/python3.6/dist-packages (from transformers) (1.19.4)\n",
            "Requirement already satisfied: regex!=2019.12.17 in /usr/local/lib/python3.6/dist-packages (from transformers) (2019.12.20)\n",
            "Requirement already satisfied: requests in /usr/local/lib/python3.6/dist-packages (from transformers) (2.23.0)\n",
            "Requirement already satisfied: tqdm>=4.27 in /usr/local/lib/python3.6/dist-packages (from transformers) (4.41.1)\n",
            "Requirement already satisfied: filelock in /usr/local/lib/python3.6/dist-packages (from transformers) (3.0.12)\n",
            "Requirement already satisfied: joblib in /usr/local/lib/python3.6/dist-packages (from sacremoses->transformers) (1.0.0)\n",
            "Requirement already satisfied: click in /usr/local/lib/python3.6/dist-packages (from sacremoses->transformers) (7.1.2)\n",
            "Requirement already satisfied: six in /usr/local/lib/python3.6/dist-packages (from sacremoses->transformers) (1.15.0)\n",
            "Requirement already satisfied: pyparsing>=2.0.2 in /usr/local/lib/python3.6/dist-packages (from packaging->transformers) (2.4.7)\n",
            "Requirement already satisfied: urllib3!=1.25.0,!=1.25.1,<1.26,>=1.21.1 in /usr/local/lib/python3.6/dist-packages (from requests->transformers) (1.24.3)\n",
            "Requirement already satisfied: idna<3,>=2.5 in /usr/local/lib/python3.6/dist-packages (from requests->transformers) (2.10)\n",
            "Requirement already satisfied: chardet<4,>=3.0.2 in /usr/local/lib/python3.6/dist-packages (from requests->transformers) (3.0.4)\n",
            "Requirement already satisfied: certifi>=2017.4.17 in /usr/local/lib/python3.6/dist-packages (from requests->transformers) (2020.12.5)\n"
          ],
          "name": "stdout"
        }
      ]
    },
    {
      "cell_type": "code",
      "metadata": {
        "id": "NzJfAAnFwb7y"
      },
      "source": [
        "import os\r\n",
        "import re\r\n",
        "import json\r\n",
        "import string\r\n",
        "import numpy as np\r\n",
        "import tensorflow as tf\r\n",
        "from tensorflow import keras\r\n",
        "from tensorflow.keras import layers\r\n",
        "from transformers import BertTokenizer, TFBertModel, BertConfig\r\n",
        "VOCAB_SIZE = len(word2index)\r\n",
        "BATCH_SIZE = 64\r\n",
        "EMBEDDING_DIM = 300\r\n",
        "UNITS = 2056\r\n",
        "max_len = 384\r\n",
        "configuration = BertConfig()  # default parameters and configuration for BERT\r\n",
        "configuration.vocab_size = VOCAB_SIZE\r\n",
        "configuration.hidden_size = 256\r\n",
        "configuration.intermediate_size = 256\r\n",
        "configuration.num_attention_heads = 1\r\n",
        "configuration.num_hidden_layers = 1\r\n",
        "configuration.max_position_embeddings = MAX_LEN_TRAIN_evidence"
      ],
      "execution_count": 47,
      "outputs": []
    },
    {
      "cell_type": "code",
      "metadata": {
        "id": "1YFgsOtmCpMc"
      },
      "source": [
        "claim_input = Input(shape=(MAX_LEN_TRAIN_claim), name='claim_input', dtype=tf.int32)\n",
        "evidence_input = Input(shape=(MAX_LEN_TRAIN_evidence), name='evidence_input', dtype=tf.int32)\n",
        "\n",
        "#embedding_layer = Embedding(input_dim=VOCAB_SIZE, output_dim=EMBEDDING_DIM,  weights=[weights], mask_zero=True, trainable=False)\n",
        "#claim_outputs = embedding_layer(claim_input)\n",
        "#evidence_outputs = embedding_layer(evidence_input)"
      ],
      "execution_count": 48,
      "outputs": []
    },
    {
      "cell_type": "markdown",
      "metadata": {
        "id": "_KAyf76Yhly0"
      },
      "source": [
        "## Reduce the token sequence to a single representation"
      ]
    },
    {
      "cell_type": "markdown",
      "metadata": {
        "id": "aVmJAEREWa9v"
      },
      "source": [
        "### RNN taking last hidden state"
      ]
    },
    {
      "cell_type": "code",
      "metadata": {
        "id": "-CDJQoRHDFhy"
      },
      "source": [
        "def last_state_model():  \n",
        "  claim_outputs1, claim_forward_h, _, claim_backward_h, _ = Bidirectional(LSTM(UNITS, return_sequences=True, return_state=True))(claim_outputs)\n",
        "  claim_outputs1 = Concatenate()([claim_forward_h, claim_backward_h])\n",
        "\n",
        "  evidence_outputs1, evidence_forward_h, _, evidence_backward_h, _ = Bidirectional(LSTM(UNITS, return_sequences=True, return_state=True))(evidence_outputs)\n",
        "  evidence_outputs1 = Concatenate()([evidence_forward_h, evidence_backward_h])\n",
        "  return claim_outputs1, evidence_outputs1"
      ],
      "execution_count": 49,
      "outputs": []
    },
    {
      "cell_type": "markdown",
      "metadata": {
        "id": "02UpoOhMWfkk"
      },
      "source": [
        "### RNN averaging all states"
      ]
    },
    {
      "cell_type": "code",
      "metadata": {
        "id": "v60QZFNFWksv"
      },
      "source": [
        "def avg_model():  \n",
        "  claim_outputs2 = Bidirectional(LSTM(UNITS*2, return_sequences=True))(claim_outputs)\n",
        "  evidence_outputs2 = Bidirectional(LSTM(UNITS*2, return_sequences=True))(evidence_outputs)\n",
        "\n",
        "  claim_outputs2 = GlobalAveragePooling1D()(claim_outputs2)\n",
        "  evidence_outputs2 = GlobalAveragePooling1D()(evidence_outputs2)\n",
        "  return claim_outputs2, evidence_outputs2"
      ],
      "execution_count": 50,
      "outputs": []
    },
    {
      "cell_type": "markdown",
      "metadata": {
        "id": "dD6YAMxkWlDf"
      },
      "source": [
        "### Using MLP layer"
      ]
    },
    {
      "cell_type": "code",
      "metadata": {
        "id": "DDxihz-vubFJ"
      },
      "source": [
        "class Linear(keras.layers.Layer):\n",
        "    def __init__(self, units=32):\n",
        "        super(Linear, self).__init__()\n",
        "        self.units = units\n",
        "\n",
        "    def build(self, input_shape):\n",
        "        self.w = self.add_weight(\n",
        "            shape=(input_shape[-1], self.units),\n",
        "            initializer=\"random_normal\",\n",
        "            trainable=True,\n",
        "        )\n",
        "        self.b = self.add_weight(\n",
        "            shape=(self.units,), initializer=\"random_normal\", trainable=True\n",
        "        )\n",
        "\n",
        "    def call(self, inputs):\n",
        "        return tf.matmul(inputs, self.w) + self.b"
      ],
      "execution_count": 51,
      "outputs": []
    },
    {
      "cell_type": "code",
      "metadata": {
        "id": "-zzIgH1RhTO3"
      },
      "source": [
        "class MLPBlock(keras.layers.Layer):\n",
        "    def __init__(self):\n",
        "        super(MLPBlock, self).__init__()\n",
        "        self.maxpool = GlobalMaxPooling1D()\n",
        "        self.linear_1 = Linear(512)\n",
        "        self.linear_2 = Linear(256)\n",
        "        self.linear_3 = Linear(64)\n",
        "        self.dropout = Dropout(0.1)\n",
        "\n",
        "    def call(self, inputs):\n",
        "        x = self.maxpool(inputs)\n",
        "        x = self.linear_1(x)\n",
        "        x = tf.nn.relu(x)\n",
        "        x = self.dropout(x)\n",
        "        x = self.linear_2(x)\n",
        "        x = tf.nn.relu(x)\n",
        "        x = self.dropout(x)\n",
        "        return self.linear_3(x)"
      ],
      "execution_count": 52,
      "outputs": []
    },
    {
      "cell_type": "code",
      "metadata": {
        "id": "RJnI7BK0WqbN"
      },
      "source": [
        "def mlp_model():  \n",
        "  mlp = MLPBlock()\n",
        "  claim_outputs3 = mlp(claim_outputs)\n",
        "  evidence_outputs3 = mlp(evidence_outputs)\n",
        "  return claim_outputs3, evidence_outputs3"
      ],
      "execution_count": 53,
      "outputs": []
    },
    {
      "cell_type": "markdown",
      "metadata": {
        "id": "sMRffpEIWqv5"
      },
      "source": [
        "### Using BoW"
      ]
    },
    {
      "cell_type": "code",
      "metadata": {
        "id": "cQkcZJb_Wtqe"
      },
      "source": [
        "import keras.layers as L\n",
        "import keras.backend as K\n",
        "\n",
        "class NonZeroMean(L.Layer):\n",
        "  def call(self, x): \n",
        "    \"\"\"Calculate non-zero mean.\"\"\"\n",
        "    # count the number of nonzero features on embedding axis\n",
        "    nonzero = K.any(K.not_equal(x, 0.0), axis=-1)\n",
        "    n = K.sum(K.cast(nonzero, 'float32'), axis=-1, keepdims=True)\n",
        "    # average on max_tokens axis\n",
        "    x_mean = K.sum(x, axis=-2) / n\n",
        "    return x_mean\n",
        "\n",
        "  def compute_output_shape(self, input_shape):\n",
        "    \"\"\"Collapse summation axis.\"\"\"\n",
        "    return input_shape[:-2] + (input_shape[-1],)"
      ],
      "execution_count": 54,
      "outputs": []
    },
    {
      "cell_type": "code",
      "metadata": {
        "id": "pPYUfWzilT5-"
      },
      "source": [
        "def bow_model():\n",
        "  claim_outputs4 = NonZeroMean()(claim_outputs)\n",
        "  evidence_outputs4 = NonZeroMean()(evidence_outputs)\n",
        "  return claim_outputs4, evidence_outputs4"
      ],
      "execution_count": 55,
      "outputs": []
    },
    {
      "cell_type": "markdown",
      "metadata": {
        "id": "fYAHp1SthFLm"
      },
      "source": [
        "## Final part of the model"
      ]
    },
    {
      "cell_type": "code",
      "metadata": {
        "id": "4OKk6Htb4UKH"
      },
      "source": [
        "def concat_model(claim_model, evidence_model):\n",
        "  claim = Dropout(0.2)(claim_model.output)\n",
        "  evidence = Dropout(0.2)(evidence_model.output)\n",
        "  combined = concatenate([claim, evidence, sentence_similarity], name='combined_output')\n",
        "\n",
        "  combined = Dense(128, activation='relu')(combined)\n",
        "  combined = Dense(64, activation='relu')(combined)\n",
        "  z = Dense(1, activation='sigmoid')(combined)\n",
        "  return z"
      ],
      "execution_count": 56,
      "outputs": []
    },
    {
      "cell_type": "code",
      "metadata": {
        "id": "zt0269pInUJM"
      },
      "source": [
        "def concat_model_w_similarity(claim_model, evidence_model):\r\n",
        "  claim = Dropout(0.2)(claim_model.output)\r\n",
        "  evidence = Dropout(0.2)(evidence_model.output)\r\n",
        "  combined = concatenate([claim, evidence, sentence_similarity], name='combined_output')\r\n",
        "\r\n",
        "  combined = Dense(128, activation='relu')(combined)\r\n",
        "  combined = Dense(64, activation='relu')(combined)\r\n",
        "  z = Dense(1, activation='sigmoid')(combined)\r\n",
        "  return z"
      ],
      "execution_count": 57,
      "outputs": []
    },
    {
      "cell_type": "code",
      "metadata": {
        "id": "hIITxbfe4diD"
      },
      "source": [
        "def sum_model(claim_model, evidence_model):\n",
        "  claim = Dropout(0.2)(claim_model.output)\n",
        "  evidence = Dropout(0.2)(evidence_model.output)\n",
        "  combined = Add()([claim, evidence])\n",
        "\n",
        "  combined = Dense(128, activation='relu')(combined)\n",
        "  combined = Dense(64, activation='relu')(combined)\n",
        "  z = Dense(1, activation='sigmoid')(combined)\n",
        "  return z"
      ],
      "execution_count": 58,
      "outputs": []
    },
    {
      "cell_type": "code",
      "metadata": {
        "id": "9-pLpxe04dp2"
      },
      "source": [
        "def mean_model(claim_model, evidence_model):\n",
        "  claim = Dropout(0.2)(claim_model.output)\n",
        "  evidence = Dropout(0.2)(evidence_model.output)\n",
        "  combined = Average()([claim, evidence])\n",
        "\n",
        "  combined = Dense(128, activation='relu')(combined)\n",
        "  combined = Dense(64, activation='relu')(combined)\n",
        "  combined = Dense(2, activation='relu')(combined)\n",
        "  z = Dense(1, activation='sigmoid')(combined)\n",
        "  return z"
      ],
      "execution_count": 59,
      "outputs": []
    },
    {
      "cell_type": "code",
      "metadata": {
        "id": "oeFR9SFsEmDz"
      },
      "source": [
        "# encode class values as integers\n",
        "from sklearn.preprocessing import LabelEncoder\n",
        "from sklearn.metrics import classification_report\n",
        "\n",
        "encoder = LabelEncoder()\n",
        "encoder.fit(y_train)\n",
        "\n",
        "encoded_Y_train = encoder.transform(y_train)\n",
        "encoded_Y_val = encoder.transform(y_val)\n",
        "encoded_Y_test = encoder.transform(y_test)"
      ],
      "execution_count": 60,
      "outputs": []
    },
    {
      "cell_type": "markdown",
      "metadata": {
        "id": "1bms19rSC5ww"
      },
      "source": [
        "# TRAINING"
      ]
    },
    {
      "cell_type": "markdown",
      "metadata": {
        "id": "m8_NZQwfQqVH"
      },
      "source": [
        "### The following training cell trains every possible combination of model and merging strategy, skip to test the best one"
      ]
    },
    {
      "cell_type": "code",
      "metadata": {
        "id": "slHY-RrNmh7J"
      },
      "source": [
        "model1 = {0:'LAST STATE', 1:'AVG STATES', 2:'MLP', 3:'BoW'}\r\n",
        "multi = {0:'CONCATENATE', 1:'SUM', 2:'MEAN'}\r\n",
        "for x in range(4):\r\n",
        "  for y in range(3):\r\n",
        "    encoder = TFBertModel(config=configuration)\r\n",
        "\r\n",
        "    claim_outputs = encoder(claim_input)[0]\r\n",
        "    evidence_outputs = encoder(evidence_input)[0]\r\n",
        "\r\n",
        "    if x == 0:\r\n",
        "      print('LAST STATE')\r\n",
        "      claim_outputs_fin, evidence_outputs_fin = last_state_model()\r\n",
        "    elif x == 1:\r\n",
        "      print('AVG STATES')\r\n",
        "      claim_outputs_fin, evidence_outputs_fin = avg_model()\r\n",
        "    elif x == 2:\r\n",
        "      print('MLP')\r\n",
        "      claim_outputs_fin, evidence_outputs_fin = mlp_model()\r\n",
        "    elif x == 3:\r\n",
        "      print('BoW')\r\n",
        "      claim_outputs_fin, evidence_outputs_fin = bow_model()\r\n",
        "\r\n",
        "    claim_model = Model(inputs=claim_input, outputs=claim_outputs_fin)\r\n",
        "    evidence_model = Model(inputs=evidence_input, outputs=evidence_outputs_fin)\r\n",
        "\r\n",
        "    sentence_similarity = Dot(axes=1)([claim_model.output, evidence_model.output]) \r\n",
        "    if y == 0:\r\n",
        "      print('CONCATENATE')\r\n",
        "      z = concat_model(claim_model, evidence_model)\r\n",
        "    elif y == 1:\r\n",
        "      print('SUM')\r\n",
        "      z = sum_model(claim_model, evidence_model)\r\n",
        "    elif y == 2:\r\n",
        "      print('MEAN')\r\n",
        "      z = mean_model(claim_model, evidence_model)\r\n",
        "\r\n",
        "    model = Model(inputs=[claim_model.input, evidence_model.input], outputs=z)\r\n",
        "    model.compile(loss='binary_crossentropy', optimizer='adam', metrics=['accuracy'])\r\n",
        "    #model.summary()\r\n",
        "    model.fit([train_sentences_X_claim, train_sentences_X_evidence], encoded_Y_train, batch_size=320, epochs=5, validation_data=([val_sentences_X_claim, val_sentences_X_evidence], encoded_Y_val))\r\n",
        "    #model.save('{}_{}'.format(model1[x], multi[y]))\r\n",
        "    model.evaluate([val_sentences_X_claim, val_sentences_X_evidence], encoded_Y_val)\r\n",
        "    y_pred = model.predict([test_sentences_X_claim, test_sentences_X_evidence])\r\n",
        "    print(classification_report(encoded_Y_test, np.round(y_pred)))"
      ],
      "execution_count": null,
      "outputs": []
    },
    {
      "cell_type": "markdown",
      "metadata": {
        "id": "h4s_LNS-Q_5x"
      },
      "source": [
        "# BEST MODEL"
      ]
    },
    {
      "cell_type": "code",
      "metadata": {
        "id": "cUXTTJPiDO9T",
        "outputId": "1fe4d5c5-f829-4162-cf4d-39b2e15d1434",
        "colab": {
          "base_uri": "https://localhost:8080/"
        }
      },
      "source": [
        "# Training of a model and a strategy with the optional cosine similarity feature\n",
        "import warnings\n",
        "warnings.filterwarnings('ignore')\n",
        "print('LAST HIDDEN STATES MODEL CONCATENATED WITH COSINE SIMILARITY')\n",
        "encoder = TFBertModel(config=configuration)\n",
        "claim_outputs = encoder(claim_input)[0]\n",
        "evidence_outputs = encoder(evidence_input)[0]\n",
        "claim_outputs_fin, evidence_outputs_fin = last_state_model()\n",
        "claim_model = Model(inputs=claim_input, outputs=claim_outputs_fin)\n",
        "evidence_model = Model(inputs=evidence_input, outputs=evidence_outputs_fin)\n",
        "\n",
        "sentence_similarity = Dot(axes=1)([claim_model.output, evidence_model.output]) \n",
        "\n",
        "z = concat_model_w_similarity(claim_model, evidence_model)\n",
        "\n",
        "model = Model(inputs=[claim_model.input, evidence_model.input], outputs=z)\n",
        "model.compile(loss='binary_crossentropy', optimizer='adam', metrics=['accuracy'])\n",
        "model.summary()\n",
        "model.fit([train_sentences_X_claim, train_sentences_X_evidence], encoded_Y_train, batch_size=128, epochs=10, validation_data=([val_sentences_X_claim, val_sentences_X_evidence], encoded_Y_val))\n",
        "model.evaluate([val_sentences_X_claim, val_sentences_X_evidence], encoded_Y_val)\n",
        "\n",
        "y_pred = model.predict([val_sentences_X_claim, val_sentences_X_evidence])\n",
        "print(classification_report(encoded_Y_val, np.round(y_pred)))"
      ],
      "execution_count": null,
      "outputs": [
        {
          "output_type": "stream",
          "text": [
            "The parameters `output_attentions`, `output_hidden_states` and `use_cache` cannot be updated when calling a model.They have to be set to True/False in the config object (i.e.: `config=XConfig.from_pretrained('name', output_attentions=True)`).\n",
            "The parameter `return_dict` cannot be set in graph mode and will always be set to `True`.\n"
          ],
          "name": "stderr"
        },
        {
          "output_type": "stream",
          "text": [
            "LAST HIDDEN STATES MODEL CONCATENATED WITH COSINE SIMILARITY\n"
          ],
          "name": "stdout"
        },
        {
          "output_type": "stream",
          "text": [
            "The parameters `output_attentions`, `output_hidden_states` and `use_cache` cannot be updated when calling a model.They have to be set to True/False in the config object (i.e.: `config=XConfig.from_pretrained('name', output_attentions=True)`).\n",
            "The parameter `return_dict` cannot be set in graph mode and will always be set to `True`.\n",
            "The parameters `output_attentions`, `output_hidden_states` and `use_cache` cannot be updated when calling a model.They have to be set to True/False in the config object (i.e.: `config=XConfig.from_pretrained('name', output_attentions=True)`).\n",
            "The parameter `return_dict` cannot be set in graph mode and will always be set to `True`.\n"
          ],
          "name": "stderr"
        },
        {
          "output_type": "stream",
          "text": [
            "Model: \"model_11\"\n",
            "__________________________________________________________________________________________________\n",
            "Layer (type)                    Output Shape         Param #     Connected to                     \n",
            "==================================================================================================\n",
            "claim_input (InputLayer)        [(None, 65)]         0                                            \n",
            "__________________________________________________________________________________________________\n",
            "evidence_input (InputLayer)     [(None, 203)]        0                                            \n",
            "__________________________________________________________________________________________________\n",
            "tf_bert_model_3 (TFBertModel)   multiple             15546624    claim_input[0][0]                \n",
            "                                                                 evidence_input[0][0]             \n",
            "__________________________________________________________________________________________________\n",
            "bidirectional_6 (Bidirectional) [(None, 65, 4112), ( 38044224    tf_bert_model_3[0][0]            \n",
            "__________________________________________________________________________________________________\n",
            "bidirectional_7 (Bidirectional) [(None, 203, 4112),  38044224    tf_bert_model_3[1][0]            \n",
            "__________________________________________________________________________________________________\n",
            "concatenate_6 (Concatenate)     (None, 4112)         0           bidirectional_6[0][1]            \n",
            "                                                                 bidirectional_6[0][3]            \n",
            "__________________________________________________________________________________________________\n",
            "concatenate_7 (Concatenate)     (None, 4112)         0           bidirectional_7[0][1]            \n",
            "                                                                 bidirectional_7[0][3]            \n",
            "__________________________________________________________________________________________________\n",
            "dropout_22 (Dropout)            (None, 4112)         0           concatenate_6[0][0]              \n",
            "__________________________________________________________________________________________________\n",
            "dropout_23 (Dropout)            (None, 4112)         0           concatenate_7[0][0]              \n",
            "__________________________________________________________________________________________________\n",
            "dot_3 (Dot)                     (None, 1)            0           concatenate_6[0][0]              \n",
            "                                                                 concatenate_7[0][0]              \n",
            "__________________________________________________________________________________________________\n",
            "combined_output (Concatenate)   (None, 8225)         0           dropout_22[0][0]                 \n",
            "                                                                 dropout_23[0][0]                 \n",
            "                                                                 dot_3[0][0]                      \n",
            "__________________________________________________________________________________________________\n",
            "dense_9 (Dense)                 (None, 128)          1052928     combined_output[0][0]            \n",
            "__________________________________________________________________________________________________\n",
            "dense_10 (Dense)                (None, 64)           8256        dense_9[0][0]                    \n",
            "__________________________________________________________________________________________________\n",
            "dense_11 (Dense)                (None, 1)            65          dense_10[0][0]                   \n",
            "==================================================================================================\n",
            "Total params: 92,696,321\n",
            "Trainable params: 92,696,321\n",
            "Non-trainable params: 0\n",
            "__________________________________________________________________________________________________\n",
            "Epoch 1/10\n"
          ],
          "name": "stdout"
        },
        {
          "output_type": "stream",
          "text": [
            "The parameters `output_attentions`, `output_hidden_states` and `use_cache` cannot be updated when calling a model.They have to be set to True/False in the config object (i.e.: `config=XConfig.from_pretrained('name', output_attentions=True)`).\n",
            "The parameter `return_dict` cannot be set in graph mode and will always be set to `True`.\n"
          ],
          "name": "stderr"
        },
        {
          "output_type": "stream",
          "text": [
            "WARNING:tensorflow:Gradients do not exist for variables ['tf_bert_model_3/bert/pooler/dense/kernel:0', 'tf_bert_model_3/bert/pooler/dense/bias:0'] when minimizing the loss.\n"
          ],
          "name": "stdout"
        },
        {
          "output_type": "stream",
          "text": [
            "The parameters `output_attentions`, `output_hidden_states` and `use_cache` cannot be updated when calling a model.They have to be set to True/False in the config object (i.e.: `config=XConfig.from_pretrained('name', output_attentions=True)`).\n",
            "The parameter `return_dict` cannot be set in graph mode and will always be set to `True`.\n",
            "The parameters `output_attentions`, `output_hidden_states` and `use_cache` cannot be updated when calling a model.They have to be set to True/False in the config object (i.e.: `config=XConfig.from_pretrained('name', output_attentions=True)`).\n",
            "The parameter `return_dict` cannot be set in graph mode and will always be set to `True`.\n"
          ],
          "name": "stderr"
        },
        {
          "output_type": "stream",
          "text": [
            "WARNING:tensorflow:Gradients do not exist for variables ['tf_bert_model_3/bert/pooler/dense/kernel:0', 'tf_bert_model_3/bert/pooler/dense/bias:0'] when minimizing the loss.\n",
            "952/952 [==============================] - ETA: 0s - loss: 0.6533 - accuracy: 0.7257"
          ],
          "name": "stdout"
        },
        {
          "output_type": "stream",
          "text": [
            "The parameters `output_attentions`, `output_hidden_states` and `use_cache` cannot be updated when calling a model.They have to be set to True/False in the config object (i.e.: `config=XConfig.from_pretrained('name', output_attentions=True)`).\n",
            "The parameter `return_dict` cannot be set in graph mode and will always be set to `True`.\n",
            "The parameters `output_attentions`, `output_hidden_states` and `use_cache` cannot be updated when calling a model.They have to be set to True/False in the config object (i.e.: `config=XConfig.from_pretrained('name', output_attentions=True)`).\n",
            "The parameter `return_dict` cannot be set in graph mode and will always be set to `True`.\n"
          ],
          "name": "stderr"
        },
        {
          "output_type": "stream",
          "text": [
            "\b\b\b\b\b\b\b\b\b\b\b\b\b\b\b\b\b\b\b\b\b\b\b\b\b\b\b\b\b\b\b\b\b\b\b\b\b\b\b\b\b\b\b\b\b\b\b\b\b\b\b\b\b\b\b\b\b\b\b\b\b\b\b\b\b\b\b\b\b\b\b\b\b\b\b\b\b\b\b\b\b\b\b\b\r952/952 [==============================] - 1199s 1s/step - loss: 0.6532 - accuracy: 0.7257 - val_loss: 0.8373 - val_accuracy: 0.5040\n",
            "Epoch 2/10\n",
            "952/952 [==============================] - 1190s 1s/step - loss: 0.5323 - accuracy: 0.7578 - val_loss: 0.5802 - val_accuracy: 0.7001\n",
            "Epoch 3/10\n",
            "952/952 [==============================] - 1191s 1s/step - loss: 0.3354 - accuracy: 0.8588 - val_loss: 0.6609 - val_accuracy: 0.7114\n",
            "Epoch 4/10\n",
            "952/952 [==============================] - 1191s 1s/step - loss: 0.2688 - accuracy: 0.8856 - val_loss: 0.5697 - val_accuracy: 0.7382\n",
            "Epoch 5/10\n",
            "952/952 [==============================] - 1191s 1s/step - loss: 0.2374 - accuracy: 0.8966 - val_loss: 0.6525 - val_accuracy: 0.7357\n",
            "Epoch 6/10\n",
            "705/952 [=====================>........] - ETA: 5:02 - loss: 0.2091 - accuracy: 0.9090"
          ],
          "name": "stdout"
        }
      ]
    },
    {
      "cell_type": "markdown",
      "metadata": {
        "id": "kyYUZabrC8PR"
      },
      "source": [
        "# EVALUATION"
      ]
    },
    {
      "cell_type": "markdown",
      "metadata": {
        "id": "n-7rULzI42uY"
      },
      "source": [
        "### Majority voting evaluation (no sensible improvements)"
      ]
    },
    {
      "cell_type": "code",
      "metadata": {
        "id": "5m1emZmzmvti"
      },
      "source": [
        "from collections import defaultdict\r\n",
        "\r\n",
        "def list_duplicates(seq):\r\n",
        "    tally = defaultdict(list)\r\n",
        "    for i,item in enumerate(seq):\r\n",
        "        tally[item].append(i)\r\n",
        "    return (locs for _, locs in tally.items() if len(locs)>1)\r\n",
        "\r\n",
        "def majority_voting_evaluation(split, encoded_labels, predictions):\r\n",
        "    ids = split['ID'].values\r\n",
        "    duplicates_indices = [dup for dup in sorted(list_duplicates(ids))]\r\n",
        "\r\n",
        "    # list of indexes of duplicates to delete\r\n",
        "    flattened = [val for sublist in duplicates_indices for val in sublist[1:]]\r\n",
        "\r\n",
        "    for dup in duplicates_indices:\r\n",
        "        curr_labels = []\r\n",
        "        for d in dup:\r\n",
        "            curr_labels.append(predictions[d])\r\n",
        "            # Majority voting algorithm\r\n",
        "            candidate = 0\r\n",
        "            count = 0\r\n",
        "            for value in curr_labels:\r\n",
        "              if count == 0:\r\n",
        "                candidate = value\r\n",
        "              if candidate == value:\r\n",
        "                count += 1\r\n",
        "              else:\r\n",
        "                count -= 1\r\n",
        "            voted_label = candidate\r\n",
        "            predictions[dup[0]] = voted_label\r\n",
        "\r\n",
        "    real_labels = np.delete(encoded_labels, flattened) # delete labels of duplicates\r\n",
        "    predictions = np.delete(predictions, flattened)\r\n",
        "\r\n",
        "    return real_labels, predictions"
      ],
      "execution_count": 117,
      "outputs": []
    },
    {
      "cell_type": "code",
      "metadata": {
        "id": "0Az5jHVqf51U",
        "colab": {
          "base_uri": "https://localhost:8080/"
        },
        "outputId": "8899972a-a38d-4f2c-905e-7e80755c026f"
      },
      "source": [
        "y_true, y_predicted = majority_voting_evaluation(val, encoded_Y_val, y_pred)\r\n",
        "print(classification_report(y_true, np.round(y_predicted)))"
      ],
      "execution_count": 118,
      "outputs": [
        {
          "output_type": "stream",
          "text": [
            "              precision    recall  f1-score   support\n",
            "\n",
            "           0       0.82      0.58      0.68      3308\n",
            "           1       0.68      0.87      0.76      3304\n",
            "\n",
            "    accuracy                           0.73      6612\n",
            "   macro avg       0.75      0.73      0.72      6612\n",
            "weighted avg       0.75      0.73      0.72      6612\n",
            "\n"
          ],
          "name": "stdout"
        }
      ]
    },
    {
      "cell_type": "markdown",
      "metadata": {
        "id": "1oXneFQ2C9u7"
      },
      "source": [
        "# COMMENTARY"
      ]
    }
  ]
}